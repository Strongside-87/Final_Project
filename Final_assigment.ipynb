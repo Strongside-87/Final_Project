{
 "cells": [
  {
   "attachments": {},
   "cell_type": "markdown",
   "metadata": {},
   "source": [
    "- 1. hvor lange tid tage det og ankomme til destination\n"
   ]
  },
  {
   "attachments": {},
   "cell_type": "markdown",
   "metadata": {},
   "source": [
    "- 2. Hvor lange tid tage det i genmesnigt for en fire case\n"
   ]
  },
  {
   "attachments": {},
   "cell_type": "markdown",
   "metadata": {},
   "source": [
    "- 3. Zipcode Battalion station area\n"
   ]
  },
  {
   "attachments": {},
   "cell_type": "markdown",
   "metadata": {},
   "source": [
    "- 4. Suppression Units and Personnel\n"
   ]
  },
  {
   "attachments": {},
   "cell_type": "markdown",
   "metadata": {},
   "source": [
    "- 5. Primary Situation\n"
   ]
  },
  {
   "attachments": {},
   "cell_type": "markdown",
   "metadata": {},
   "source": [
    "- 6. Action Taken Primary\n"
   ]
  },
  {
   "attachments": {},
   "cell_type": "markdown",
   "metadata": {},
   "source": [
    "- 7. Action Taken Primary\n"
   ]
  },
  {
   "attachments": {},
   "cell_type": "markdown",
   "metadata": {},
   "source": [
    "- 8. neighborhood_district\n"
   ]
  },
  {
   "attachments": {},
   "cell_type": "markdown",
   "metadata": {},
   "source": [
    "- 9. Point for maps\n"
   ]
  },
  {
   "cell_type": "code",
   "execution_count": 1,
   "metadata": {},
   "outputs": [
    {
     "name": "stderr",
     "output_type": "stream",
     "text": [
      "C:\\Users\\salim\\AppData\\Local\\Temp\\ipykernel_8656\\790445525.py:2: DtypeWarning: Columns (10,12,13,20,38,45,46,55,59) have mixed types. Specify dtype option on import or set low_memory=False.\n",
      "  df = pd.read_csv(\"../Fire_Incidents.csv\")\n"
     ]
    },
    {
     "name": "stdout",
     "output_type": "stream",
     "text": [
      "The number of rows is: 409936\n"
     ]
    }
   ],
   "source": [
    "import pandas as pd\n",
    "df = pd.read_csv(\"../Fire_Incidents.csv\")\n",
    "df['Incident Date'] = pd.to_datetime(df['Incident Date'])\n",
    "\n",
    "# Get the data from date 2010-04-01 to 2023-04-01\n",
    "df = df[(df['Incident Date'] >= '2010-04-01') &\n",
    "        (df['Incident Date'] <= '2023-04-01')]\n",
    "df['Incident Time'] = df['Incident Date'].dt.time\n",
    "\n",
    "df['Incident year'] = df['Incident Date'].dt.year\n",
    "# print the number of rows\n",
    "num_rows = df.shape[0]\n",
    "print(\"The number of rows is:\", num_rows)\n",
    "#print(df.head())\n"
   ]
  },
  {
   "cell_type": "code",
   "execution_count": 2,
   "metadata": {},
   "outputs": [],
   "source": [
    "# get just the data from Sf city\n",
    "df = df[(df['City'] == 'SF') | (df['City'] == 'San Francisco')\n",
    "        | (df['City'] == 'SAN FRANCISCO')]\n",
    "\n",
    "# Deleting all unnaseccary columns\n",
    "df.drop(columns=['Automatic Extinguishing System Present', 'Automatic Extinguishing Sytem Type', 'Automatic Extinguishing Sytem Perfomance',\n",
    "        'Automatic Extinguishing Sytem Failure Reason', 'Number of Sprinkler Heads Operating',\n",
    "        'Detectors Present','Detector Type','Detector Operation','Detector Effectiveness','Detector Failure Reason'], inplace=True)\n"
   ]
  },
  {
   "cell_type": "code",
   "execution_count": 3,
   "metadata": {},
   "outputs": [],
   "source": [
    "df['Primary Situation'].replace(['745 Alarm system sounded/no fire-accidental','735 Alarm system sounded due to malfunction'], '745 Alarm system activation', inplace=True)\n",
    "\n",
    "\n",
    "df = df[df['Primary Situation'] != '554 Assist invalid']\n",
    "\n",
    "\n",
    "# add Situation_by_code\n",
    "df['focuse_Situation_by_number'] = df['Primary Situation'].str[:3]\n",
    "#df.head(100)"
   ]
  },
  {
   "attachments": {},
   "cell_type": "markdown",
   "metadata": {},
   "source": [
    "## Finding Top 10 Situations calls"
   ]
  },
  {
   "cell_type": "code",
   "execution_count": 4,
   "metadata": {},
   "outputs": [
    {
     "name": "stdout",
     "output_type": "stream",
     "text": [
      "['700 False alarm or false call'\n",
      " '324 Motor vehicle accident with no injuries.'\n",
      " '118 Trash or rubbish fire' '322 Vehicle accident with injuries'\n",
      " '711 Municipal alarm system' '113 Cooking fire' '511 Lock-out'\n",
      " '600 Good intent call' '551 Assist PD or other Govern. Agency'\n",
      " '745 Alarm system sounded/no fire-accidental'\n",
      " '735 Alarm system sounded due to malfunction'\n",
      " '550 Public service assistance'\n",
      " '622 No incident found on arrival/disp. addr.' '554 Assist invalid'\n",
      " '321 EMS excluding veh. accident w/injuries' '651 Smoke scare'\n",
      " '442 Overheated motor' '743 Smoke detector'\n",
      " '154 Dumpster/Outside trash receptacle fire'\n",
      " '323 Auto/Ped. Accident (Veh.)' '111 Building fire'\n",
      " '740 Unintentional alarm' '150 Outside rubbish fire'\n",
      " '911 Citizen complaint' '151 Outside rubbish'\n",
      " '611 Dispatched & canceled en route' '744 Detector activation'\n",
      " '641 Vicinity alarm (incid. another location)' '311 Medical assist'\n",
      " '440 Elec. wiring/equip. problem' '714 Central station'\n",
      " '715 Local alarm sys.' '555 Defective elevator'\n",
      " '353 Removal of victim(s) from stalled elev.' '500 Service Call'\n",
      " '300 Rescue' '710 Malicious' '733 Smoke detector activation/malfunction'\n",
      " '445 Arcing' '331 Lock-in (if lock out ' '251 Excess heat'\n",
      " '411 Gasoline or other flammable liquid spill' '522 Water or steam leak'\n",
      " '553 Public service' '510 Person in distress' '160 Special outside fire'\n",
      " '112 Fires in struct. other than in a bldg.' '712 Direct tie to FD'\n",
      " '221 Rupture air or gas' '520 Water problem'\n",
      " '243 Fireworks explosion (no fire)'\n",
      " '652 Steam/vapor/fog/dust mistaken for smoke' '531 Smoke or odor removal'\n",
      " '122 Fire in motor home' '650 Steam/gas mistaken for smoke'\n",
      " '400 Hazardous condition' '412 Gas leak (natural gas or LPG)'\n",
      " '900 Special type of incident' '444 Power line down (wire)'\n",
      " '410 Flammable gas or liquid condition'\n",
      " '352 Extrication of victim(s) from vehicle'\n",
      " '731 Sprinkler activation due to malfunction' '381 Rescue or EMS standby'\n",
      " '422 Chemical spill or leak(haz.)' '463 Vehicle accident'\n",
      " '741 Sprinkler activation/no fire-accidental'\n",
      " '672 Biological hazard investigation'\n",
      " '413 Oil or other combustible liquid spill' '364 Surf rescue'\n",
      " '451 Biological hazard' '361 Swimming/recreational water areas rescue'\n",
      " '131 Passenger vehicle fire' '653 Barbecue'\n",
      " '461 Bldg/structure weakened or collapsed' '730 System malfunction'\n",
      " '132 Road freight or transport vehicle fire' '441 Heatshort circuit'\n",
      " '552 Police matter' '356 High angle rescue' '541 Animal problem'\n",
      " '460 Accident' '734 Heat detector activation/malfunction'\n",
      " '512 Ring or jewelry removal' '350 Extrication' '210 Steam Rupture'\n",
      " '542 Animal rescue' '736 CO detector activation/malfunction'\n",
      " '357 Extrication of victim(s) from machinery' '423 Refrigeration leak'\n",
      " '661 EMS call' '143 Grass fire' '800 Severe weather/Nat. disaster'\n",
      " '540 Animal problem' '671 Hazmat release investigation w/no hazmat'\n",
      " '130 Mobile property (vehicle) fire' '162 Outside equipment fire'\n",
      " '114 Chimney/flue fire' '443 Light ballast breakdown' 'Y -'\n",
      " '732 Exting. sys. activation/ malfunction' '365 Watercraft rescue'\n",
      " '340 Search' '521 Water evacuation'\n",
      " '138 Off-road vehicle or heavy equipment fire' '164 Outside mailbox fire'\n",
      " '140 Natural vegetation fire' '142 Brush' '713 Telephone'\n",
      " '420 Toxic condition' '746 CO detector activation'\n",
      " '371 Electrocution or potential electrocution'\n",
      " '421 Chemical hazard (no spill or leak)' '751 Biological hazard'\n",
      " '223 Air/gas rupture of pressure or process' '480 Attempted burning'\n",
      " '342 Search for person in water' '424 Carbon monoxide incident'\n",
      " '471 Explosive/bomb removal(bomb scare =721)'\n",
      " '220 Rupture from air or gas' '742 Extinguishing system activation'\n",
      " '341 Search for person on land' '482 Threat to burn' '621 Wrong location'\n",
      " '812 Flood assessment' '360 Water & ice related rescue' '141 Forest'\n",
      " '241 Munitions or bomb explosion (no fire)'\n",
      " '117 Commercial Compactor fire' '240 Explosion (no fire)'\n",
      " '351 Extrication of victim(s) from Structure' '161 Outside storage fire'\n",
      " '561 Unauthorized burning' '116 Fuel burner/boiler mal.' 'N/A -'\n",
      " '571 Cover assignment' '173 Cultivated trees or nursery stock fire'\n",
      " '211 Steam Rupture' '242 Blasting agent explosion (no fire)'\n",
      " '200 Overpressure rupture/explosion' '354 Trench/below grade rescue'\n",
      " '370 Electrical rescue' '721 Bomb scare no bomb' '632 Prescribed fire'\n",
      " '481 Attempt to burn' '123 Fire in portable bldg.'\n",
      " '631 Authorized controlled burning'\n",
      " '137 Camper or recreational vehicle (RV) fire' '213 Steam rupture'\n",
      " '134 Water vehicle fire (Boat' '363 Swift water rescue' '100 Fire'\n",
      " '163 Outside gas/vapor combustion explosion'\n",
      " '212 Overpressure rupture of steam boiler' '813 Wind storm'\n",
      " '372 Trapped by power lines' '322 Motor vehicle accident with injuries'\n",
      " '170 Cultivated vegetation' '355 Confined space rescue'\n",
      " '115 Incinerator overload/mal.'\n",
      " '155 Outside compactor/compacted trash fire'\n",
      " '320 Emergency Medical Services' '431 Radiation leak'\n",
      " '152 Garbage dump or sanitary landfill fire'\n",
      " '815 Severe weather/Nat. Disaster standby'\n",
      " '222 Rupture of boiler from air or gas' '430 Radioactive condition'\n",
      " '120 Fire mob.prop. used as fixed structure'\n",
      " '343 Search for person underground' '244 Dust Explosion (no fire)'\n",
      " '153 Construction or demolition landfill fire'\n",
      " '320 Emergency medical service incident' '743 Smoke detector activation'\n",
      " '745 Alarm system activation'\n",
      " '323 Motor vehicle/pedestrian accident (MV Ped)'\n",
      " '440 Electrical  wiring/equipment problem'\n",
      " '142 Brush or brush-and-grass mixture fire'\n",
      " '112 Fires in structure other than in a building'\n",
      " '740 Unintentional transmission of alarm' '444 Power line down'\n",
      " '736 CO detector activation due to malfunction'\n",
      " '622 No incident found on arrival at dispatch address'\n",
      " '733 Smoke detector activation due to malfunction' '251 Excessive heat'\n",
      " '715 Local alarm system' '653 Smoke from barbecue'\n",
      " '154 Dumpster or other outside trash receptacle fire'\n",
      " '441 Heat from short circuit (wiring)'\n",
      " '732 Extinguishing system activation due to malfunction'\n",
      " '551 Assist police or other governmental agency'\n",
      " '353 Removal of victim(s) from stalled elevator' '650 Steam'\n",
      " '321 EMS call' '746 Carbon monoxide detector activation'\n",
      " '741 Sprinkler activation'\n",
      " '461 Building or structure weakened or collapsed'\n",
      " '1230 Fire in portable building (Port-A-Potty)'\n",
      " '121 Fire in mob. home used as residence'\n",
      " '222 Overpressure rupture of boiler from air or gas'\n",
      " '671 HazMat release investigation w/no HazMat'\n",
      " '210 Overpressure rupture from steam'\n",
      " '410 Combustible/flammable gas/liquid condition'\n",
      " '422 Chemical spill or leak' '652 Steam' '200 Overpressure rupture'\n",
      " '351 Extrication of victim(s) from building/structure'\n",
      " '360 Water & ice-related rescue' '114 Chimney or flue fire'\n",
      " '734 Heat detector activation due to malfunction'\n",
      " '220 Overpressure rupture from air or gas'\n",
      " '641 Vicinity alarm (incident in other location)'\n",
      " '211 Overpressure rupture of steam pipe or pipeline'\n",
      " '356 High-angle rescue'\n",
      " '155 Outside stationary compactor/compacted trash fire'\n",
      " '115 Incinerator overload or malfunction'\n",
      " '121 Fire in mobile home used as fixed residence'\n",
      " '443 Breakdown of light ballast' '340 Search for lost person'\n",
      " '471 Explosive' '213 Steam rupture of pressure or process vessel'\n",
      " '800 Severe weather or natural disaster'\n",
      " '136 Self-propelled motor home or recreational vehicle'\n",
      " '163 Outside gas or vapor combustion explosion' '462 Aircraft standby'\n",
      " '134 Water vehicle fire' '123 Fire in portable building'\n",
      " '116 Fuel burner/boiler malfunction'\n",
      " '221 Overpressure rupture of air or gas pipe/pipeline'\n",
      " '815 Severe weather or natural disaster standby' '133 Rail vehicle fire'\n",
      " '223 Air or gas rupture of pressure or process vessel'\n",
      " '354 Trench/below-grade rescue'\n",
      " '231 Chemical reaction rupture of process vessel'\n",
      " '120 Fire in mobile prop. used as a fixed struc.'\n",
      " '1600 Tent/Encampment fire' '814 Lightning strike (no fire)'\n",
      " '4000 Tent/Encampment hazardous condition'\n",
      " '1620 Outside PG&E equipment fire' '4440 PG&E Power line down'\n",
      " '4450 Arcing' '244 Dust explosion (no fire)']\n"
     ]
    }
   ],
   "source": [
    "df['Primary Situation'] = df['Primary Situation'].str.replace('- ', '')\n",
    "df.dropna(subset=['Primary Situation'], inplace=True)\n",
    "df['Primary Situation'] = df['Primary Situation'].dropna().apply(lambda x: x.split(',')[0])\n",
    "#print(call_Situation)\n",
    "\n",
    "call_Situation = df['Primary Situation']\n",
    "len(call_Situation)\n",
    "ListOfSituation = call_Situation.unique()\n",
    "print(ListOfSituation)\n",
    "# by using unique() fun we can se the diffrenet type of data\n",
    "\n",
    "Situation_count = call_Situation.value_counts()\n",
    "\n",
    "# Get the top 15 most frequent situations\n",
    "top10 = Situation_count.nlargest(10)  \n",
    "#print(top10)\n",
    "#print(call_Situation)\n"
   ]
  },
  {
   "cell_type": "code",
   "execution_count": 5,
   "metadata": {},
   "outputs": [
    {
     "data": {
      "image/png": "[encoded data removed]",
      "text/plain": [
       "<Figure size 1600x700 with 1 Axes>"
      ]
     },
     "metadata": {},
     "output_type": "display_data"
    }
   ],
   "source": [
    "import matplotlib.pyplot as plt\n",
    "import mplcursors \n",
    "import seaborn as sns\n",
    "\n",
    "fig, ax = plt.subplots(figsize=(16, 7))\n",
    "\n",
    "# define a color map\n",
    "cmap = sns.color_palette(\"ch:s=-.2,r=.6\")[::-1]\n",
    "\n",
    "# plot the top 10 situations with the colormap\n",
    "top10.plot(kind='bar', color=cmap, ax=ax)\n",
    "\n",
    "# set the chart title and axis labels\n",
    "plt.title('Top 10 Situations calls', fontsize=20)\n",
    "plt.xlabel('Call Type', fontsize=16)\n",
    "plt.ylabel('count', fontsize=16)\n",
    "\n",
    "# add grid lines\n",
    "ax.grid(True)\n",
    "\n",
    "# adjust x-tick labels rotation and font size\n",
    "plt.xticks(rotation=15, fontsize=10)\n",
    "new_xticklabels = [label.get_text()[3:] for label in ax.get_xticklabels()]\n",
    "ax.set_xticklabels(new_xticklabels)\n",
    "\n",
    "# add legend\n",
    "ax.legend(loc='upper right')\n",
    "\n",
    "# add annotations\n",
    "mplcursors.cursor(ax, hover=True).connect('add', lambda sel: sel.annotation.set_text(f\"Situation: {sel.artist.get_label()}\\nCalls: {sel.target.get_height()}\"))\n",
    "\n",
    "# adjust spacing\n",
    "fig.tight_layout()\n",
    "\n",
    "fig.subplots_adjust(bottom=0.2)\n",
    "# display the chart\n",
    "\n",
    "\n",
    "plt.show()\n"
   ]
  },
  {
   "attachments": {},
   "cell_type": "markdown",
   "metadata": {},
   "source": [
    "## Finding count of number of alarms in every neighborhood district"
   ]
  },
  {
   "cell_type": "code",
   "execution_count": 6,
   "metadata": {},
   "outputs": [
    {
     "name": "stdout",
     "output_type": "stream",
     "text": [
      "---------------------------------------------------------\n"
     ]
    }
   ],
   "source": [
    "neighborhood = df['neighborhood_district']\n",
    "\n",
    "ListOfneighborhood = neighborhood.dropna().unique()\n",
    "#print(ListOfneighborhood)\n",
    "\n",
    "#print(\"the len of neighborhood is: \" ,len(ListOfneighborhood))\n",
    "print(\"---------------------------------------------------------\")\n",
    "zipcode =df['zipcode'].str[:5]\n",
    "ListOfzipcode = zipcode.dropna().unique()\n",
    "#print(ListOfzipcode)\n",
    "#print(\"the len of zipcode is: \", len(ListOfzipcode))\n"
   ]
  },
  {
   "attachments": {},
   "cell_type": "markdown",
   "metadata": {},
   "source": [
    "We can se that the neighborhood and zipcode are too match value, and becouse of that I choosed to show the data with Battalion becouse we have at all 10 Battalions and that's better to understand"
   ]
  },
  {
   "cell_type": "code",
   "execution_count": 7,
   "metadata": {},
   "outputs": [
    {
     "name": "stdout",
     "output_type": "stream",
     "text": [
      "the len of district is:  11\n"
     ]
    }
   ],
   "source": [
    "district = df['Battalion']\n",
    "df = df[df['Battalion'] != 'B99']\n",
    "ListOfdistrict = district.dropna().unique()\n",
    "#print(ListOfdistrict)\n",
    "\n",
    "print(\"the len of district is: \" ,len(ListOfdistrict))\n",
    "#df.head()"
   ]
  },
  {
   "cell_type": "code",
   "execution_count": 8,
   "metadata": {},
   "outputs": [
    {
     "data": {
      "text/html": [
       "<style>\n",
       "        .bk-notebook-logo {\n",
       "            display: block;\n",
       "            width: 20px;\n",
       "            height: 20px;\n",
       "            background-image: url(data:image/png;base64,iVBORw0KGgoAAAANSUhEUgAAABQAAAAUCAYAAACNiR0NAAAABHNCSVQICAgIfAhkiAAAAAlwSFlzAAALEgAACxIB0t1+/AAAABx0RVh0U29mdHdhcmUAQWRvYmUgRmlyZXdvcmtzIENTNui8sowAAAOkSURBVDiNjZRtaJVlGMd/1/08zzln5zjP1LWcU9N0NkN8m2CYjpgQYQXqSs0I84OLIC0hkEKoPtiH3gmKoiJDU7QpLgoLjLIQCpEsNJ1vqUOdO7ppbuec5+V+rj4ctwzd8IIbbi6u+8f1539dt3A78eXC7QizUF7gyV1fD1Yqg4JWz84yffhm0qkFqBogB9rM8tZdtwVsPUhWhGcFJngGeWrPzHm5oaMmkfEg1usvLFyc8jLRqDOMru7AyC8saQr7GG7f5fvDeH7Ej8CM66nIF+8yngt6HWaKh7k49Soy9nXurCi1o3qUbS3zWfrYeQDTB/Qj6kX6Ybhw4B+bOYoLKCC9H3Nu/leUTZ1JdRWkkn2ldcCamzrcf47KKXdAJllSlxAOkRgyHsGC/zRday5Qld9DyoM4/q/rUoy/CXh3jzOu3bHUVZeU+DEn8FInkPBFlu3+nW3Nw0mk6vCDiWg8CeJaxEwuHS3+z5RgY+YBR6V1Z1nxSOfoaPa4LASWxxdNp+VWTk7+4vzaou8v8PN+xo+KY2xsw6une2frhw05CTYOmQvsEhjhWjn0bmXPjpE1+kplmmkP3suftwTubK9Vq22qKmrBhpY4jvd5afdRA3wGjFAgcnTK2s4hY0/GPNIb0nErGMCRxWOOX64Z8RAC4oCXdklmEvcL8o0BfkNK4lUg9HTl+oPlQxdNo3Mg4Nv175e/1LDGzZen30MEjRUtmXSfiTVu1kK8W4txyV6BMKlbgk3lMwYCiusNy9fVfvvwMxv8Ynl6vxoByANLTWplvuj/nF9m2+PDtt1eiHPBr1oIfhCChQMBw6Aw0UulqTKZdfVvfG7VcfIqLG9bcldL/+pdWTLxLUy8Qq38heUIjh4XlzZxzQm19lLFlr8vdQ97rjZVOLf8nclzckbcD4wxXMidpX30sFd37Fv/GtwwhzhxGVAprjbg0gCAEeIgwCZyTV2Z1REEW8O4py0wsjeloKoMr6iCY6dP92H6Vw/oTyICIthibxjm/DfN9lVz8IqtqKYLUXfoKVMVQVVJOElGjrnnUt9T9wbgp8AyYKaGlqingHZU/uG2NTZSVqwHQTWkx9hxjkpWDaCg6Ckj5qebgBVbT3V3NNXMSiWSDdGV3hrtzla7J+duwPOToIg42ChPQOQjspnSlp1V+Gjdged7+8UN5CRAV7a5EdFNwCjEaBR27b3W890TE7g24NAP/mMDXRWrGoFPQI9ls/MWO2dWFAar/xcOIImbbpA3zgAAAABJRU5ErkJggg==);\n",
       "        }\n",
       "    </style>\n",
       "    <div>\n",
       "        <a href=\"https://bokeh.org\" target=\"_blank\" class=\"bk-notebook-logo\"></a>\n",
       "        <span id=\"p1004\">Loading BokehJS ...</span>\n",
       "    </div>\n"
      ]
     },
     "metadata": {},
     "output_type": "display_data"
    },
    {
     "data": {
      "application/javascript": "(function(root) {\n  function now() {\n    return new Date();\n  }\n\n  const force = true;\n\n  if (typeof root._bokeh_onload_callbacks === \"undefined\" || force === true) {\n    root._bokeh_onload_callbacks = [];\n    root._bokeh_is_loading = undefined;\n  }\n\nconst JS_MIME_TYPE = 'application/javascript';\n  const HTML_MIME_TYPE = 'text/html';\n  const EXEC_MIME_TYPE = 'application/vnd.bokehjs_exec.v0+json';\n  const CLASS_NAME = 'output_bokeh rendered_html';\n\n  /**\n   * Render data to the DOM node\n   */\n  function render(props, node) {\n    const script = document.createElement(\"script\");\n    node.appendChild(script);\n  }\n\n  /**\n   * Handle when an output is cleared or removed\n   */\n  function handleClearOutput(event, handle) {\n    const cell = handle.cell;\n\n    const id = cell.output_area._bokeh_element_id;\n    const server_id = cell.output_area._bokeh_server_id;\n    // Clean up Bokeh references\n    if (id != null && id in Bokeh.index) {\n      Bokeh.index[id].model.document.clear();\n      delete Bokeh.index[id];\n    }\n\n    if (server_id !== undefined) {\n      // Clean up Bokeh references\n      const cmd_clean = \"from bokeh.io.state import curstate; print(curstate().uuid_to_server['\" + server_id + \"'].get_sessions()[0].document.roots[0]._id)\";\n      cell.notebook.kernel.execute(cmd_clean, {\n        iopub: {\n          output: function(msg) {\n            const id = msg.content.text.trim();\n            if (id in Bokeh.index) {\n              Bokeh.index[id].model.document.clear();\n              delete Bokeh.index[id];\n            }\n          }\n        }\n      });\n      // Destroy server and session\n      const cmd_destroy = \"import bokeh.io.notebook as ion; ion.destroy_server('\" + server_id + \"')\";\n      cell.notebook.kernel.execute(cmd_destroy);\n    }\n  }\n\n  /**\n   * Handle when a new output is added\n   */\n  function handleAddOutput(event, handle) {\n    const output_area = handle.output_area;\n    const output = handle.output;\n\n    // limit handleAddOutput to display_data with EXEC_MIME_TYPE content only\n    if ((output.output_type != \"display_data\") || (!Object.prototype.hasOwnProperty.call(output.data, EXEC_MIME_TYPE))) {\n      return\n    }\n\n    const toinsert = output_area.element.find(\".\" + CLASS_NAME.split(' ')[0]);\n\n    if (output.metadata[EXEC_MIME_TYPE][\"id\"] !== undefined) {\n      toinsert[toinsert.length - 1].firstChild.textContent = output.data[JS_MIME_TYPE];\n      // store reference to embed id on output_area\n      output_area._bokeh_element_id = output.metadata[EXEC_MIME_TYPE][\"id\"];\n    }\n    if (output.metadata[EXEC_MIME_TYPE][\"server_id\"] !== undefined) {\n      const bk_div = document.createElement(\"div\");\n      bk_div.innerHTML = output.data[HTML_MIME_TYPE];\n      const script_attrs = bk_div.children[0].attributes;\n      for (let i = 0; i < script_attrs.length; i++) {\n        toinsert[toinsert.length - 1].firstChild.setAttribute(script_attrs[i].name, script_attrs[i].value);\n        toinsert[toinsert.length - 1].firstChild.textContent = bk_div.children[0].textContent\n      }\n      // store reference to server id on output_area\n      output_area._bokeh_server_id = output.metadata[EXEC_MIME_TYPE][\"server_id\"];\n    }\n  }\n\n  function register_renderer(events, OutputArea) {\n\n    function append_mime(data, metadata, element) {\n      // create a DOM node to render to\n      const toinsert = this.create_output_subarea(\n        metadata,\n        CLASS_NAME,\n        EXEC_MIME_TYPE\n      );\n      this.keyboard_manager.register_events(toinsert);\n      // Render to node\n      const props = {data: data, metadata: metadata[EXEC_MIME_TYPE]};\n      render(props, toinsert[toinsert.length - 1]);\n      element.append(toinsert);\n      return toinsert\n    }\n\n    /* Handle when an output is cleared or removed */\n    events.on('clear_output.CodeCell', handleClearOutput);\n    events.on('delete.Cell', handleClearOutput);\n\n    /* Handle when a new output is added */\n    events.on('output_added.OutputArea', handleAddOutput);\n\n    /**\n     * Register the mime type and append_mime function with output_area\n     */\n    OutputArea.prototype.register_mime_type(EXEC_MIME_TYPE, append_mime, {\n      /* Is output safe? */\n      safe: true,\n      /* Index of renderer in `output_area.display_order` */\n      index: 0\n    });\n  }\n\n  // register the mime type if in Jupyter Notebook environment and previously unregistered\n  if (root.Jupyter !== undefined) {\n    const events = require('base/js/events');\n    const OutputArea = require('notebook/js/outputarea').OutputArea;\n\n    if (OutputArea.prototype.mime_types().indexOf(EXEC_MIME_TYPE) == -1) {\n      register_renderer(events, OutputArea);\n    }\n  }\n  if (typeof (root._bokeh_timeout) === \"undefined\" || force === true) {\n    root._bokeh_timeout = Date.now() + 5000;\n    root._bokeh_failed_load = false;\n  }\n\n  const NB_LOAD_WARNING = {'data': {'text/html':\n     \"<div style='background-color: #fdd'>\\n\"+\n     \"<p>\\n\"+\n     \"BokehJS does not appear to have successfully loaded. If loading BokehJS from CDN, this \\n\"+\n     \"may be due to a slow or bad network connection. Possible fixes:\\n\"+\n     \"</p>\\n\"+\n     \"<ul>\\n\"+\n     \"<li>re-rerun `output_notebook()` to attempt to load from CDN again, or</li>\\n\"+\n     \"<li>use INLINE resources instead, as so:</li>\\n\"+\n     \"</ul>\\n\"+\n     \"<code>\\n\"+\n     \"from bokeh.resources import INLINE\\n\"+\n     \"output_notebook(resources=INLINE)\\n\"+\n     \"</code>\\n\"+\n     \"</div>\"}};\n\n  function display_loaded() {\n    const el = document.getElementById(\"p1004\");\n    if (el != null) {\n      el.textContent = \"BokehJS is loading...\";\n    }\n    if (root.Bokeh !== undefined) {\n      if (el != null) {\n        el.textContent = \"BokehJS \" + root.Bokeh.version + \" successfully loaded.\";\n      }\n    } else if (Date.now() < root._bokeh_timeout) {\n      setTimeout(display_loaded, 100)\n    }\n  }\n\n  function run_callbacks() {\n    try {\n      root._bokeh_onload_callbacks.forEach(function(callback) {\n        if (callback != null)\n          callback();\n      });\n    } finally {\n      delete root._bokeh_onload_callbacks\n    }\n    console.debug(\"Bokeh: all callbacks have finished\");\n  }\n\n  function load_libs(css_urls, js_urls, callback) {\n    if (css_urls == null) css_urls = [];\n    if (js_urls == null) js_urls = [];\n\n    root._bokeh_onload_callbacks.push(callback);\n    if (root._bokeh_is_loading > 0) {\n      console.debug(\"Bokeh: BokehJS is being loaded, scheduling callback at\", now());\n      return null;\n    }\n    if (js_urls == null || js_urls.length === 0) {\n      run_callbacks();\n      return null;\n    }\n    console.debug(\"Bokeh: BokehJS not loaded, scheduling load and callback at\", now());\n    root._bokeh_is_loading = css_urls.length + js_urls.length;\n\n    function on_load() {\n      root._bokeh_is_loading--;\n      if (root._bokeh_is_loading === 0) {\n        console.debug(\"Bokeh: all BokehJS libraries/stylesheets loaded\");\n        run_callbacks()\n      }\n    }\n\n    function on_error(url) {\n      console.error(\"failed to load \" + url);\n    }\n\n    for (let i = 0; i < css_urls.length; i++) {\n      const url = css_urls[i];\n      const element = document.createElement(\"link\");\n      element.onload = on_load;\n      element.onerror = on_error.bind(null, url);\n      element.rel = \"stylesheet\";\n      element.type = \"text/css\";\n      element.href = url;\n      console.debug(\"Bokeh: injecting link tag for BokehJS stylesheet: \", url);\n      document.body.appendChild(element);\n    }\n\n    for (let i = 0; i < js_urls.length; i++) {\n      const url = js_urls[i];\n      const element = document.createElement('script');\n      element.onload = on_load;\n      element.onerror = on_error.bind(null, url);\n      element.async = false;\n      element.src = url;\n      console.debug(\"Bokeh: injecting script tag for BokehJS library: \", url);\n      document.head.appendChild(element);\n    }\n  };\n\n  function inject_raw_css(css) {\n    const element = document.createElement(\"style\");\n    element.appendChild(document.createTextNode(css));\n    document.body.appendChild(element);\n  }\n\n  const js_urls = [\"https://cdn.bokeh.org/bokeh/release/bokeh-3.1.0.min.js\", \"https://cdn.bokeh.org/bokeh/release/bokeh-gl-3.1.0.min.js\", \"https://cdn.bokeh.org/bokeh/release/bokeh-widgets-3.1.0.min.js\", \"https://cdn.bokeh.org/bokeh/release/bokeh-tables-3.1.0.min.js\", \"https://cdn.bokeh.org/bokeh/release/bokeh-mathjax-3.1.0.min.js\"];\n  const css_urls = [];\n\n  const inline_js = [    function(Bokeh) {\n      Bokeh.set_log_level(\"info\");\n    },\nfunction(Bokeh) {\n    }\n  ];\n\n  function run_inline_js() {\n    if (root.Bokeh !== undefined || force === true) {\n          for (let i = 0; i < inline_js.length; i++) {\n      inline_js[i].call(root, root.Bokeh);\n    }\nif (force === true) {\n        display_loaded();\n      }} else if (Date.now() < root._bokeh_timeout) {\n      setTimeout(run_inline_js, 100);\n    } else if (!root._bokeh_failed_load) {\n      console.log(\"Bokeh: BokehJS failed to load within specified timeout.\");\n      root._bokeh_failed_load = true;\n    } else if (force !== true) {\n      const cell = $(document.getElementById(\"p1004\")).parents('.cell').data().cell;\n      cell.output_area.append_execute_result(NB_LOAD_WARNING)\n    }\n  }\n\n  if (root._bokeh_is_loading === 0) {\n    console.debug(\"Bokeh: BokehJS loaded, going straight to plotting\");\n    run_inline_js();\n  } else {\n    load_libs(css_urls, js_urls, function() {\n      console.debug(\"Bokeh: BokehJS plotting callback run at\", now());\n      run_inline_js();\n    });\n  }\n}(window));",
      "application/vnd.bokehjs_load.v0+json": ""
     },
     "metadata": {},
     "output_type": "display_data"
    }
   ],
   "source": [
    "from bokeh.models import ColumnDataSource,Legend,Select\n",
    "from bokeh.io import output_notebook, show\n",
    "from bokeh.palettes import Category10\n",
    "import seaborn as sns\n",
    "from bokeh.plotting import figure, show\n",
    "from bokeh.io import output_file\n",
    "\n",
    "# to satart wuth we should get the top 10 call situations\n",
    "#print(top10)\n",
    "\n",
    "# get a list of the top 10\n",
    "top10_situations = top10.index.tolist()\n",
    "#print(top10_situations)\n",
    "df = df[df['Primary Situation'].isin(top10_situations)]\n",
    "\n",
    "Battalion_Primary_Situation = df.groupby(['Primary Situation','Battalion']).size().reset_index(name='count')\n",
    "#print(Battalion_Primary_Situation)\n",
    "\n",
    "# calculate the total count for each Battalion\n",
    "Battalion_Primary_counts = df.groupby(['Primary Situation']).size().reset_index(name='total_count')\n",
    "#print(Battalion_Primary_counts)\n",
    "\n",
    "# merge the two dataframes to get the total count for each row\n",
    "Battalion_Primary_Situation = pd.merge(Battalion_Primary_Situation, Battalion_Primary_counts, on='Primary Situation')\n",
    "#print(Battalion_Primary_Situation)\n",
    "\n",
    "\n",
    "#calculate the count pr ituation pr Battalion\n",
    "Battalion_Primary_Situation['count_pr_Situation_pr_Battalion'] = Battalion_Primary_Situation['count'] \n",
    "\n",
    "\n",
    "columns = ['Primary Situation', 'Battalion', 'count_pr_Situation_pr_Battalion']\n",
    "focusData =  pd.DataFrame(Battalion_Primary_Situation, columns=columns)\n",
    "#print(focusData)\n",
    "\n",
    "# Pivot the dataframe\n",
    "pivoted_focusData = focusData.pivot_table(index='Battalion', columns='Primary Situation', values='count_pr_Situation_pr_Battalion')\n",
    "\n",
    "# Display the pivoted dataframe\n",
    "#print(pivoted_focusData)\n",
    "\n",
    "#1. First, let's convert our Pandas Dataframe to Bokeh ColumnDataSource:\n",
    "\n",
    "\n",
    "source = ColumnDataSource(data=pivoted_focusData)\n",
    "## it is a standard way to convert your df to bokeh\n",
    "output_notebook()\n",
    "\n",
    "#2. We also need to create an empty figure (we will add our stuff here later on). Mini sub-exercise: Find the a guide how to define a figure in Bokeh online. Here is a little help:\n",
    "\n",
    "# Define a figure with title and axis labels\n",
    "p = figure(x_range=source.data['Battalion'], title=\"counts for call Situation pr battalion\",x_axis_label='Battalion',width =1200)\n",
    "colo = sns.color_palette('viridis', len(source.data['Battalion'])).as_hex()\n",
    "\n",
    "#3. Now we are going to add the bars. In order to do so, we will use vbar (see the guide for help):\n",
    "bar ={} # to store vbars\n",
    "items=[]\n",
    "\n",
    "\n",
    "### here we will do a for loop:\n",
    "for indx,Situation  in enumerate(pivoted_focusData.columns):\n",
    "    bar[Situation] =p.vbar(x='Battalion', \n",
    "    top=Situation ,\n",
    "    source=source,\n",
    "    muted=True, \n",
    "    muted_alpha=0.05,\n",
    "    fill_alpha=1.9,\n",
    "    color=colo[indx],\n",
    "    width=0.7)\n",
    "    items.append((Situation, [bar[Situation]]))"
   ]
  },
  {
   "cell_type": "code",
   "execution_count": 9,
   "metadata": {},
   "outputs": [
    {
     "data": {
      "text/html": [
       "\n",
       "  <div id=\"20ef5aba-9e95-4eda-a002-4d53d3ad9a33\" data-root-id=\"p1005\" style=\"display: contents;\"></div>\n"
      ]
     },
     "metadata": {},
     "output_type": "display_data"
    },
    {
     "data": {
      "application/javascript": "(function(root) {\n  function embed_document(root) {\n  const docs_json = {\"9bbf6c24-9bec-4459-a805-18eeb88f2212\":{\"version\":\"3.1.0\",\"title\":\"Bokeh Application\",\"defs\":[],\"roots\":[{\"type\":\"object\",\"name\":\"Figure\",\"id\":\"p1005\",\"attributes\":{\"width\":1200,\"x_range\":{\"type\":\"object\",\"name\":\"FactorRange\",\"id\":\"p1015\",\"attributes\":{\"factors\":[\"B01\",\"B02\",\"B03\",\"B04\",\"B05\",\"B06\",\"B07\",\"B08\",\"B09\",\"B10\"]}},\"y_range\":{\"type\":\"object\",\"name\":\"DataRange1d\",\"id\":\"p1007\"},\"x_scale\":{\"type\":\"object\",\"name\":\"CategoricalScale\",\"id\":\"p1019\"},\"y_scale\":{\"type\":\"object\",\"name\":\"LinearScale\",\"id\":\"p1021\"},\"title\":{\"type\":\"object\",\"name\":\"Title\",\"id\":\"p1008\",\"attributes\":{\"text\":\"counts for call Situation pr battalion\"}},\"renderers\":[{\"type\":\"object\",\"name\":\"GlyphRenderer\",\"id\":\"p1057\",\"attributes\":{\"data_source\":{\"type\":\"object\",\"name\":\"ColumnDataSource\",\"id\":\"p1001\",\"attributes\":{\"selected\":{\"type\":\"object\",\"name\":\"Selection\",\"id\":\"p1003\",\"attributes\":{\"indices\":[],\"line_indices\":[]}},\"selection_policy\":{\"type\":\"object\",\"name\":\"UnionRenderers\",\"id\":\"p1002\"},\"data\":{\"type\":\"map\",\"entries\":[[\"Battalion\",{\"type\":\"ndarray\",\"array\":[\"B01\",\"B02\",\"B03\",\"B04\",\"B05\",\"B06\",\"B07\",\"B08\",\"B09\",\"B10\"],\"shape\":[10],\"dtype\":\"object\",\"order\":\"little\"}],[\"113 Cooking fire\",{\"type\":\"ndarray\",\"array\":{\"type\":\"bytes\",\"data\":\"ewUAAH4JAAAQBwAAxQUAAL4EAACRAwAAQAIAAB8FAABwAgAAjwEAAA==\"},\"shape\":[10],\"dtype\":\"int32\",\"order\":\"little\"}],[\"151 Outside rubbish\",{\"type\":\"ndarray\",\"array\":{\"type\":\"bytes\",\"data\":\"DAUAAKkKAABzBgAAmQMAAGECAADpAgAAgAEAAPYBAACrAQAAqgYAAA==\"},\"shape\":[10],\"dtype\":\"int32\",\"order\":\"little\"}],[\"311 Medical assist\",{\"type\":\"ndarray\",\"array\":{\"type\":\"bytes\",\"data\":\"YwMAAGgHAAD9BAAAegMAAGACAAB4AgAAJwIAAGIEAAD/AgAACwMAAA==\"},\"shape\":[10],\"dtype\":\"int32\",\"order\":\"little\"}],[\"322 Motor vehicle accident with injuries\",{\"type\":\"ndarray\",\"array\":{\"type\":\"bytes\",\"data\":\"9gIAAEQHAABzBQAA4QMAAFEDAACEAwAADQMAAG8EAAA1BQAApgYAAA==\"},\"shape\":[10],\"dtype\":\"int32\",\"order\":\"little\"}],[\"324 Motor vehicle accident with no injuries.\",{\"type\":\"ndarray\",\"array\":{\"type\":\"bytes\",\"data\":\"CgIAAJwEAAC/AwAACAMAAPgBAABYAgAA+QEAAK0DAADSAgAA5QMAAA==\"},\"shape\":[10],\"dtype\":\"int32\",\"order\":\"little\"}],[\"500 Service Call\",{\"type\":\"ndarray\",\"array\":{\"type\":\"bytes\",\"data\":\"7wcAAPUHAACcBwAAFwYAALcEAADfBAAAVwMAANAGAAB1BwAAvgYAAA==\"},\"shape\":[10],\"dtype\":\"int32\",\"order\":\"little\"}],[\"700 False alarm or false call\",{\"type\":\"ndarray\",\"array\":{\"type\":\"bytes\",\"data\":\"GiAAAMAVAAAYGQAAeRQAAOAKAACDCAAAwAoAAOsJAAC7CQAApQsAAA==\"},\"shape\":[10],\"dtype\":\"int32\",\"order\":\"little\"}],[\"711 Municipal alarm system\",{\"type\":\"ndarray\",\"array\":{\"type\":\"bytes\",\"data\":\"AhYAAN0fAAA8GQAAng4AAA4JAABbCQAA6AIAAHgFAABMCAAA/QcAAA==\"},\"shape\":[10],\"dtype\":\"int32\",\"order\":\"little\"}],[\"743 Smoke detector activation\",{\"type\":\"ndarray\",\"array\":{\"type\":\"bytes\",\"data\":\"sAYAADIJAAB5BwAA+wYAAOYDAABMAwAAMAIAALIEAAADAwAADwIAAA==\"},\"shape\":[10],\"dtype\":\"int32\",\"order\":\"little\"}],[\"745 Alarm system activation\",{\"type\":\"ndarray\",\"array\":{\"type\":\"bytes\",\"data\":\"XA4AAIYVAAAaGAAA5Q0AAHoKAAATBwAAwAUAADYHAAD0AwAAMgcAAA==\"},\"shape\":[10],\"dtype\":\"int32\",\"order\":\"little\"}]]}}},\"view\":{\"type\":\"object\",\"name\":\"CDSView\",\"id\":\"p1058\",\"attributes\":{\"filter\":{\"type\":\"object\",\"name\":\"AllIndices\",\"id\":\"p1059\"}}},\"glyph\":{\"type\":\"object\",\"name\":\"VBar\",\"id\":\"p1054\",\"attributes\":{\"x\":{\"type\":\"field\",\"field\":\"Battalion\"},\"width\":{\"type\":\"value\",\"value\":0.7},\"top\":{\"type\":\"field\",\"field\":\"113 Cooking fire\"},\"line_color\":{\"type\":\"value\",\"value\":\"#482173\"},\"fill_color\":{\"type\":\"value\",\"value\":\"#482173\"},\"fill_alpha\":{\"type\":\"value\",\"value\":1.9},\"hatch_color\":{\"type\":\"value\",\"value\":\"#482173\"}}},\"nonselection_glyph\":{\"type\":\"object\",\"name\":\"VBar\",\"id\":\"p1055\",\"attributes\":{\"x\":{\"type\":\"field\",\"field\":\"Battalion\"},\"width\":{\"type\":\"value\",\"value\":0.7},\"top\":{\"type\":\"field\",\"field\":\"113 Cooking fire\"},\"line_color\":{\"type\":\"value\",\"value\":\"#482173\"},\"line_alpha\":{\"type\":\"value\",\"value\":0.1},\"fill_color\":{\"type\":\"value\",\"value\":\"#482173\"},\"fill_alpha\":{\"type\":\"value\",\"value\":0.1},\"hatch_color\":{\"type\":\"value\",\"value\":\"#482173\"},\"hatch_alpha\":{\"type\":\"value\",\"value\":0.1}}},\"muted_glyph\":{\"type\":\"object\",\"name\":\"VBar\",\"id\":\"p1056\",\"attributes\":{\"x\":{\"type\":\"field\",\"field\":\"Battalion\"},\"width\":{\"type\":\"value\",\"value\":0.7},\"top\":{\"type\":\"field\",\"field\":\"113 Cooking fire\"},\"line_color\":{\"type\":\"value\",\"value\":\"#482173\"},\"line_alpha\":{\"type\":\"value\",\"value\":0.05},\"fill_color\":{\"type\":\"value\",\"value\":\"#482173\"},\"fill_alpha\":{\"type\":\"value\",\"value\":0.05},\"hatch_color\":{\"type\":\"value\",\"value\":\"#482173\"},\"hatch_alpha\":{\"type\":\"value\",\"value\":0.05}}},\"muted\":true}},{\"type\":\"object\",\"name\":\"GlyphRenderer\",\"id\":\"p1066\",\"attributes\":{\"data_source\":{\"id\":\"p1001\"},\"view\":{\"type\":\"object\",\"name\":\"CDSView\",\"id\":\"p1067\",\"attributes\":{\"filter\":{\"type\":\"object\",\"name\":\"AllIndices\",\"id\":\"p1068\"}}},\"glyph\":{\"type\":\"object\",\"name\":\"VBar\",\"id\":\"p1063\",\"attributes\":{\"x\":{\"type\":\"field\",\"field\":\"Battalion\"},\"width\":{\"type\":\"value\",\"value\":0.7},\"top\":{\"type\":\"field\",\"field\":\"151 Outside rubbish\"},\"line_color\":{\"type\":\"value\",\"value\":\"#433e85\"},\"fill_color\":{\"type\":\"value\",\"value\":\"#433e85\"},\"fill_alpha\":{\"type\":\"value\",\"value\":1.9},\"hatch_color\":{\"type\":\"value\",\"value\":\"#433e85\"}}},\"nonselection_glyph\":{\"type\":\"object\",\"name\":\"VBar\",\"id\":\"p1064\",\"attributes\":{\"x\":{\"type\":\"field\",\"field\":\"Battalion\"},\"width\":{\"type\":\"value\",\"value\":0.7},\"top\":{\"type\":\"field\",\"field\":\"151 Outside rubbish\"},\"line_color\":{\"type\":\"value\",\"value\":\"#433e85\"},\"line_alpha\":{\"type\":\"value\",\"value\":0.1},\"fill_color\":{\"type\":\"value\",\"value\":\"#433e85\"},\"fill_alpha\":{\"type\":\"value\",\"value\":0.1},\"hatch_color\":{\"type\":\"value\",\"value\":\"#433e85\"},\"hatch_alpha\":{\"type\":\"value\",\"value\":0.1}}},\"muted_glyph\":{\"type\":\"object\",\"name\":\"VBar\",\"id\":\"p1065\",\"attributes\":{\"x\":{\"type\":\"field\",\"field\":\"Battalion\"},\"width\":{\"type\":\"value\",\"value\":0.7},\"top\":{\"type\":\"field\",\"field\":\"151 Outside rubbish\"},\"line_color\":{\"type\":\"value\",\"value\":\"#433e85\"},\"line_alpha\":{\"type\":\"value\",\"value\":0.05},\"fill_color\":{\"type\":\"value\",\"value\":\"#433e85\"},\"fill_alpha\":{\"type\":\"value\",\"value\":0.05},\"hatch_color\":{\"type\":\"value\",\"value\":\"#433e85\"},\"hatch_alpha\":{\"type\":\"value\",\"value\":0.05}}},\"muted\":true}},{\"type\":\"object\",\"name\":\"GlyphRenderer\",\"id\":\"p1075\",\"attributes\":{\"data_source\":{\"id\":\"p1001\"},\"view\":{\"type\":\"object\",\"name\":\"CDSView\",\"id\":\"p1076\",\"attributes\":{\"filter\":{\"type\":\"object\",\"name\":\"AllIndices\",\"id\":\"p1077\"}}},\"glyph\":{\"type\":\"object\",\"name\":\"VBar\",\"id\":\"p1072\",\"attributes\":{\"x\":{\"type\":\"field\",\"field\":\"Battalion\"},\"width\":{\"type\":\"value\",\"value\":0.7},\"top\":{\"type\":\"field\",\"field\":\"311 Medical assist\"},\"line_color\":{\"type\":\"value\",\"value\":\"#38588c\"},\"fill_color\":{\"type\":\"value\",\"value\":\"#38588c\"},\"fill_alpha\":{\"type\":\"value\",\"value\":1.9},\"hatch_color\":{\"type\":\"value\",\"value\":\"#38588c\"}}},\"nonselection_glyph\":{\"type\":\"object\",\"name\":\"VBar\",\"id\":\"p1073\",\"attributes\":{\"x\":{\"type\":\"field\",\"field\":\"Battalion\"},\"width\":{\"type\":\"value\",\"value\":0.7},\"top\":{\"type\":\"field\",\"field\":\"311 Medical assist\"},\"line_color\":{\"type\":\"value\",\"value\":\"#38588c\"},\"line_alpha\":{\"type\":\"value\",\"value\":0.1},\"fill_color\":{\"type\":\"value\",\"value\":\"#38588c\"},\"fill_alpha\":{\"type\":\"value\",\"value\":0.1},\"hatch_color\":{\"type\":\"value\",\"value\":\"#38588c\"},\"hatch_alpha\":{\"type\":\"value\",\"value\":0.1}}},\"muted_glyph\":{\"type\":\"object\",\"name\":\"VBar\",\"id\":\"p1074\",\"attributes\":{\"x\":{\"type\":\"field\",\"field\":\"Battalion\"},\"width\":{\"type\":\"value\",\"value\":0.7},\"top\":{\"type\":\"field\",\"field\":\"311 Medical assist\"},\"line_color\":{\"type\":\"value\",\"value\":\"#38588c\"},\"line_alpha\":{\"type\":\"value\",\"value\":0.05},\"fill_color\":{\"type\":\"value\",\"value\":\"#38588c\"},\"fill_alpha\":{\"type\":\"value\",\"value\":0.05},\"hatch_color\":{\"type\":\"value\",\"value\":\"#38588c\"},\"hatch_alpha\":{\"type\":\"value\",\"value\":0.05}}},\"muted\":true}},{\"type\":\"object\",\"name\":\"GlyphRenderer\",\"id\":\"p1084\",\"attributes\":{\"data_source\":{\"id\":\"p1001\"},\"view\":{\"type\":\"object\",\"name\":\"CDSView\",\"id\":\"p1085\",\"attributes\":{\"filter\":{\"type\":\"object\",\"name\":\"AllIndices\",\"id\":\"p1086\"}}},\"glyph\":{\"type\":\"object\",\"name\":\"VBar\",\"id\":\"p1081\",\"attributes\":{\"x\":{\"type\":\"field\",\"field\":\"Battalion\"},\"width\":{\"type\":\"value\",\"value\":0.7},\"top\":{\"type\":\"field\",\"field\":\"322 Motor vehicle accident with injuries\"},\"line_color\":{\"type\":\"value\",\"value\":\"#2d708e\"},\"fill_color\":{\"type\":\"value\",\"value\":\"#2d708e\"},\"fill_alpha\":{\"type\":\"value\",\"value\":1.9},\"hatch_color\":{\"type\":\"value\",\"value\":\"#2d708e\"}}},\"nonselection_glyph\":{\"type\":\"object\",\"name\":\"VBar\",\"id\":\"p1082\",\"attributes\":{\"x\":{\"type\":\"field\",\"field\":\"Battalion\"},\"width\":{\"type\":\"value\",\"value\":0.7},\"top\":{\"type\":\"field\",\"field\":\"322 Motor vehicle accident with injuries\"},\"line_color\":{\"type\":\"value\",\"value\":\"#2d708e\"},\"line_alpha\":{\"type\":\"value\",\"value\":0.1},\"fill_color\":{\"type\":\"value\",\"value\":\"#2d708e\"},\"fill_alpha\":{\"type\":\"value\",\"value\":0.1},\"hatch_color\":{\"type\":\"value\",\"value\":\"#2d708e\"},\"hatch_alpha\":{\"type\":\"value\",\"value\":0.1}}},\"muted_glyph\":{\"type\":\"object\",\"name\":\"VBar\",\"id\":\"p1083\",\"attributes\":{\"x\":{\"type\":\"field\",\"field\":\"Battalion\"},\"width\":{\"type\":\"value\",\"value\":0.7},\"top\":{\"type\":\"field\",\"field\":\"322 Motor vehicle accident with injuries\"},\"line_color\":{\"type\":\"value\",\"value\":\"#2d708e\"},\"line_alpha\":{\"type\":\"value\",\"value\":0.05},\"fill_color\":{\"type\":\"value\",\"value\":\"#2d708e\"},\"fill_alpha\":{\"type\":\"value\",\"value\":0.05},\"hatch_color\":{\"type\":\"value\",\"value\":\"#2d708e\"},\"hatch_alpha\":{\"type\":\"value\",\"value\":0.05}}},\"muted\":true}},{\"type\":\"object\",\"name\":\"GlyphRenderer\",\"id\":\"p1093\",\"attributes\":{\"data_source\":{\"id\":\"p1001\"},\"view\":{\"type\":\"object\",\"name\":\"CDSView\",\"id\":\"p1094\",\"attributes\":{\"filter\":{\"type\":\"object\",\"name\":\"AllIndices\",\"id\":\"p1095\"}}},\"glyph\":{\"type\":\"object\",\"name\":\"VBar\",\"id\":\"p1090\",\"attributes\":{\"x\":{\"type\":\"field\",\"field\":\"Battalion\"},\"width\":{\"type\":\"value\",\"value\":0.7},\"top\":{\"type\":\"field\",\"field\":\"324 Motor vehicle accident with no injuries.\"},\"line_color\":{\"type\":\"value\",\"value\":\"#25858e\"},\"fill_color\":{\"type\":\"value\",\"value\":\"#25858e\"},\"fill_alpha\":{\"type\":\"value\",\"value\":1.9},\"hatch_color\":{\"type\":\"value\",\"value\":\"#25858e\"}}},\"nonselection_glyph\":{\"type\":\"object\",\"name\":\"VBar\",\"id\":\"p1091\",\"attributes\":{\"x\":{\"type\":\"field\",\"field\":\"Battalion\"},\"width\":{\"type\":\"value\",\"value\":0.7},\"top\":{\"type\":\"field\",\"field\":\"324 Motor vehicle accident with no injuries.\"},\"line_color\":{\"type\":\"value\",\"value\":\"#25858e\"},\"line_alpha\":{\"type\":\"value\",\"value\":0.1},\"fill_color\":{\"type\":\"value\",\"value\":\"#25858e\"},\"fill_alpha\":{\"type\":\"value\",\"value\":0.1},\"hatch_color\":{\"type\":\"value\",\"value\":\"#25858e\"},\"hatch_alpha\":{\"type\":\"value\",\"value\":0.1}}},\"muted_glyph\":{\"type\":\"object\",\"name\":\"VBar\",\"id\":\"p1092\",\"attributes\":{\"x\":{\"type\":\"field\",\"field\":\"Battalion\"},\"width\":{\"type\":\"value\",\"value\":0.7},\"top\":{\"type\":\"field\",\"field\":\"324 Motor vehicle accident with no injuries.\"},\"line_color\":{\"type\":\"value\",\"value\":\"#25858e\"},\"line_alpha\":{\"type\":\"value\",\"value\":0.05},\"fill_color\":{\"type\":\"value\",\"value\":\"#25858e\"},\"fill_alpha\":{\"type\":\"value\",\"value\":0.05},\"hatch_color\":{\"type\":\"value\",\"value\":\"#25858e\"},\"hatch_alpha\":{\"type\":\"value\",\"value\":0.05}}},\"muted\":true}},{\"type\":\"object\",\"name\":\"GlyphRenderer\",\"id\":\"p1102\",\"attributes\":{\"data_source\":{\"id\":\"p1001\"},\"view\":{\"type\":\"object\",\"name\":\"CDSView\",\"id\":\"p1103\",\"attributes\":{\"filter\":{\"type\":\"object\",\"name\":\"AllIndices\",\"id\":\"p1104\"}}},\"glyph\":{\"type\":\"object\",\"name\":\"VBar\",\"id\":\"p1099\",\"attributes\":{\"x\":{\"type\":\"field\",\"field\":\"Battalion\"},\"width\":{\"type\":\"value\",\"value\":0.7},\"top\":{\"type\":\"field\",\"field\":\"500 Service Call\"},\"line_color\":{\"type\":\"value\",\"value\":\"#1e9b8a\"},\"fill_color\":{\"type\":\"value\",\"value\":\"#1e9b8a\"},\"fill_alpha\":{\"type\":\"value\",\"value\":1.9},\"hatch_color\":{\"type\":\"value\",\"value\":\"#1e9b8a\"}}},\"nonselection_glyph\":{\"type\":\"object\",\"name\":\"VBar\",\"id\":\"p1100\",\"attributes\":{\"x\":{\"type\":\"field\",\"field\":\"Battalion\"},\"width\":{\"type\":\"value\",\"value\":0.7},\"top\":{\"type\":\"field\",\"field\":\"500 Service Call\"},\"line_color\":{\"type\":\"value\",\"value\":\"#1e9b8a\"},\"line_alpha\":{\"type\":\"value\",\"value\":0.1},\"fill_color\":{\"type\":\"value\",\"value\":\"#1e9b8a\"},\"fill_alpha\":{\"type\":\"value\",\"value\":0.1},\"hatch_color\":{\"type\":\"value\",\"value\":\"#1e9b8a\"},\"hatch_alpha\":{\"type\":\"value\",\"value\":0.1}}},\"muted_glyph\":{\"type\":\"object\",\"name\":\"VBar\",\"id\":\"p1101\",\"attributes\":{\"x\":{\"type\":\"field\",\"field\":\"Battalion\"},\"width\":{\"type\":\"value\",\"value\":0.7},\"top\":{\"type\":\"field\",\"field\":\"500 Service Call\"},\"line_color\":{\"type\":\"value\",\"value\":\"#1e9b8a\"},\"line_alpha\":{\"type\":\"value\",\"value\":0.05},\"fill_color\":{\"type\":\"value\",\"value\":\"#1e9b8a\"},\"fill_alpha\":{\"type\":\"value\",\"value\":0.05},\"hatch_color\":{\"type\":\"value\",\"value\":\"#1e9b8a\"},\"hatch_alpha\":{\"type\":\"value\",\"value\":0.05}}},\"muted\":true}},{\"type\":\"object\",\"name\":\"GlyphRenderer\",\"id\":\"p1111\",\"attributes\":{\"data_source\":{\"id\":\"p1001\"},\"view\":{\"type\":\"object\",\"name\":\"CDSView\",\"id\":\"p1112\",\"attributes\":{\"filter\":{\"type\":\"object\",\"name\":\"AllIndices\",\"id\":\"p1113\"}}},\"glyph\":{\"type\":\"object\",\"name\":\"VBar\",\"id\":\"p1108\",\"attributes\":{\"x\":{\"type\":\"field\",\"field\":\"Battalion\"},\"width\":{\"type\":\"value\",\"value\":0.7},\"top\":{\"type\":\"field\",\"field\":\"700 False alarm or false call\"},\"line_color\":{\"type\":\"value\",\"value\":\"#2ab07f\"},\"fill_color\":{\"type\":\"value\",\"value\":\"#2ab07f\"},\"fill_alpha\":{\"type\":\"value\",\"value\":1.9},\"hatch_color\":{\"type\":\"value\",\"value\":\"#2ab07f\"}}},\"nonselection_glyph\":{\"type\":\"object\",\"name\":\"VBar\",\"id\":\"p1109\",\"attributes\":{\"x\":{\"type\":\"field\",\"field\":\"Battalion\"},\"width\":{\"type\":\"value\",\"value\":0.7},\"top\":{\"type\":\"field\",\"field\":\"700 False alarm or false call\"},\"line_color\":{\"type\":\"value\",\"value\":\"#2ab07f\"},\"line_alpha\":{\"type\":\"value\",\"value\":0.1},\"fill_color\":{\"type\":\"value\",\"value\":\"#2ab07f\"},\"fill_alpha\":{\"type\":\"value\",\"value\":0.1},\"hatch_color\":{\"type\":\"value\",\"value\":\"#2ab07f\"},\"hatch_alpha\":{\"type\":\"value\",\"value\":0.1}}},\"muted_glyph\":{\"type\":\"object\",\"name\":\"VBar\",\"id\":\"p1110\",\"attributes\":{\"x\":{\"type\":\"field\",\"field\":\"Battalion\"},\"width\":{\"type\":\"value\",\"value\":0.7},\"top\":{\"type\":\"field\",\"field\":\"700 False alarm or false call\"},\"line_color\":{\"type\":\"value\",\"value\":\"#2ab07f\"},\"line_alpha\":{\"type\":\"value\",\"value\":0.05},\"fill_color\":{\"type\":\"value\",\"value\":\"#2ab07f\"},\"fill_alpha\":{\"type\":\"value\",\"value\":0.05},\"hatch_color\":{\"type\":\"value\",\"value\":\"#2ab07f\"},\"hatch_alpha\":{\"type\":\"value\",\"value\":0.05}}},\"muted\":true}},{\"type\":\"object\",\"name\":\"GlyphRenderer\",\"id\":\"p1120\",\"attributes\":{\"data_source\":{\"id\":\"p1001\"},\"view\":{\"type\":\"object\",\"name\":\"CDSView\",\"id\":\"p1121\",\"attributes\":{\"filter\":{\"type\":\"object\",\"name\":\"AllIndices\",\"id\":\"p1122\"}}},\"glyph\":{\"type\":\"object\",\"name\":\"VBar\",\"id\":\"p1117\",\"attributes\":{\"x\":{\"type\":\"field\",\"field\":\"Battalion\"},\"width\":{\"type\":\"value\",\"value\":0.7},\"top\":{\"type\":\"field\",\"field\":\"711 Municipal alarm system\"},\"line_color\":{\"type\":\"value\",\"value\":\"#52c569\"},\"fill_color\":{\"type\":\"value\",\"value\":\"#52c569\"},\"fill_alpha\":{\"type\":\"value\",\"value\":1.9},\"hatch_color\":{\"type\":\"value\",\"value\":\"#52c569\"}}},\"nonselection_glyph\":{\"type\":\"object\",\"name\":\"VBar\",\"id\":\"p1118\",\"attributes\":{\"x\":{\"type\":\"field\",\"field\":\"Battalion\"},\"width\":{\"type\":\"value\",\"value\":0.7},\"top\":{\"type\":\"field\",\"field\":\"711 Municipal alarm system\"},\"line_color\":{\"type\":\"value\",\"value\":\"#52c569\"},\"line_alpha\":{\"type\":\"value\",\"value\":0.1},\"fill_color\":{\"type\":\"value\",\"value\":\"#52c569\"},\"fill_alpha\":{\"type\":\"value\",\"value\":0.1},\"hatch_color\":{\"type\":\"value\",\"value\":\"#52c569\"},\"hatch_alpha\":{\"type\":\"value\",\"value\":0.1}}},\"muted_glyph\":{\"type\":\"object\",\"name\":\"VBar\",\"id\":\"p1119\",\"attributes\":{\"x\":{\"type\":\"field\",\"field\":\"Battalion\"},\"width\":{\"type\":\"value\",\"value\":0.7},\"top\":{\"type\":\"field\",\"field\":\"711 Municipal alarm system\"},\"line_color\":{\"type\":\"value\",\"value\":\"#52c569\"},\"line_alpha\":{\"type\":\"value\",\"value\":0.05},\"fill_color\":{\"type\":\"value\",\"value\":\"#52c569\"},\"fill_alpha\":{\"type\":\"value\",\"value\":0.05},\"hatch_color\":{\"type\":\"value\",\"value\":\"#52c569\"},\"hatch_alpha\":{\"type\":\"value\",\"value\":0.05}}},\"muted\":true}},{\"type\":\"object\",\"name\":\"GlyphRenderer\",\"id\":\"p1129\",\"attributes\":{\"data_source\":{\"id\":\"p1001\"},\"view\":{\"type\":\"object\",\"name\":\"CDSView\",\"id\":\"p1130\",\"attributes\":{\"filter\":{\"type\":\"object\",\"name\":\"AllIndices\",\"id\":\"p1131\"}}},\"glyph\":{\"type\":\"object\",\"name\":\"VBar\",\"id\":\"p1126\",\"attributes\":{\"x\":{\"type\":\"field\",\"field\":\"Battalion\"},\"width\":{\"type\":\"value\",\"value\":0.7},\"top\":{\"type\":\"field\",\"field\":\"743 Smoke detector activation\"},\"line_color\":{\"type\":\"value\",\"value\":\"#86d549\"},\"fill_color\":{\"type\":\"value\",\"value\":\"#86d549\"},\"fill_alpha\":{\"type\":\"value\",\"value\":1.9},\"hatch_color\":{\"type\":\"value\",\"value\":\"#86d549\"}}},\"nonselection_glyph\":{\"type\":\"object\",\"name\":\"VBar\",\"id\":\"p1127\",\"attributes\":{\"x\":{\"type\":\"field\",\"field\":\"Battalion\"},\"width\":{\"type\":\"value\",\"value\":0.7},\"top\":{\"type\":\"field\",\"field\":\"743 Smoke detector activation\"},\"line_color\":{\"type\":\"value\",\"value\":\"#86d549\"},\"line_alpha\":{\"type\":\"value\",\"value\":0.1},\"fill_color\":{\"type\":\"value\",\"value\":\"#86d549\"},\"fill_alpha\":{\"type\":\"value\",\"value\":0.1},\"hatch_color\":{\"type\":\"value\",\"value\":\"#86d549\"},\"hatch_alpha\":{\"type\":\"value\",\"value\":0.1}}},\"muted_glyph\":{\"type\":\"object\",\"name\":\"VBar\",\"id\":\"p1128\",\"attributes\":{\"x\":{\"type\":\"field\",\"field\":\"Battalion\"},\"width\":{\"type\":\"value\",\"value\":0.7},\"top\":{\"type\":\"field\",\"field\":\"743 Smoke detector activation\"},\"line_color\":{\"type\":\"value\",\"value\":\"#86d549\"},\"line_alpha\":{\"type\":\"value\",\"value\":0.05},\"fill_color\":{\"type\":\"value\",\"value\":\"#86d549\"},\"fill_alpha\":{\"type\":\"value\",\"value\":0.05},\"hatch_color\":{\"type\":\"value\",\"value\":\"#86d549\"},\"hatch_alpha\":{\"type\":\"value\",\"value\":0.05}}},\"muted\":true}},{\"type\":\"object\",\"name\":\"GlyphRenderer\",\"id\":\"p1138\",\"attributes\":{\"data_source\":{\"id\":\"p1001\"},\"view\":{\"type\":\"object\",\"name\":\"CDSView\",\"id\":\"p1139\",\"attributes\":{\"filter\":{\"type\":\"object\",\"name\":\"AllIndices\",\"id\":\"p1140\"}}},\"glyph\":{\"type\":\"object\",\"name\":\"VBar\",\"id\":\"p1135\",\"attributes\":{\"x\":{\"type\":\"field\",\"field\":\"Battalion\"},\"width\":{\"type\":\"value\",\"value\":0.7},\"top\":{\"type\":\"field\",\"field\":\"745 Alarm system activation\"},\"line_color\":{\"type\":\"value\",\"value\":\"#c2df23\"},\"fill_color\":{\"type\":\"value\",\"value\":\"#c2df23\"},\"fill_alpha\":{\"type\":\"value\",\"value\":1.9},\"hatch_color\":{\"type\":\"value\",\"value\":\"#c2df23\"}}},\"nonselection_glyph\":{\"type\":\"object\",\"name\":\"VBar\",\"id\":\"p1136\",\"attributes\":{\"x\":{\"type\":\"field\",\"field\":\"Battalion\"},\"width\":{\"type\":\"value\",\"value\":0.7},\"top\":{\"type\":\"field\",\"field\":\"745 Alarm system activation\"},\"line_color\":{\"type\":\"value\",\"value\":\"#c2df23\"},\"line_alpha\":{\"type\":\"value\",\"value\":0.1},\"fill_color\":{\"type\":\"value\",\"value\":\"#c2df23\"},\"fill_alpha\":{\"type\":\"value\",\"value\":0.1},\"hatch_color\":{\"type\":\"value\",\"value\":\"#c2df23\"},\"hatch_alpha\":{\"type\":\"value\",\"value\":0.1}}},\"muted_glyph\":{\"type\":\"object\",\"name\":\"VBar\",\"id\":\"p1137\",\"attributes\":{\"x\":{\"type\":\"field\",\"field\":\"Battalion\"},\"width\":{\"type\":\"value\",\"value\":0.7},\"top\":{\"type\":\"field\",\"field\":\"745 Alarm system activation\"},\"line_color\":{\"type\":\"value\",\"value\":\"#c2df23\"},\"line_alpha\":{\"type\":\"value\",\"value\":0.05},\"fill_color\":{\"type\":\"value\",\"value\":\"#c2df23\"},\"fill_alpha\":{\"type\":\"value\",\"value\":0.05},\"hatch_color\":{\"type\":\"value\",\"value\":\"#c2df23\"},\"hatch_alpha\":{\"type\":\"value\",\"value\":0.05}}},\"muted\":true}}],\"toolbar\":{\"type\":\"object\",\"name\":\"Toolbar\",\"id\":\"p1012\",\"attributes\":{\"tools\":[{\"type\":\"object\",\"name\":\"PanTool\",\"id\":\"p1036\"},{\"type\":\"object\",\"name\":\"WheelZoomTool\",\"id\":\"p1037\"},{\"type\":\"object\",\"name\":\"BoxZoomTool\",\"id\":\"p1038\",\"attributes\":{\"overlay\":{\"type\":\"object\",\"name\":\"BoxAnnotation\",\"id\":\"p1039\",\"attributes\":{\"syncable\":false,\"level\":\"overlay\",\"visible\":false,\"left_units\":\"canvas\",\"right_units\":\"canvas\",\"bottom_units\":\"canvas\",\"top_units\":\"canvas\",\"line_color\":\"black\",\"line_alpha\":1.0,\"line_width\":2,\"line_dash\":[4,4],\"fill_color\":\"lightgrey\",\"fill_alpha\":0.5}}}},{\"type\":\"object\",\"name\":\"SaveTool\",\"id\":\"p1040\"},{\"type\":\"object\",\"name\":\"ResetTool\",\"id\":\"p1041\"},{\"type\":\"object\",\"name\":\"HelpTool\",\"id\":\"p1042\"}]}},\"left\":[{\"type\":\"object\",\"name\":\"LinearAxis\",\"id\":\"p1029\",\"attributes\":{\"ticker\":{\"type\":\"object\",\"name\":\"BasicTicker\",\"id\":\"p1030\",\"attributes\":{\"mantissas\":[1,2,5]}},\"formatter\":{\"type\":\"object\",\"name\":\"BasicTickFormatter\",\"id\":\"p1032\"},\"major_label_policy\":{\"type\":\"object\",\"name\":\"AllLabels\",\"id\":\"p1031\"}}},{\"type\":\"object\",\"name\":\"Legend\",\"id\":\"p1141\",\"attributes\":{\"click_policy\":\"mute\",\"items\":[{\"type\":\"object\",\"name\":\"LegendItem\",\"id\":\"p1142\",\"attributes\":{\"label\":{\"type\":\"value\",\"value\":\"113 Cooking fire\"},\"renderers\":[{\"id\":\"p1057\"}]}},{\"type\":\"object\",\"name\":\"LegendItem\",\"id\":\"p1143\",\"attributes\":{\"label\":{\"type\":\"value\",\"value\":\"151 Outside rubbish\"},\"renderers\":[{\"id\":\"p1066\"}]}},{\"type\":\"object\",\"name\":\"LegendItem\",\"id\":\"p1144\",\"attributes\":{\"label\":{\"type\":\"value\",\"value\":\"311 Medical assist\"},\"renderers\":[{\"id\":\"p1075\"}]}},{\"type\":\"object\",\"name\":\"LegendItem\",\"id\":\"p1145\",\"attributes\":{\"label\":{\"type\":\"value\",\"value\":\"322 Motor vehicle accident with injuries\"},\"renderers\":[{\"id\":\"p1084\"}]}},{\"type\":\"object\",\"name\":\"LegendItem\",\"id\":\"p1146\",\"attributes\":{\"label\":{\"type\":\"value\",\"value\":\"324 Motor vehicle accident with no injuries.\"},\"renderers\":[{\"id\":\"p1093\"}]}},{\"type\":\"object\",\"name\":\"LegendItem\",\"id\":\"p1147\",\"attributes\":{\"label\":{\"type\":\"value\",\"value\":\"500 Service Call\"},\"renderers\":[{\"id\":\"p1102\"}]}},{\"type\":\"object\",\"name\":\"LegendItem\",\"id\":\"p1148\",\"attributes\":{\"label\":{\"type\":\"value\",\"value\":\"700 False alarm or false call\"},\"renderers\":[{\"id\":\"p1111\"}]}},{\"type\":\"object\",\"name\":\"LegendItem\",\"id\":\"p1149\",\"attributes\":{\"label\":{\"type\":\"value\",\"value\":\"711 Municipal alarm system\"},\"renderers\":[{\"id\":\"p1120\"}]}},{\"type\":\"object\",\"name\":\"LegendItem\",\"id\":\"p1150\",\"attributes\":{\"label\":{\"type\":\"value\",\"value\":\"743 Smoke detector activation\"},\"renderers\":[{\"id\":\"p1129\"}]}},{\"type\":\"object\",\"name\":\"LegendItem\",\"id\":\"p1151\",\"attributes\":{\"label\":{\"type\":\"value\",\"value\":\"745 Alarm system activation\"},\"renderers\":[{\"id\":\"p1138\"}]}}]}}],\"below\":[{\"type\":\"object\",\"name\":\"CategoricalAxis\",\"id\":\"p1023\",\"attributes\":{\"ticker\":{\"type\":\"object\",\"name\":\"CategoricalTicker\",\"id\":\"p1024\"},\"formatter\":{\"type\":\"object\",\"name\":\"CategoricalTickFormatter\",\"id\":\"p1026\"},\"axis_label\":\"Battalion\",\"major_label_policy\":{\"type\":\"object\",\"name\":\"AllLabels\",\"id\":\"p1025\"}}}],\"center\":[{\"type\":\"object\",\"name\":\"Grid\",\"id\":\"p1028\",\"attributes\":{\"axis\":{\"id\":\"p1023\"}}},{\"type\":\"object\",\"name\":\"Grid\",\"id\":\"p1035\",\"attributes\":{\"dimension\":1,\"axis\":{\"id\":\"p1029\"}}}]}}],\"callbacks\":{\"type\":\"map\"}}};\n  const render_items = [{\"docid\":\"9bbf6c24-9bec-4459-a805-18eeb88f2212\",\"roots\":{\"p1005\":\"20ef5aba-9e95-4eda-a002-4d53d3ad9a33\"},\"root_ids\":[\"p1005\"]}];\n  root.Bokeh.embed.embed_items_notebook(docs_json, render_items);\n  }\n  if (root.Bokeh !== undefined) {\n    embed_document(root);\n  } else {\n    let attempts = 0;\n    const timer = setInterval(function(root) {\n      if (root.Bokeh !== undefined) {\n        clearInterval(timer);\n        embed_document(root);\n      } else {\n        attempts++;\n        if (attempts > 100) {\n          clearInterval(timer);\n          console.log(\"Bokeh: ERROR: Unable to run BokehJS code because BokehJS library is missing\");\n        }\n      }\n    }, 10, root)\n  }\n})(window);",
      "application/vnd.bokehjs_exec.v0+json": ""
     },
     "metadata": {
      "application/vnd.bokehjs_exec.v0+json": {
       "id": "p1005"
      }
     },
     "output_type": "display_data"
    }
   ],
   "source": [
    "#4. The last thing to do is to make your legend interactive and display the figure:\n",
    "legend = Legend(items=items)\n",
    "p.add_layout(legend, 'left') \n",
    "p.legend.click_policy=\"mute\" \n",
    "output_file('bokeh.html')\n",
    "show(p)"
   ]
  },
  {
   "cell_type": "code",
   "execution_count": 10,
   "metadata": {},
   "outputs": [
    {
     "name": "stdout",
     "output_type": "stream",
     "text": [
      "['113 Cooking fire' '322 Motor vehicle accident with injuries'\n",
      " '745 Alarm system activation' '500 Service Call'\n",
      " '700 False alarm or false call' '311 Medical assist'\n",
      " '743 Smoke detector activation' '151 Outside rubbish'\n",
      " '324 Motor vehicle accident with no injuries.'\n",
      " '711 Municipal alarm system']\n",
      "['113' '322' '745' '500' '700' '311' '743' '151' '324' '711']\n"
     ]
    }
   ],
   "source": [
    "#dataset for map \n",
    "df_2022 = df[(df['Incident Date'] >= '2023-03-01') &\n",
    "        (df['Incident Date'] <= '2023-04-01')]\n",
    "df_2022.head()\n",
    "#len(df_2022)\n",
    "focuse_Situation2 = df_2022['Primary Situation']\n",
    "ListOfSituation2 = focuse_Situation2.unique()\n",
    "print(ListOfSituation2)\n",
    "\n",
    "focuse_Situation = df_2022['focuse_Situation_by_number']\n",
    "ListOfSituation = focuse_Situation.unique()\n",
    "print(ListOfSituation)"
   ]
  },
  {
   "cell_type": "code",
   "execution_count": 11,
   "metadata": {},
   "outputs": [
    {
     "name": "stderr",
     "output_type": "stream",
     "text": [
      "C:\\Users\\salim\\AppData\\Local\\Temp\\ipykernel_8656\\2778673352.py:5: SettingWithCopyWarning: \n",
      "A value is trying to be set on a copy of a slice from a DataFrame\n",
      "\n",
      "See the caveats in the documentation: https://pandas.pydata.org/pandas-docs/stable/user_guide/indexing.html#returning-a-view-versus-a-copy\n",
      "  df_2022['focuse_Situation_by_number'].replace(['322','324'], 'Motor vehicle accident', inplace=True)\n",
      "C:\\Users\\salim\\AppData\\Local\\Temp\\ipykernel_8656\\2778673352.py:6: SettingWithCopyWarning: \n",
      "A value is trying to be set on a copy of a slice from a DataFrame\n",
      "\n",
      "See the caveats in the documentation: https://pandas.pydata.org/pandas-docs/stable/user_guide/indexing.html#returning-a-view-versus-a-copy\n",
      "  df_2022['focuse_Situation_by_number'].replace(['311'], 'Medical assist', inplace=True)\n"
     ]
    },
    {
     "data": {
      "text/plain": [
       "1463"
      ]
     },
     "execution_count": 11,
     "metadata": {},
     "output_type": "execute_result"
    }
   ],
   "source": [
    "from shapely import wkt\n",
    "df_2022.loc[df_2022['focuse_Situation_by_number'].str.startswith('1'), 'focuse_Situation_by_number'] = 'Fire/explosion'\n",
    "df_2022.loc[df_2022['focuse_Situation_by_number'].str.startswith('5'), 'focuse_Situation_by_number'] = 'Public service'\n",
    "df_2022.loc[df_2022['focuse_Situation_by_number'].str.startswith('7'), 'focuse_Situation_by_number'] = 'Alarm'\n",
    "df_2022['focuse_Situation_by_number'].replace(['322','324'], 'Motor vehicle accident', inplace=True)\n",
    "df_2022['focuse_Situation_by_number'].replace(['311'], 'Medical assist', inplace=True)\n",
    "\n",
    "# keep the important coulmn and drop other \n",
    "df_2022 = df_2022.loc[:, ['ID', 'point', 'Incident year', 'focuse_Situation_by_number']]\n",
    "\n",
    "\n",
    "df_2022['point'] = df_2022['point'].apply(wkt.loads)\n",
    "df_2022['lon'] = df_2022['point'].apply(lambda p: p.x)\n",
    "df_2022['lat'] = df_2022['point'].apply(lambda p: p.y)\n",
    "\n",
    "focuse_Situation = df_2022['focuse_Situation_by_number']\n",
    "ListOfSituation = focuse_Situation.unique()\n",
    "#print(ListOfSituation)\n",
    "\n",
    "df_2022.head()\n",
    "len(df_2022)"
   ]
  },
  {
   "cell_type": "code",
   "execution_count": 21,
   "metadata": {},
   "outputs": [
    {
     "data": {
      "application/vnd.jupyter.widget-view+json": {
       "model_id": "785ba5e477f746dfb96641d4b786fbe4",
       "version_major": 2,
       "version_minor": 0
      },
      "text/plain": [
       "Map(center=[37.7749, -122.4194], controls=(ZoomControl(options=['position', 'zoom_in_text', 'zoom_in_title', '…"
      ]
     },
     "execution_count": 21,
     "metadata": {},
     "output_type": "execute_result"
    }
   ],
   "source": [
    "from ipyleaflet import Map, GeoJSON,Marker,AwesomeIcon\n",
    "import requests\n",
    "import json\n",
    "url = 'https://data.sfgov.org/resource/wr8u-xric.geojson'\n",
    "response = requests.get(url)\n",
    "data = response.json()\n",
    "\n",
    "\n",
    "\n",
    "data[\"features\"][0]\n",
    "\n",
    "\n",
    "\n",
    "# Create a dictionary to map focuse_Situation_by_number values to colors\n",
    "situation_color_dict = {\n",
    "    'Fire/explosion': 'red',\n",
    "    'Public service': 'green',\n",
    "    'Alarm': 'purple',\n",
    "    'Motor vehicle accident': 'orange',\n",
    "    'Medical assist': 'blue'\n",
    "}\n",
    "\n",
    "color_icon_dict = {\n",
    "    'red': 'fa-fire',\n",
    "    'green': 'fa-universal-access',\n",
    "    'blue': 'fa-ambulance',\n",
    "    'orange': 'fa-car',\n",
    "    'purple': 'fa-bell'\n",
    "}\n",
    "\n",
    "\n",
    "my_map = Map(center=(37.7749, -122.4194), zoom=12, layout={'height': '600px', 'width': '100%'})\n",
    "\n",
    "\n",
    "# Add markers to the map for each incident in the data\n",
    "for index, row in df_2022.iterrows():\n",
    "    location = (row['lat'], row['lon'])\n",
    "    marker_color = situation_color_dict[row['focuse_Situation_by_number']]\n",
    "    marker = Marker(location=location, draggable=False, title=row['focuse_Situation_by_number'])\n",
    "    marker.icon = AwesomeIcon(name=color_icon_dict[marker_color], marker_color=marker_color, icon_color='black')\n",
    "    my_map.add_layer(marker)\n",
    "\n",
    "# Display the map\n",
    "my_map"
   ]
  },
  {
   "cell_type": "code",
   "execution_count": 24,
   "metadata": {},
   "outputs": [],
   "source": [
    "my_map.save('my_map.html')"
   ]
  },
  {
   "cell_type": "code",
   "execution_count": 13,
   "metadata": {},
   "outputs": [],
   "source": [
    "\n",
    "# import folium\n",
    "# import json\n",
    "\n",
    "# # Load the neighborhood GeoJSON file\n",
    "# with open('./Planning Neighborhood Groups Map.geojson', 'r') as f:\n",
    "#     neighborhoods = json.load(f)\n",
    "\n",
    "# # Create a map centered on San Francisco\n",
    "# sf_map = folium.Map(location=[37.7749, -122.4194], zoom_start=12)\n",
    "\n",
    "# # Add the neighborhood boundaries to the map\n",
    "# folium.GeoJson(\n",
    "#     neighborhoods,\n",
    "#     name='Neighborhoods',\n",
    "#     style_function=lambda feature: {\n",
    "#         'fillColor': 'white',\n",
    "#         'color': 'gray',\n",
    "#         'weight': 2,\n",
    "#         'fillOpacity': 0.1\n",
    "#     }\n",
    "# ).add_to(sf_map)\n",
    "\n",
    "# # Display the map\n",
    "# sf_map"
   ]
  },
  {
   "cell_type": "code",
   "execution_count": 14,
   "metadata": {},
   "outputs": [
    {
     "ename": "NameError",
     "evalue": "name 'm' is not defined",
     "output_type": "error",
     "traceback": [
      "\u001b[1;31m---------------------------------------------------------------------------\u001b[0m",
      "\u001b[1;31mNameError\u001b[0m                                 Traceback (most recent call last)",
      "Cell \u001b[1;32mIn[14], line 46\u001b[0m\n\u001b[0;32m     44\u001b[0m     marker \u001b[39m=\u001b[39m Marker(location\u001b[39m=\u001b[39mlocation, draggable\u001b[39m=\u001b[39m\u001b[39mFalse\u001b[39;00m, title\u001b[39m=\u001b[39mrow[\u001b[39m'\u001b[39m\u001b[39mfocuse_Situation_by_number\u001b[39m\u001b[39m'\u001b[39m])\n\u001b[0;32m     45\u001b[0m     marker\u001b[39m.\u001b[39micon \u001b[39m=\u001b[39m AwesomeIcon(name\u001b[39m=\u001b[39m\u001b[39m'\u001b[39m\u001b[39mcheck\u001b[39m\u001b[39m'\u001b[39m, marker_color\u001b[39m=\u001b[39mmarker_color, icon_color\u001b[39m=\u001b[39m\u001b[39m'\u001b[39m\u001b[39mblack\u001b[39m\u001b[39m'\u001b[39m)\n\u001b[1;32m---> 46\u001b[0m     m\u001b[39m.\u001b[39madd_layer(marker)\n\u001b[0;32m     48\u001b[0m \u001b[39m# Display the map\u001b[39;00m\n\u001b[0;32m     49\u001b[0m m\n",
      "\u001b[1;31mNameError\u001b[0m: name 'm' is not defined"
     ]
    }
   ],
   "source": [
    "\n",
    "# from shapely import wkt\n",
    "# from ipyleaflet import Map, GeoJSON,Marker,AwesomeIcon\n",
    "# import requests\n",
    "\n",
    "# # Load the data\n",
    "# url = 'https://data.sfgov.org/resource/wr8u-xric.geojson'\n",
    "# response = requests.get(url)\n",
    "# data = response.json()\n",
    "\n",
    "# # Filter the data by suppression_personne property\n",
    "# battalions = [f for f in data['features'] if 'suppression_personne' in f['properties']]\n",
    "# filtered_data = {\n",
    "#     'type': 'FeatureCollection',\n",
    "#     'features': battalions\n",
    "# }\n",
    "\n",
    "# # Load the incidents data and transform the point column to lon and lat\n",
    "\n",
    "# df_2022.loc[df_2022['focuse_Situation_by_number'].str.startswith('1'), 'focuse_Situation_by_number'] = 'Fire/explosion'\n",
    "# df_2022.loc[df_2022['focuse_Situation_by_number'].str.startswith('5'), 'focuse_Situation_by_number'] = 'Public service'\n",
    "# df_2022.loc[df_2022['focuse_Situation_by_number'].str.startswith('7'), 'focuse_Situation_by_number'] = 'Alarm'\n",
    "# df_2022['focuse_Situation_by_number'].replace(['322','324'], 'Motor vehicle accident', inplace=True)\n",
    "# df_2022['focuse_Situation_by_number'].replace(['311'], 'Medical assist', inplace=True)\n",
    "\n",
    "# df_2022 = df_2022.loc[:, ['ID', 'point', 'Incident year', 'focuse_Situation_by_number']]\n",
    "# df_2022['point'] = df_2022['point'].apply(lambda p: p.wkt)\n",
    "# df_2022['point'] = df_2022['point'].apply(wkt.loads)\n",
    "# df_2022['lon'] = df_2022['point'].apply(lambda p: p.x)\n",
    "# df_2022['lat'] = df_2022['point'].apply(lambda p: p.y)\n",
    "\n",
    "# # Create a dictionary to map focuse_Situation_by_number values to colors\n",
    "# situation_color_dict = {\n",
    "#     'Fire/explosion': 'red',\n",
    "#     'Public service': 'green',\n",
    "#     'Alarm': 'blue',\n",
    "#     'Motor vehicle accident': 'orange',\n",
    "#     'Medical assist': 'purple'\n",
    "# }\n",
    "\n",
    "# # Add markers to the map for each incident in the data\n",
    "# for index, row in df_2022.iterrows():\n",
    "#     location = (row['lat'], row['lon'])\n",
    "#     marker_color = situation_color_dict[row['focuse_Situation_by_number']]\n",
    "#     marker = Marker(location=location, draggable=False, title=row['focuse_Situation_by_number'])\n",
    "#     marker.icon = AwesomeIcon(name='check', marker_color=marker_color, icon_color='black')\n",
    "#     m.add_layer(marker)\n",
    "\n",
    "# # Display the map\n",
    "# m\n"
   ]
  },
  {
   "cell_type": "code",
   "execution_count": null,
   "metadata": {},
   "outputs": [],
   "source": [
    "# from bokeh.models import ColumnDataSource,Legend,Select\n",
    "# from bokeh.io import output_notebook, show\n",
    "# from bokeh.palettes import Category10\n",
    "# import seaborn as sns\n",
    "# from bokeh.plotting import figure, show\n",
    "\n",
    "# # get a list of the top 10\n",
    "# top10_situations = top10.index.tolist()\n",
    "# #print(top10_situations)\n",
    "# df = df[df['Primary Situation'].isin(top10_situations)]\n",
    "\n",
    "# years = [year for year in range(2014, 2024)]\n",
    "\n",
    "# df = df[df['Incident year'].isin(years)]\n",
    "\n",
    "\n",
    "# Incident_year_Situation= df.groupby(['Primary Situation','Incident year']).size().reset_index(name='count')\n",
    "\n",
    "# year_Situation_counts = df.groupby(['Primary Situation']).size().reset_index(name='total_count')\n",
    "\n",
    "\n",
    "# Incident_year_Situation = pd.merge(Incident_year_Situation, year_Situation_counts, on='Primary Situation')\n",
    "\n",
    "\n",
    "# #calculate the count pr ituation pr Battalion\n",
    "# Incident_year_Situation = Incident_year_Situation.reset_index()\n",
    "# pivoted_focusData2 = Incident_year_Situation.pivot(index='Incident year', columns='Primary Situation', values='count')\n",
    "# # fill NaN values with 0\n",
    "# pivoted_focusData2 = pivoted_focusData2.fillna(0)\n",
    "# #pivoted_focusData2.head(12)\n",
    "\n",
    "# source2 = ColumnDataSource(pivoted_focusData2)\n",
    "# output_notebook()\n",
    "# #2. We also need to create an empty figure (we will add our stuff here later on). Mini sub-exercise: Find the a guide how to define a figure in Bokeh online. Here is a little help:\n",
    "# # Define a figure with title and axis labels\n",
    "# p = figure(x_range=list(pivoted_focusData2.index.astype(str)), title=\"counts for call Situation pr year\", x_axis_label='Primary Situation', width=1200)\n",
    "# #colo = sns.color_palette('viridis', len(list(pivoted_focusData2.index.astype(str)))).as_hex()\n",
    "# colo = sns.color_palette('viridis', len(list(pivoted_focusData2.columns))).as_hex()\n",
    "\n",
    "# #3. Now we are going to add the bars. In order to do so, we will use vbar (see the guide for help):\n",
    "# bar ={} # to store vbars\n",
    "# items=[]\n",
    "\n",
    "# ### here we will do a for loop:\n",
    "# for indx,Situation  in enumerate(pivoted_focusData2.columns):\n",
    "#     bar[Situation] =p.vbar(x='Incident year', \n",
    "#     top=Situation ,\n",
    "#     source=source2,\n",
    "#     muted=True, \n",
    "#     muted_alpha=0.05,\n",
    "#     fill_alpha=1.9,\n",
    "#     color=colo[indx],\n",
    "#     width=0.3)\n",
    "#     items.append((Situation, [bar[Situation]]))\n",
    "    \n",
    "    \n",
    "\n",
    "# #4. The last thing to do is to make your legend interactive and display the figure:\n",
    "# legend = Legend(items=items)\n",
    "# p.add_layout(legend, 'right') \n",
    "# p.legend.click_policy=\"mute\" \n",
    "# #output_file('bokeh.html')\n",
    "\n",
    "# show(p)\n"
   ]
  },
  {
   "cell_type": "code",
   "execution_count": 19,
   "metadata": {},
   "outputs": [
    {
     "ename": "ValueError",
     "evalue": "Mixing dicts with non-Series may lead to ambiguous ordering.",
     "output_type": "error",
     "traceback": [
      "\u001b[1;31m---------------------------------------------------------------------------\u001b[0m",
      "\u001b[1;31mValueError\u001b[0m                                Traceback (most recent call last)",
      "Cell \u001b[1;32mIn[19], line 6\u001b[0m\n\u001b[0;32m      4\u001b[0m \u001b[39m# Load the data\u001b[39;00m\n\u001b[0;32m      5\u001b[0m url \u001b[39m=\u001b[39m \u001b[39m'\u001b[39m\u001b[39mhttps://data.sfgov.org/resource/wr8u-xric.geojson\u001b[39m\u001b[39m'\u001b[39m\n\u001b[1;32m----> 6\u001b[0m df \u001b[39m=\u001b[39m pd\u001b[39m.\u001b[39;49mread_json(url)\n\u001b[0;32m      8\u001b[0m \u001b[39m# Create a dictionary to map focuse_Situation_by_number values to colors\u001b[39;00m\n\u001b[0;32m      9\u001b[0m situation_color_dict \u001b[39m=\u001b[39m {\n\u001b[0;32m     10\u001b[0m     \u001b[39m'\u001b[39m\u001b[39mFire/explosion\u001b[39m\u001b[39m'\u001b[39m: \u001b[39m'\u001b[39m\u001b[39mred\u001b[39m\u001b[39m'\u001b[39m,\n\u001b[0;32m     11\u001b[0m     \u001b[39m'\u001b[39m\u001b[39mPublic service\u001b[39m\u001b[39m'\u001b[39m: \u001b[39m'\u001b[39m\u001b[39mgreen\u001b[39m\u001b[39m'\u001b[39m,\n\u001b[1;32m   (...)\u001b[0m\n\u001b[0;32m     14\u001b[0m     \u001b[39m'\u001b[39m\u001b[39mMedical assist\u001b[39m\u001b[39m'\u001b[39m: \u001b[39m'\u001b[39m\u001b[39mblue\u001b[39m\u001b[39m'\u001b[39m\n\u001b[0;32m     15\u001b[0m }\n",
      "File \u001b[1;32mc:\\Users\\salim\\AppData\\Local\\Programs\\Python\\Python311\\Lib\\site-packages\\pandas\\util\\_decorators.py:211\u001b[0m, in \u001b[0;36mdeprecate_kwarg.<locals>._deprecate_kwarg.<locals>.wrapper\u001b[1;34m(*args, **kwargs)\u001b[0m\n\u001b[0;32m    209\u001b[0m     \u001b[39melse\u001b[39;00m:\n\u001b[0;32m    210\u001b[0m         kwargs[new_arg_name] \u001b[39m=\u001b[39m new_arg_value\n\u001b[1;32m--> 211\u001b[0m \u001b[39mreturn\u001b[39;00m func(\u001b[39m*\u001b[39;49margs, \u001b[39m*\u001b[39;49m\u001b[39m*\u001b[39;49mkwargs)\n",
      "File \u001b[1;32mc:\\Users\\salim\\AppData\\Local\\Programs\\Python\\Python311\\Lib\\site-packages\\pandas\\util\\_decorators.py:331\u001b[0m, in \u001b[0;36mdeprecate_nonkeyword_arguments.<locals>.decorate.<locals>.wrapper\u001b[1;34m(*args, **kwargs)\u001b[0m\n\u001b[0;32m    325\u001b[0m \u001b[39mif\u001b[39;00m \u001b[39mlen\u001b[39m(args) \u001b[39m>\u001b[39m num_allow_args:\n\u001b[0;32m    326\u001b[0m     warnings\u001b[39m.\u001b[39mwarn(\n\u001b[0;32m    327\u001b[0m         msg\u001b[39m.\u001b[39mformat(arguments\u001b[39m=\u001b[39m_format_argument_list(allow_args)),\n\u001b[0;32m    328\u001b[0m         \u001b[39mFutureWarning\u001b[39;00m,\n\u001b[0;32m    329\u001b[0m         stacklevel\u001b[39m=\u001b[39mfind_stack_level(),\n\u001b[0;32m    330\u001b[0m     )\n\u001b[1;32m--> 331\u001b[0m \u001b[39mreturn\u001b[39;00m func(\u001b[39m*\u001b[39;49margs, \u001b[39m*\u001b[39;49m\u001b[39m*\u001b[39;49mkwargs)\n",
      "File \u001b[1;32mc:\\Users\\salim\\AppData\\Local\\Programs\\Python\\Python311\\Lib\\site-packages\\pandas\\io\\json\\_json.py:757\u001b[0m, in \u001b[0;36mread_json\u001b[1;34m(path_or_buf, orient, typ, dtype, convert_axes, convert_dates, keep_default_dates, numpy, precise_float, date_unit, encoding, encoding_errors, lines, chunksize, compression, nrows, storage_options)\u001b[0m\n\u001b[0;32m    754\u001b[0m     \u001b[39mreturn\u001b[39;00m json_reader\n\u001b[0;32m    756\u001b[0m \u001b[39mwith\u001b[39;00m json_reader:\n\u001b[1;32m--> 757\u001b[0m     \u001b[39mreturn\u001b[39;00m json_reader\u001b[39m.\u001b[39;49mread()\n",
      "File \u001b[1;32mc:\\Users\\salim\\AppData\\Local\\Programs\\Python\\Python311\\Lib\\site-packages\\pandas\\io\\json\\_json.py:915\u001b[0m, in \u001b[0;36mJsonReader.read\u001b[1;34m(self)\u001b[0m\n\u001b[0;32m    913\u001b[0m         obj \u001b[39m=\u001b[39m \u001b[39mself\u001b[39m\u001b[39m.\u001b[39m_get_object_parser(\u001b[39mself\u001b[39m\u001b[39m.\u001b[39m_combine_lines(data_lines))\n\u001b[0;32m    914\u001b[0m \u001b[39melse\u001b[39;00m:\n\u001b[1;32m--> 915\u001b[0m     obj \u001b[39m=\u001b[39m \u001b[39mself\u001b[39;49m\u001b[39m.\u001b[39;49m_get_object_parser(\u001b[39mself\u001b[39;49m\u001b[39m.\u001b[39;49mdata)\n\u001b[0;32m    916\u001b[0m \u001b[39mself\u001b[39m\u001b[39m.\u001b[39mclose()\n\u001b[0;32m    917\u001b[0m \u001b[39mreturn\u001b[39;00m obj\n",
      "File \u001b[1;32mc:\\Users\\salim\\AppData\\Local\\Programs\\Python\\Python311\\Lib\\site-packages\\pandas\\io\\json\\_json.py:937\u001b[0m, in \u001b[0;36mJsonReader._get_object_parser\u001b[1;34m(self, json)\u001b[0m\n\u001b[0;32m    935\u001b[0m obj \u001b[39m=\u001b[39m \u001b[39mNone\u001b[39;00m\n\u001b[0;32m    936\u001b[0m \u001b[39mif\u001b[39;00m typ \u001b[39m==\u001b[39m \u001b[39m\"\u001b[39m\u001b[39mframe\u001b[39m\u001b[39m\"\u001b[39m:\n\u001b[1;32m--> 937\u001b[0m     obj \u001b[39m=\u001b[39m FrameParser(json, \u001b[39m*\u001b[39;49m\u001b[39m*\u001b[39;49mkwargs)\u001b[39m.\u001b[39;49mparse()\n\u001b[0;32m    939\u001b[0m \u001b[39mif\u001b[39;00m typ \u001b[39m==\u001b[39m \u001b[39m\"\u001b[39m\u001b[39mseries\u001b[39m\u001b[39m\"\u001b[39m \u001b[39mor\u001b[39;00m obj \u001b[39mis\u001b[39;00m \u001b[39mNone\u001b[39;00m:\n\u001b[0;32m    940\u001b[0m     \u001b[39mif\u001b[39;00m \u001b[39mnot\u001b[39;00m \u001b[39misinstance\u001b[39m(dtype, \u001b[39mbool\u001b[39m):\n",
      "File \u001b[1;32mc:\\Users\\salim\\AppData\\Local\\Programs\\Python\\Python311\\Lib\\site-packages\\pandas\\io\\json\\_json.py:1064\u001b[0m, in \u001b[0;36mParser.parse\u001b[1;34m(self)\u001b[0m\n\u001b[0;32m   1062\u001b[0m     \u001b[39mself\u001b[39m\u001b[39m.\u001b[39m_parse_numpy()\n\u001b[0;32m   1063\u001b[0m \u001b[39melse\u001b[39;00m:\n\u001b[1;32m-> 1064\u001b[0m     \u001b[39mself\u001b[39;49m\u001b[39m.\u001b[39;49m_parse_no_numpy()\n\u001b[0;32m   1066\u001b[0m \u001b[39mif\u001b[39;00m \u001b[39mself\u001b[39m\u001b[39m.\u001b[39mobj \u001b[39mis\u001b[39;00m \u001b[39mNone\u001b[39;00m:\n\u001b[0;32m   1067\u001b[0m     \u001b[39mreturn\u001b[39;00m \u001b[39mNone\u001b[39;00m\n",
      "File \u001b[1;32mc:\\Users\\salim\\AppData\\Local\\Programs\\Python\\Python311\\Lib\\site-packages\\pandas\\io\\json\\_json.py:1320\u001b[0m, in \u001b[0;36mFrameParser._parse_no_numpy\u001b[1;34m(self)\u001b[0m\n\u001b[0;32m   1317\u001b[0m orient \u001b[39m=\u001b[39m \u001b[39mself\u001b[39m\u001b[39m.\u001b[39morient\n\u001b[0;32m   1319\u001b[0m \u001b[39mif\u001b[39;00m orient \u001b[39m==\u001b[39m \u001b[39m\"\u001b[39m\u001b[39mcolumns\u001b[39m\u001b[39m\"\u001b[39m:\n\u001b[1;32m-> 1320\u001b[0m     \u001b[39mself\u001b[39m\u001b[39m.\u001b[39mobj \u001b[39m=\u001b[39m DataFrame(\n\u001b[0;32m   1321\u001b[0m         loads(json, precise_float\u001b[39m=\u001b[39;49m\u001b[39mself\u001b[39;49m\u001b[39m.\u001b[39;49mprecise_float), dtype\u001b[39m=\u001b[39;49m\u001b[39mNone\u001b[39;49;00m\n\u001b[0;32m   1322\u001b[0m     )\n\u001b[0;32m   1323\u001b[0m \u001b[39melif\u001b[39;00m orient \u001b[39m==\u001b[39m \u001b[39m\"\u001b[39m\u001b[39msplit\u001b[39m\u001b[39m\"\u001b[39m:\n\u001b[0;32m   1324\u001b[0m     decoded \u001b[39m=\u001b[39m {\n\u001b[0;32m   1325\u001b[0m         \u001b[39mstr\u001b[39m(k): v\n\u001b[0;32m   1326\u001b[0m         \u001b[39mfor\u001b[39;00m k, v \u001b[39min\u001b[39;00m loads(json, precise_float\u001b[39m=\u001b[39m\u001b[39mself\u001b[39m\u001b[39m.\u001b[39mprecise_float)\u001b[39m.\u001b[39mitems()\n\u001b[0;32m   1327\u001b[0m     }\n",
      "File \u001b[1;32mc:\\Users\\salim\\AppData\\Local\\Programs\\Python\\Python311\\Lib\\site-packages\\pandas\\core\\frame.py:664\u001b[0m, in \u001b[0;36mDataFrame.__init__\u001b[1;34m(self, data, index, columns, dtype, copy)\u001b[0m\n\u001b[0;32m    658\u001b[0m     mgr \u001b[39m=\u001b[39m \u001b[39mself\u001b[39m\u001b[39m.\u001b[39m_init_mgr(\n\u001b[0;32m    659\u001b[0m         data, axes\u001b[39m=\u001b[39m{\u001b[39m\"\u001b[39m\u001b[39mindex\u001b[39m\u001b[39m\"\u001b[39m: index, \u001b[39m\"\u001b[39m\u001b[39mcolumns\u001b[39m\u001b[39m\"\u001b[39m: columns}, dtype\u001b[39m=\u001b[39mdtype, copy\u001b[39m=\u001b[39mcopy\n\u001b[0;32m    660\u001b[0m     )\n\u001b[0;32m    662\u001b[0m \u001b[39melif\u001b[39;00m \u001b[39misinstance\u001b[39m(data, \u001b[39mdict\u001b[39m):\n\u001b[0;32m    663\u001b[0m     \u001b[39m# GH#38939 de facto copy defaults to False only in non-dict cases\u001b[39;00m\n\u001b[1;32m--> 664\u001b[0m     mgr \u001b[39m=\u001b[39m dict_to_mgr(data, index, columns, dtype\u001b[39m=\u001b[39;49mdtype, copy\u001b[39m=\u001b[39;49mcopy, typ\u001b[39m=\u001b[39;49mmanager)\n\u001b[0;32m    665\u001b[0m \u001b[39melif\u001b[39;00m \u001b[39misinstance\u001b[39m(data, ma\u001b[39m.\u001b[39mMaskedArray):\n\u001b[0;32m    666\u001b[0m     \u001b[39mimport\u001b[39;00m \u001b[39mnumpy\u001b[39;00m\u001b[39m.\u001b[39;00m\u001b[39mma\u001b[39;00m\u001b[39m.\u001b[39;00m\u001b[39mmrecords\u001b[39;00m \u001b[39mas\u001b[39;00m \u001b[39mmrecords\u001b[39;00m\n",
      "File \u001b[1;32mc:\\Users\\salim\\AppData\\Local\\Programs\\Python\\Python311\\Lib\\site-packages\\pandas\\core\\internals\\construction.py:493\u001b[0m, in \u001b[0;36mdict_to_mgr\u001b[1;34m(data, index, columns, dtype, typ, copy)\u001b[0m\n\u001b[0;32m    489\u001b[0m     \u001b[39melse\u001b[39;00m:\n\u001b[0;32m    490\u001b[0m         \u001b[39m# dtype check to exclude e.g. range objects, scalars\u001b[39;00m\n\u001b[0;32m    491\u001b[0m         arrays \u001b[39m=\u001b[39m [x\u001b[39m.\u001b[39mcopy() \u001b[39mif\u001b[39;00m \u001b[39mhasattr\u001b[39m(x, \u001b[39m\"\u001b[39m\u001b[39mdtype\u001b[39m\u001b[39m\"\u001b[39m) \u001b[39melse\u001b[39;00m x \u001b[39mfor\u001b[39;00m x \u001b[39min\u001b[39;00m arrays]\n\u001b[1;32m--> 493\u001b[0m \u001b[39mreturn\u001b[39;00m arrays_to_mgr(arrays, columns, index, dtype\u001b[39m=\u001b[39;49mdtype, typ\u001b[39m=\u001b[39;49mtyp, consolidate\u001b[39m=\u001b[39;49mcopy)\n",
      "File \u001b[1;32mc:\\Users\\salim\\AppData\\Local\\Programs\\Python\\Python311\\Lib\\site-packages\\pandas\\core\\internals\\construction.py:118\u001b[0m, in \u001b[0;36marrays_to_mgr\u001b[1;34m(arrays, columns, index, dtype, verify_integrity, typ, consolidate)\u001b[0m\n\u001b[0;32m    115\u001b[0m \u001b[39mif\u001b[39;00m verify_integrity:\n\u001b[0;32m    116\u001b[0m     \u001b[39m# figure out the index, if necessary\u001b[39;00m\n\u001b[0;32m    117\u001b[0m     \u001b[39mif\u001b[39;00m index \u001b[39mis\u001b[39;00m \u001b[39mNone\u001b[39;00m:\n\u001b[1;32m--> 118\u001b[0m         index \u001b[39m=\u001b[39m _extract_index(arrays)\n\u001b[0;32m    119\u001b[0m     \u001b[39melse\u001b[39;00m:\n\u001b[0;32m    120\u001b[0m         index \u001b[39m=\u001b[39m ensure_index(index)\n",
      "File \u001b[1;32mc:\\Users\\salim\\AppData\\Local\\Programs\\Python\\Python311\\Lib\\site-packages\\pandas\\core\\internals\\construction.py:669\u001b[0m, in \u001b[0;36m_extract_index\u001b[1;34m(data)\u001b[0m\n\u001b[0;32m    666\u001b[0m     \u001b[39mraise\u001b[39;00m \u001b[39mValueError\u001b[39;00m(\u001b[39m\"\u001b[39m\u001b[39mAll arrays must be of the same length\u001b[39m\u001b[39m\"\u001b[39m)\n\u001b[0;32m    668\u001b[0m \u001b[39mif\u001b[39;00m have_dicts:\n\u001b[1;32m--> 669\u001b[0m     \u001b[39mraise\u001b[39;00m \u001b[39mValueError\u001b[39;00m(\n\u001b[0;32m    670\u001b[0m         \u001b[39m\"\u001b[39m\u001b[39mMixing dicts with non-Series may lead to ambiguous ordering.\u001b[39m\u001b[39m\"\u001b[39m\n\u001b[0;32m    671\u001b[0m     )\n\u001b[0;32m    673\u001b[0m \u001b[39mif\u001b[39;00m have_series:\n\u001b[0;32m    674\u001b[0m     \u001b[39massert\u001b[39;00m index \u001b[39mis\u001b[39;00m \u001b[39mnot\u001b[39;00m \u001b[39mNone\u001b[39;00m  \u001b[39m# for mypy\u001b[39;00m\n",
      "\u001b[1;31mValueError\u001b[0m: Mixing dicts with non-Series may lead to ambiguous ordering."
     ]
    }
   ],
   "source": [
    "# import pandas as pd\n",
    "# import requests\n",
    "\n",
    "# # Load the data\n",
    "# url = 'https://data.sfgov.org/resource/wr8u-xric.geojson'\n",
    "# response = requests.get(url)\n",
    "# data = response.json()\n",
    "\n",
    "# # Convert the JSON data to a pandas DataFrame\n",
    "# df = pd.json_normalize(data, record_path='features')\n",
    "\n",
    "# # Create a dictionary to map focuse_Situation_by_number values to colors\n",
    "# situation_color_dict = {\n",
    "#     'Fire/explosion': 'red',\n",
    "#     'Public service': 'green',\n",
    "#     'Alarm': 'purple',\n",
    "#     'Motor vehicle accident': 'orange',\n",
    "#     'Medical assist': 'blue'\n",
    "# }\n",
    "\n",
    "# color_icon_dict = {\n",
    "#     'red': 'fa-fire',\n",
    "#     'green': 'fa-universal-access',\n",
    "#     'blue': 'fa-ambulance',\n",
    "#     'orange': 'fa-car',\n",
    "#     'purple': 'fa-bell'\n",
    "# }\n",
    "\n",
    "# # Create the map using ipyleaflet\n",
    "# from ipyleaflet import Map, GeoJSON, Marker, AwesomeIcon\n",
    "\n",
    "# my_map = Map(center=(37.7749, -122.4194), zoom=12, layout={'height': '600px', 'width': '100%'})\n",
    "# geojson = GeoJSON(data=data)\n",
    "# my_map.add_layer(geojson)\n",
    "\n",
    "# # Add markers to the map for each incident in the data\n",
    "# for index, row in df.iterrows():\n",
    "#     location = (row['geometry.coordinates'][1], row['geometry.coordinates'][0])\n",
    "#     situation = row['properties.focuse_situation_by_number']\n",
    "#     marker_color = situation_color_dict[situation]\n",
    "#     marker = Marker(location=location, draggable=False, title=situation)\n",
    "#     marker.icon = AwesomeIcon(name=color_icon_dict[marker_color], marker_color=marker_color, icon_color='black')\n",
    "#     my_map.add_layer(marker)\n",
    "\n",
    "# # Display the map\n",
    "# my_map\n"
   ]
  }
 ],
 "metadata": {
  "kernelspec": {
   "display_name": "Python 3",
   "language": "python",
   "name": "python3"
  },
  "language_info": {
   "codemirror_mode": {
    "name": "ipython",
    "version": 3
   },
   "file_extension": ".py",
   "mimetype": "text/x-python",
   "name": "python",
   "nbconvert_exporter": "python",
   "pygments_lexer": "ipython3",
   "version": "3.11.1"
  }
 },
 "nbformat": 4,
 "nbformat_minor": 0
}
