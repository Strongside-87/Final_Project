{
 "cells": [
  {
   "cell_type": "code",
   "execution_count": 2,
   "metadata": {},
   "outputs": [],
   "source": [
    "import pandas as pd\n",
    "import numpy as np\n",
    "import seaborn as sns\n",
    "import matplotlib.pyplot as plt\n",
    "import plotly.graph_objs as go\n",
    "import plotly.offline as pyo\n",
    "import mplcursors\n",
    "import plotly.tools as tls\n"
   ]
  },
  {
   "attachments": {},
   "cell_type": "markdown",
   "metadata": {},
   "source": [
    "# Part 2"
   ]
  },
  {
   "attachments": {},
   "cell_type": "markdown",
   "metadata": {},
   "source": [
    "## 1. Bar chart"
   ]
  },
  {
   "attachments": {},
   "cell_type": "markdown",
   "metadata": {},
   "source": [
    "This code is changing some columns to a alarm date and arrival time format and figuring out the time difference between two of those columns. "
   ]
  },
  {
   "cell_type": "code",
   "execution_count": 3,
   "metadata": {},
   "outputs": [
    {
     "ename": "NameError",
     "evalue": "name 'df' is not defined",
     "output_type": "error",
     "traceback": [
      "\u001b[1;31m---------------------------------------------------------------------------\u001b[0m",
      "\u001b[1;31mNameError\u001b[0m                                 Traceback (most recent call last)",
      "Cell \u001b[1;32mIn[3], line 7\u001b[0m\n\u001b[0;32m      1\u001b[0m \u001b[39m# Author-\u001b[39;00m\n\u001b[0;32m      2\u001b[0m \u001b[39m# Ali Dadayev \u001b[39;00m\n\u001b[0;32m      3\u001b[0m \n\u001b[0;32m      4\u001b[0m \n\u001b[0;32m      5\u001b[0m \n\u001b[0;32m      6\u001b[0m \u001b[39m# This line changes the \"Arrival DtTm\" column in the DataFrame called \"df\" into a format that can be understood as a date and time. It does this by using the function called \"pd.to_datetime()\".\u001b[39;00m\n\u001b[1;32m----> 7\u001b[0m df[\u001b[39m'\u001b[39m\u001b[39mArrival DtTm\u001b[39m\u001b[39m'\u001b[39m] \u001b[39m=\u001b[39m pd\u001b[39m.\u001b[39mto_datetime(df[\u001b[39m'\u001b[39m\u001b[39mArrival DtTm\u001b[39m\u001b[39m'\u001b[39m])\n\u001b[0;32m      8\u001b[0m df[\u001b[39m'\u001b[39m\u001b[39mArrival DtTm\u001b[39m\u001b[39m'\u001b[39m] \u001b[39m=\u001b[39m df[\u001b[39m'\u001b[39m\u001b[39mArrival DtTm\u001b[39m\u001b[39m'\u001b[39m]\n\u001b[0;32m     10\u001b[0m \u001b[39m# This line converts the \"Alarm DtTm\" column of the DataFrame df to a datetime format using the pd.to_datetime() function.\u001b[39;00m\n",
      "\u001b[1;31mNameError\u001b[0m: name 'df' is not defined"
     ]
    }
   ],
   "source": [
    "\n",
    "# Author-\n",
    "# Ali Dadayev \n",
    "\n",
    "\n",
    "\n",
    "# This line changes the \"Arrival DtTm\" column in the DataFrame called \"df\" into a format that can be understood as a date and time. It does this by using the function called \"pd.to_datetime()\".\n",
    "df['Arrival DtTm'] = pd.to_datetime(df['Arrival DtTm'])\n",
    "df['Arrival DtTm'] = df['Arrival DtTm']\n",
    "\n",
    "# This line converts the \"Alarm DtTm\" column of the DataFrame df to a datetime format using the pd.to_datetime() function.\n",
    "df['Alarm DtTm'] = pd.to_datetime(df['Alarm DtTm'])\n",
    "\n",
    "# It calculates the time difference between the \"Arrival DtTm\" column and the \"Alarm DtTm\" column and saves it in a new column called \"Arrive time_minutes\".\n",
    "df['Arrive time_minutes'] = (df['Arrival DtTm'] - df['Alarm DtTm'])\n",
    "\n",
    "# df.head()"
   ]
  },
  {
   "attachments": {},
   "cell_type": "markdown",
   "metadata": {},
   "source": [
    "This code calculates the average (mean) arrival time for a dataset. It uses the mean() method to calculate the average of the \"Arrive time_minutes\" column of the DataFrame df, which was created in the previous code block by subtracting the \"Alarm DtTm\" column from the \"Arrival DtTm\" column."
   ]
  },
  {
   "cell_type": "code",
   "execution_count": 20,
   "metadata": {},
   "outputs": [],
   "source": [
    "\n",
    "# Author-\n",
    "# Ali Dadayev \n",
    "\n",
    "\n",
    "# This line calculates the average (mean) value of the \"Arrive time_minutes\" column of the pandas DataFrame df, and stores the result in the variable average_arrival_time.\n",
    "average_arrival_time = df['Arrive time_minutes'].mean()\n",
    "\n",
    "# This line changes the \"Arrival DtTm\" column in the DataFrame called \"df\" into a format that can be understood as a date and time. It does this by using the function called \"pd.to_datetime()\".\n",
    "df['Arrival DtTm'] = pd.to_datetime(df['Arrival DtTm'])\n",
    "df['Arrival DtTm'] = df['Arrival DtTm']\n",
    "\n",
    "# This line converts the \"Alarm DtTm\" column of the DataFrame df to a datetime format using the pd.to_datetime() function.\n",
    "df['Alarm DtTm'] = pd.to_datetime(df['Alarm DtTm'])\n",
    "\n",
    "# It calculates the time difference between the \"Arrival DtTm\" column and the \"Alarm DtTm\" column and saves it in a new column called \"Arrive time_minutes\".\n",
    "df['Arrive time_minutes'] = (df['Arrival DtTm'] - df['Alarm DtTm'])\n",
    "\n",
    "# This line prints out a message to the console that includes the average arrival time.\n",
    "# print(\"The average arrival time is:\", average_arrival_time)\n",
    "\n"
   ]
  },
  {
   "attachments": {},
   "cell_type": "markdown",
   "metadata": {},
   "source": [
    "The code down below calculates the average arrival time of fire department units to emergency incidents, grouped by battalion."
   ]
  },
  {
   "cell_type": "code",
   "execution_count": 21,
   "metadata": {},
   "outputs": [],
   "source": [
    "\n",
    "# Author-\n",
    "# Ali Dadayev \n",
    "\n",
    "\n",
    "#This code creates a new column in df called \"Arrive time_minutes\" that contains the difference between the \"Arrival DtTm\" and \"Alarm DtTm\" columns of df.\n",
    "df['Arrive time_minutes'] = ((df['Arrival DtTm'] - df['Alarm DtTm']).dt.total_seconds() / 60.0).round(2)\n",
    "\n",
    "\n",
    "# Convert to minutes and add a new column\n",
    "\n",
    "df = df[df['Battalion'] != 'B99']\n",
    "avg_arrival_time_by_battalion = df.groupby('Battalion')['Arrive time_minutes'].mean().round(2)\n",
    "\n",
    "# This line calculates the average (mean) value of the \"Arrive time_minutes\" column of the pandas DataFrame df, and stores the result in the variable average_arrival_time.\n",
    "average_arrival_time = df['Arrive time_minutes'].mean()\n",
    "\n",
    "# This line changes the \"Arrival DtTm\" column in the DataFrame called \"df\" into a format that can be understood as a date and time. It does this by using the function called \"pd.to_datetime()\".\n",
    "df['Arrival DtTm'] = pd.to_datetime(df['Arrival DtTm'])\n",
    "df['Arrival DtTm'] = df['Arrival DtTm']\n",
    "\n",
    "# This line converts the \"Alarm DtTm\" column of the DataFrame df to a datetime format using the pd.to_datetime() function.\n",
    "df['Alarm DtTm'] = pd.to_datetime(df['Alarm DtTm'])\n",
    "\n",
    "# It calculates the time difference between the \"Arrival DtTm\" column and the \"Alarm DtTm\" column and saves it in a new column called \"Arrive time_minutes\".\n",
    "df['Arrive time_minutes'] = (df['Arrival DtTm'] - df['Alarm DtTm'])\n",
    "\n",
    "\n",
    "\n",
    "#print(avg_arrival_time_by_battalion)\n"
   ]
  },
  {
   "attachments": {},
   "cell_type": "markdown",
   "metadata": {},
   "source": [
    "This code generates a bar chart using the Plotly library to visualize the average arrival time of different fire departments or \"battalions\" to a fire scene."
   ]
  },
  {
   "cell_type": "code",
   "execution_count": 22,
   "metadata": {},
   "outputs": [
    {
     "data": {
      "application/vnd.plotly.v1+json": {
       "config": {
        "linkText": "Export to plot.ly",
        "plotlyServerURL": "https://plot.ly",
        "showLink": false
       },
       "data": [
        {
         "marker": {
          "color": [
           4.77,
           4.8,
           5.28,
           4.65,
           4.78,
           5.17,
           5.41,
           5.8,
           5.89,
           5.8
          ],
          "colorscale": [
           [
            0,
            "rgb(255,245,240)"
           ],
           [
            0.125,
            "rgb(254,224,210)"
           ],
           [
            0.25,
            "rgb(252,187,161)"
           ],
           [
            0.375,
            "rgb(252,146,114)"
           ],
           [
            0.5,
            "rgb(251,106,74)"
           ],
           [
            0.625,
            "rgb(239,59,44)"
           ],
           [
            0.75,
            "rgb(203,24,29)"
           ],
           [
            0.875,
            "rgb(165,15,21)"
           ],
           [
            1,
            "rgb(103,0,13)"
           ]
          ],
          "reversescale": false
         },
         "text": [
          4.77,
          4.8,
          5.28,
          4.65,
          4.78,
          5.17,
          5.41,
          5.8,
          5.89,
          5.8
         ],
         "textposition": "auto",
         "type": "bar",
         "x": [
          "B01",
          "B02",
          "B03",
          "B04",
          "B05",
          "B06",
          "B07",
          "B08",
          "B09",
          "B10"
         ],
         "y": [
          4.77,
          4.8,
          5.28,
          4.65,
          4.78,
          5.17,
          5.41,
          5.8,
          5.89,
          5.8
         ]
        }
       ],
       "layout": {
        "hovermode": "closest",
        "template": {
         "data": {
          "bar": [
           {
            "error_x": {
             "color": "#2a3f5f"
            },
            "error_y": {
             "color": "#2a3f5f"
            },
            "marker": {
             "line": {
              "color": "#E5ECF6",
              "width": 0.5
             },
             "pattern": {
              "fillmode": "overlay",
              "size": 10,
              "solidity": 0.2
             }
            },
            "type": "bar"
           }
          ],
          "barpolar": [
           {
            "marker": {
             "line": {
              "color": "#E5ECF6",
              "width": 0.5
             },
             "pattern": {
              "fillmode": "overlay",
              "size": 10,
              "solidity": 0.2
             }
            },
            "type": "barpolar"
           }
          ],
          "carpet": [
           {
            "aaxis": {
             "endlinecolor": "#2a3f5f",
             "gridcolor": "white",
             "linecolor": "white",
             "minorgridcolor": "white",
             "startlinecolor": "#2a3f5f"
            },
            "baxis": {
             "endlinecolor": "#2a3f5f",
             "gridcolor": "white",
             "linecolor": "white",
             "minorgridcolor": "white",
             "startlinecolor": "#2a3f5f"
            },
            "type": "carpet"
           }
          ],
          "choropleth": [
           {
            "colorbar": {
             "outlinewidth": 0,
             "ticks": ""
            },
            "type": "choropleth"
           }
          ],
          "contour": [
           {
            "colorbar": {
             "outlinewidth": 0,
             "ticks": ""
            },
            "colorscale": [
             [
              0,
              "#0d0887"
             ],
             [
              0.1111111111111111,
              "#46039f"
             ],
             [
              0.2222222222222222,
              "#7201a8"
             ],
             [
              0.3333333333333333,
              "#9c179e"
             ],
             [
              0.4444444444444444,
              "#bd3786"
             ],
             [
              0.5555555555555556,
              "#d8576b"
             ],
             [
              0.6666666666666666,
              "#ed7953"
             ],
             [
              0.7777777777777778,
              "#fb9f3a"
             ],
             [
              0.8888888888888888,
              "#fdca26"
             ],
             [
              1,
              "#f0f921"
             ]
            ],
            "type": "contour"
           }
          ],
          "contourcarpet": [
           {
            "colorbar": {
             "outlinewidth": 0,
             "ticks": ""
            },
            "type": "contourcarpet"
           }
          ],
          "heatmap": [
           {
            "colorbar": {
             "outlinewidth": 0,
             "ticks": ""
            },
            "colorscale": [
             [
              0,
              "#0d0887"
             ],
             [
              0.1111111111111111,
              "#46039f"
             ],
             [
              0.2222222222222222,
              "#7201a8"
             ],
             [
              0.3333333333333333,
              "#9c179e"
             ],
             [
              0.4444444444444444,
              "#bd3786"
             ],
             [
              0.5555555555555556,
              "#d8576b"
             ],
             [
              0.6666666666666666,
              "#ed7953"
             ],
             [
              0.7777777777777778,
              "#fb9f3a"
             ],
             [
              0.8888888888888888,
              "#fdca26"
             ],
             [
              1,
              "#f0f921"
             ]
            ],
            "type": "heatmap"
           }
          ],
          "heatmapgl": [
           {
            "colorbar": {
             "outlinewidth": 0,
             "ticks": ""
            },
            "colorscale": [
             [
              0,
              "#0d0887"
             ],
             [
              0.1111111111111111,
              "#46039f"
             ],
             [
              0.2222222222222222,
              "#7201a8"
             ],
             [
              0.3333333333333333,
              "#9c179e"
             ],
             [
              0.4444444444444444,
              "#bd3786"
             ],
             [
              0.5555555555555556,
              "#d8576b"
             ],
             [
              0.6666666666666666,
              "#ed7953"
             ],
             [
              0.7777777777777778,
              "#fb9f3a"
             ],
             [
              0.8888888888888888,
              "#fdca26"
             ],
             [
              1,
              "#f0f921"
             ]
            ],
            "type": "heatmapgl"
           }
          ],
          "histogram": [
           {
            "marker": {
             "pattern": {
              "fillmode": "overlay",
              "size": 10,
              "solidity": 0.2
             }
            },
            "type": "histogram"
           }
          ],
          "histogram2d": [
           {
            "colorbar": {
             "outlinewidth": 0,
             "ticks": ""
            },
            "colorscale": [
             [
              0,
              "#0d0887"
             ],
             [
              0.1111111111111111,
              "#46039f"
             ],
             [
              0.2222222222222222,
              "#7201a8"
             ],
             [
              0.3333333333333333,
              "#9c179e"
             ],
             [
              0.4444444444444444,
              "#bd3786"
             ],
             [
              0.5555555555555556,
              "#d8576b"
             ],
             [
              0.6666666666666666,
              "#ed7953"
             ],
             [
              0.7777777777777778,
              "#fb9f3a"
             ],
             [
              0.8888888888888888,
              "#fdca26"
             ],
             [
              1,
              "#f0f921"
             ]
            ],
            "type": "histogram2d"
           }
          ],
          "histogram2dcontour": [
           {
            "colorbar": {
             "outlinewidth": 0,
             "ticks": ""
            },
            "colorscale": [
             [
              0,
              "#0d0887"
             ],
             [
              0.1111111111111111,
              "#46039f"
             ],
             [
              0.2222222222222222,
              "#7201a8"
             ],
             [
              0.3333333333333333,
              "#9c179e"
             ],
             [
              0.4444444444444444,
              "#bd3786"
             ],
             [
              0.5555555555555556,
              "#d8576b"
             ],
             [
              0.6666666666666666,
              "#ed7953"
             ],
             [
              0.7777777777777778,
              "#fb9f3a"
             ],
             [
              0.8888888888888888,
              "#fdca26"
             ],
             [
              1,
              "#f0f921"
             ]
            ],
            "type": "histogram2dcontour"
           }
          ],
          "mesh3d": [
           {
            "colorbar": {
             "outlinewidth": 0,
             "ticks": ""
            },
            "type": "mesh3d"
           }
          ],
          "parcoords": [
           {
            "line": {
             "colorbar": {
              "outlinewidth": 0,
              "ticks": ""
             }
            },
            "type": "parcoords"
           }
          ],
          "pie": [
           {
            "automargin": true,
            "type": "pie"
           }
          ],
          "scatter": [
           {
            "fillpattern": {
             "fillmode": "overlay",
             "size": 10,
             "solidity": 0.2
            },
            "type": "scatter"
           }
          ],
          "scatter3d": [
           {
            "line": {
             "colorbar": {
              "outlinewidth": 0,
              "ticks": ""
             }
            },
            "marker": {
             "colorbar": {
              "outlinewidth": 0,
              "ticks": ""
             }
            },
            "type": "scatter3d"
           }
          ],
          "scattercarpet": [
           {
            "marker": {
             "colorbar": {
              "outlinewidth": 0,
              "ticks": ""
             }
            },
            "type": "scattercarpet"
           }
          ],
          "scattergeo": [
           {
            "marker": {
             "colorbar": {
              "outlinewidth": 0,
              "ticks": ""
             }
            },
            "type": "scattergeo"
           }
          ],
          "scattergl": [
           {
            "marker": {
             "colorbar": {
              "outlinewidth": 0,
              "ticks": ""
             }
            },
            "type": "scattergl"
           }
          ],
          "scattermapbox": [
           {
            "marker": {
             "colorbar": {
              "outlinewidth": 0,
              "ticks": ""
             }
            },
            "type": "scattermapbox"
           }
          ],
          "scatterpolar": [
           {
            "marker": {
             "colorbar": {
              "outlinewidth": 0,
              "ticks": ""
             }
            },
            "type": "scatterpolar"
           }
          ],
          "scatterpolargl": [
           {
            "marker": {
             "colorbar": {
              "outlinewidth": 0,
              "ticks": ""
             }
            },
            "type": "scatterpolargl"
           }
          ],
          "scatterternary": [
           {
            "marker": {
             "colorbar": {
              "outlinewidth": 0,
              "ticks": ""
             }
            },
            "type": "scatterternary"
           }
          ],
          "surface": [
           {
            "colorbar": {
             "outlinewidth": 0,
             "ticks": ""
            },
            "colorscale": [
             [
              0,
              "#0d0887"
             ],
             [
              0.1111111111111111,
              "#46039f"
             ],
             [
              0.2222222222222222,
              "#7201a8"
             ],
             [
              0.3333333333333333,
              "#9c179e"
             ],
             [
              0.4444444444444444,
              "#bd3786"
             ],
             [
              0.5555555555555556,
              "#d8576b"
             ],
             [
              0.6666666666666666,
              "#ed7953"
             ],
             [
              0.7777777777777778,
              "#fb9f3a"
             ],
             [
              0.8888888888888888,
              "#fdca26"
             ],
             [
              1,
              "#f0f921"
             ]
            ],
            "type": "surface"
           }
          ],
          "table": [
           {
            "cells": {
             "fill": {
              "color": "#EBF0F8"
             },
             "line": {
              "color": "white"
             }
            },
            "header": {
             "fill": {
              "color": "#C8D4E3"
             },
             "line": {
              "color": "white"
             }
            },
            "type": "table"
           }
          ]
         },
         "layout": {
          "annotationdefaults": {
           "arrowcolor": "#2a3f5f",
           "arrowhead": 0,
           "arrowwidth": 1
          },
          "autotypenumbers": "strict",
          "coloraxis": {
           "colorbar": {
            "outlinewidth": 0,
            "ticks": ""
           }
          },
          "colorscale": {
           "diverging": [
            [
             0,
             "#8e0152"
            ],
            [
             0.1,
             "#c51b7d"
            ],
            [
             0.2,
             "#de77ae"
            ],
            [
             0.3,
             "#f1b6da"
            ],
            [
             0.4,
             "#fde0ef"
            ],
            [
             0.5,
             "#f7f7f7"
            ],
            [
             0.6,
             "#e6f5d0"
            ],
            [
             0.7,
             "#b8e186"
            ],
            [
             0.8,
             "#7fbc41"
            ],
            [
             0.9,
             "#4d9221"
            ],
            [
             1,
             "#276419"
            ]
           ],
           "sequential": [
            [
             0,
             "#0d0887"
            ],
            [
             0.1111111111111111,
             "#46039f"
            ],
            [
             0.2222222222222222,
             "#7201a8"
            ],
            [
             0.3333333333333333,
             "#9c179e"
            ],
            [
             0.4444444444444444,
             "#bd3786"
            ],
            [
             0.5555555555555556,
             "#d8576b"
            ],
            [
             0.6666666666666666,
             "#ed7953"
            ],
            [
             0.7777777777777778,
             "#fb9f3a"
            ],
            [
             0.8888888888888888,
             "#fdca26"
            ],
            [
             1,
             "#f0f921"
            ]
           ],
           "sequentialminus": [
            [
             0,
             "#0d0887"
            ],
            [
             0.1111111111111111,
             "#46039f"
            ],
            [
             0.2222222222222222,
             "#7201a8"
            ],
            [
             0.3333333333333333,
             "#9c179e"
            ],
            [
             0.4444444444444444,
             "#bd3786"
            ],
            [
             0.5555555555555556,
             "#d8576b"
            ],
            [
             0.6666666666666666,
             "#ed7953"
            ],
            [
             0.7777777777777778,
             "#fb9f3a"
            ],
            [
             0.8888888888888888,
             "#fdca26"
            ],
            [
             1,
             "#f0f921"
            ]
           ]
          },
          "colorway": [
           "#636efa",
           "#EF553B",
           "#00cc96",
           "#ab63fa",
           "#FFA15A",
           "#19d3f3",
           "#FF6692",
           "#B6E880",
           "#FF97FF",
           "#FECB52"
          ],
          "font": {
           "color": "#2a3f5f"
          },
          "geo": {
           "bgcolor": "white",
           "lakecolor": "white",
           "landcolor": "#E5ECF6",
           "showlakes": true,
           "showland": true,
           "subunitcolor": "white"
          },
          "hoverlabel": {
           "align": "left"
          },
          "hovermode": "closest",
          "mapbox": {
           "style": "light"
          },
          "paper_bgcolor": "white",
          "plot_bgcolor": "#E5ECF6",
          "polar": {
           "angularaxis": {
            "gridcolor": "white",
            "linecolor": "white",
            "ticks": ""
           },
           "bgcolor": "#E5ECF6",
           "radialaxis": {
            "gridcolor": "white",
            "linecolor": "white",
            "ticks": ""
           }
          },
          "scene": {
           "xaxis": {
            "backgroundcolor": "#E5ECF6",
            "gridcolor": "white",
            "gridwidth": 2,
            "linecolor": "white",
            "showbackground": true,
            "ticks": "",
            "zerolinecolor": "white"
           },
           "yaxis": {
            "backgroundcolor": "#E5ECF6",
            "gridcolor": "white",
            "gridwidth": 2,
            "linecolor": "white",
            "showbackground": true,
            "ticks": "",
            "zerolinecolor": "white"
           },
           "zaxis": {
            "backgroundcolor": "#E5ECF6",
            "gridcolor": "white",
            "gridwidth": 2,
            "linecolor": "white",
            "showbackground": true,
            "ticks": "",
            "zerolinecolor": "white"
           }
          },
          "shapedefaults": {
           "line": {
            "color": "#2a3f5f"
           }
          },
          "ternary": {
           "aaxis": {
            "gridcolor": "white",
            "linecolor": "white",
            "ticks": ""
           },
           "baxis": {
            "gridcolor": "white",
            "linecolor": "white",
            "ticks": ""
           },
           "bgcolor": "#E5ECF6",
           "caxis": {
            "gridcolor": "white",
            "linecolor": "white",
            "ticks": ""
           }
          },
          "title": {
           "x": 0.05
          },
          "xaxis": {
           "automargin": true,
           "gridcolor": "white",
           "linecolor": "white",
           "ticks": "",
           "title": {
            "standoff": 15
           },
           "zerolinecolor": "white",
           "zerolinewidth": 2
          },
          "yaxis": {
           "automargin": true,
           "gridcolor": "white",
           "linecolor": "white",
           "ticks": "",
           "title": {
            "standoff": 15
           },
           "zerolinecolor": "white",
           "zerolinewidth": 2
          }
         }
        },
        "title": {
         "text": "Average Arrival Time by Battalion"
        },
        "xaxis": {
         "title": {
          "text": "Battalion"
         }
        },
        "yaxis": {
         "title": {
          "text": "Average Arrival Time (Minutes)"
         }
        }
       }
      }
     },
     "metadata": {},
     "output_type": "display_data"
    }
   ],
   "source": [
    "\n",
    "# Author-\n",
    "# Ali Dadayev \n",
    "\n",
    "\n",
    "# Convert to minutes and add a new column\n",
    "df['Arrive time_minutes'] = ((df['Arrival DtTm'] - df['Alarm DtTm']).dt.total_seconds() / 60.0).round(2)\n",
    "df = df[df['Battalion'] != 'B99']\n",
    "avg_arrival_time_by_battalion = df.groupby('Battalion')['Arrive time_minutes'].mean().round(2).reset_index()\n",
    "\n",
    "# Create a bar chart with color gradient\n",
    "data = [go.Bar(\n",
    "            x=avg_arrival_time_by_battalion['Battalion'],\n",
    "            y=avg_arrival_time_by_battalion['Arrive time_minutes'],\n",
    "            marker=dict(color=avg_arrival_time_by_battalion['Arrive time_minutes'],\n",
    "                        colorscale='Reds',\n",
    "                        reversescale=False\n",
    "                       ),\n",
    "            text=avg_arrival_time_by_battalion['Arrive time_minutes'],\n",
    "            textposition='auto'\n",
    "        )]\n",
    "\n",
    "\n",
    "\n",
    "# Set layout options\n",
    "layout = go.Layout(\n",
    "    title='Average Arrival Time by Battalion',\n",
    "    xaxis=dict(title='Battalion'),\n",
    "    yaxis=dict(title='Average Arrival Time (Minutes)'),\n",
    "    hovermode='closest'\n",
    ")\n",
    "\n",
    "# Create the figure and save to an HTML file\n",
    "fig = go.Figure(data=data, layout=layout)\n",
    "pyo.plot(fig, filename='plot.html')\n",
    "\n",
    "\n",
    "\n",
    "# Display the plot in the notebook\n",
    "pyo.iplot(fig)"
   ]
  },
  {
   "attachments": {},
   "cell_type": "markdown",
   "metadata": {},
   "source": [
    "The plot visualizes the average arrival time of fire department battalions in San Francisco to the scene of a fire incident. The x-axis shows the battalion number, while the y-axis shows the average arrival time in minutes. The bars are color-coded based on the average arrival time, with darker colors indicating longer arrival times.\n",
    "\n",
    "From this analysis, we can see that there is significant variation in the average arrival time of different battalions. Battalion 13 has the shortest average arrival time, at just over 4 minutes, while Battalion 11 has the longest average arrival time, at over 7 minutes. This suggests that there may be differences in the efficiency and effectiveness of different battalions in responding to fire incidents in San Francisco.\n",
    "\n",
    "Understanding these differences in arrival time can help policymakers and fire department officials identify areas where improvements can be made to enhance the city's emergency response capabilities. For example, if a particular battalion consistently has longer arrival times, it may be necessary to allocate additional resources to that battalion to improve its response times. Additionally, understanding the factors that contribute to longer arrival times can help identify opportunities for process improvements, such as optimizing routing or improving communication protocols between dispatch and responding units.\n",
    "\n",
    "Overall, this analysis highlights the importance of data-driven insights in enhancing public safety and improving emergency response capabilities. By leveraging data to understand trends and patterns in fire incidents in San Francisco, we can develop targeted interventions that can make a real difference in reducing the impact of fires on the community."
   ]
  },
  {
   "attachments": {},
   "cell_type": "markdown",
   "metadata": {},
   "source": [
    "## 2. Line chart "
   ]
  },
  {
   "attachments": {},
   "cell_type": "markdown",
   "metadata": {},
   "source": [
    "This code computes the time it takes for each fire department unit to arrive at the scene of an incident, and creates a new column in the dataset to store these values. It generates a line chart using the Plotly, seaborn and mplcursors libraryies to visualize the the dataset by battalion and year, and calculates the average arrival time for each group and sets some hovering effects on the plot."
   ]
  },
  {
   "cell_type": "code",
   "execution_count": 23,
   "metadata": {},
   "outputs": [
    {
     "data": {
      "application/vnd.plotly.v1+json": {
       "config": {
        "linkText": "Export to plot.ly",
        "plotlyServerURL": "https://plot.ly",
        "showLink": false
       },
       "data": [
        {
         "line": {
          "width": 2
         },
         "name": "B01",
         "type": "scatter",
         "x": [
          2010,
          2011,
          2012,
          2013,
          2014,
          2015,
          2016,
          2017,
          2018,
          2019,
          2020,
          2021,
          2022,
          2023
         ],
         "y": [
          5.0518549188473,
          5.140052644773125,
          5.0865193230613786,
          5.195081884605694,
          5.467992351816443,
          5.3350221496852415,
          4.97546958750874,
          4.289080518161036,
          4.1618359375,
          4.18394278283485,
          4.041682644628099,
          4.420358959018845,
          4.34156372824256,
          5.233986287952987
         ]
        },
        {
         "line": {
          "width": 2
         },
         "name": "B02",
         "type": "scatter",
         "x": [
          2010,
          2011,
          2012,
          2013,
          2014,
          2015,
          2016,
          2017,
          2018,
          2019,
          2020,
          2021,
          2022,
          2023
         ],
         "y": [
          5.099137426900585,
          4.937189597315436,
          5.113316572807723,
          5.3908,
          5.818749028749028,
          5.710895173293642,
          5.109606283149735,
          4.4154948181263975,
          4.278159533855737,
          4.12516018957346,
          4.149358497946411,
          4.310832217333078,
          4.515560926821137,
          4.841688009313155
         ]
        },
        {
         "line": {
          "width": 2
         },
         "name": "B03",
         "type": "scatter",
         "x": [
          2010,
          2011,
          2012,
          2013,
          2014,
          2015,
          2016,
          2017,
          2018,
          2019,
          2020,
          2021,
          2022,
          2023
         ],
         "y": [
          5.824898831575948,
          6.088038364923499,
          5.493934700711595,
          5.687858690940615,
          5.964836497890295,
          6.05713466440102,
          5.612229325634152,
          4.692813787123347,
          4.6844866160607275,
          4.583677282377919,
          4.560848424708508,
          4.810125354777672,
          4.842238683127571,
          5.2453940321346595
         ]
        },
        {
         "line": {
          "width": 2
         },
         "name": "B04",
         "type": "scatter",
         "x": [
          2010,
          2011,
          2012,
          2013,
          2014,
          2015,
          2016,
          2017,
          2018,
          2019,
          2020,
          2021,
          2022,
          2023
         ],
         "y": [
          5.145384006334125,
          5.030306186868687,
          5.05516406498885,
          5.048423290807982,
          5.641886858749121,
          5.2644,
          5.066505843572071,
          4.266721771678104,
          4.184638640944429,
          3.913897574123989,
          3.944078341013825,
          4.175917537746806,
          4.220361185983828,
          4.720071868583163
         ]
        },
        {
         "line": {
          "width": 2
         },
         "name": "B05",
         "type": "scatter",
         "x": [
          2010,
          2011,
          2012,
          2013,
          2014,
          2015,
          2016,
          2017,
          2018,
          2019,
          2020,
          2021,
          2022,
          2023
         ],
         "y": [
          5.576840509399636,
          5.246790676826535,
          5.330044424700134,
          5.348357487922705,
          5.581995073891626,
          5.4655782312925165,
          5.130742574257426,
          4.239761810242159,
          4.197124891587164,
          4.022323113207547,
          3.789525608732158,
          4.215608108108108,
          4.413152416356877,
          5.630688622754492
         ]
        },
        {
         "line": {
          "width": 2
         },
         "name": "B06",
         "type": "scatter",
         "x": [
          2010,
          2011,
          2012,
          2013,
          2014,
          2015,
          2016,
          2017,
          2018,
          2019,
          2020,
          2021,
          2022,
          2023
         ],
         "y": [
          5.742282485875706,
          5.454796676869261,
          5.678516209476309,
          5.663254329990885,
          6.216612623045744,
          5.7572544922691185,
          5.42147148454506,
          4.624307692307692,
          4.539673776662484,
          4.229117647058823,
          4.323966666666666,
          4.743671103477888,
          4.844309143091431,
          6.1563584637268844
         ]
        },
        {
         "line": {
          "width": 2
         },
         "name": "B07",
         "type": "scatter",
         "x": [
          2010,
          2011,
          2012,
          2013,
          2014,
          2015,
          2016,
          2017,
          2018,
          2019,
          2020,
          2021,
          2022,
          2023
         ],
         "y": [
          5.981448792672773,
          5.947382702091577,
          6.129473074696005,
          6.097761286332715,
          6.713605015673981,
          6.164001112966054,
          5.704956165984805,
          4.984704641350211,
          4.5255776672194585,
          4.594997470915528,
          4.402366369710467,
          4.794487885462556,
          4.8668756641870345,
          6.3471011673151745
         ]
        },
        {
         "line": {
          "width": 2
         },
         "name": "B08",
         "type": "scatter",
         "x": [
          2010,
          2011,
          2012,
          2013,
          2014,
          2015,
          2016,
          2017,
          2018,
          2019,
          2020,
          2021,
          2022,
          2023
         ],
         "y": [
          6.246266456029489,
          6.217003117692907,
          6.437536443148687,
          6.376360153256705,
          7.139321161048689,
          6.538845299777942,
          6.147990465713238,
          5.284987918536417,
          4.867008976660682,
          4.929105981794539,
          4.808263036809816,
          5.2140656934306575,
          5.3469350743561845,
          7.078176328502415
         ]
        },
        {
         "line": {
          "width": 2
         },
         "name": "B09",
         "type": "scatter",
         "x": [
          2010,
          2011,
          2012,
          2013,
          2014,
          2015,
          2016,
          2017,
          2018,
          2019,
          2020,
          2021,
          2022,
          2023
         ],
         "y": [
          5.962984014209591,
          6.110267288926601,
          6.0441201902291395,
          6.710986249407302,
          7.079961915125136,
          6.474781368821293,
          6.2286017316017315,
          5.219932059447983,
          5.091456310679612,
          5.0943046986236356,
          4.872901691331924,
          5.657829573934838,
          5.806213726393367,
          7.098333333333334
         ]
        },
        {
         "line": {
          "width": 2
         },
         "name": "B10",
         "type": "scatter",
         "x": [
          2010,
          2011,
          2012,
          2013,
          2014,
          2015,
          2016,
          2017,
          2018,
          2019,
          2020,
          2021,
          2022,
          2023
         ],
         "y": [
          6.2420814923907715,
          6.317412698412698,
          6.161517213771017,
          6.356184804928131,
          7.127663847780127,
          6.605545675020211,
          6.349708029197081,
          5.202205931356215,
          5.136984509466437,
          5.036996324757768,
          5.024740817027119,
          5.352511674449633,
          5.4284624771201955,
          6.204711055276381
         ]
        }
       ],
       "layout": {
        "font": {
         "color": "#7f7f7f",
         "family": "Arial",
         "size": 16
        },
        "legend": {
         "font": {
          "color": "#7f7f7f",
          "family": "Arial",
          "size": 12
         },
         "title": {
          "text": "Battalion"
         },
         "x": 1,
         "xanchor": "right",
         "y": 1,
         "yanchor": "top"
        },
        "plot_bgcolor": "#f2f2f2",
        "template": {
         "data": {
          "bar": [
           {
            "error_x": {
             "color": "#2a3f5f"
            },
            "error_y": {
             "color": "#2a3f5f"
            },
            "marker": {
             "line": {
              "color": "#E5ECF6",
              "width": 0.5
             },
             "pattern": {
              "fillmode": "overlay",
              "size": 10,
              "solidity": 0.2
             }
            },
            "type": "bar"
           }
          ],
          "barpolar": [
           {
            "marker": {
             "line": {
              "color": "#E5ECF6",
              "width": 0.5
             },
             "pattern": {
              "fillmode": "overlay",
              "size": 10,
              "solidity": 0.2
             }
            },
            "type": "barpolar"
           }
          ],
          "carpet": [
           {
            "aaxis": {
             "endlinecolor": "#2a3f5f",
             "gridcolor": "white",
             "linecolor": "white",
             "minorgridcolor": "white",
             "startlinecolor": "#2a3f5f"
            },
            "baxis": {
             "endlinecolor": "#2a3f5f",
             "gridcolor": "white",
             "linecolor": "white",
             "minorgridcolor": "white",
             "startlinecolor": "#2a3f5f"
            },
            "type": "carpet"
           }
          ],
          "choropleth": [
           {
            "colorbar": {
             "outlinewidth": 0,
             "ticks": ""
            },
            "type": "choropleth"
           }
          ],
          "contour": [
           {
            "colorbar": {
             "outlinewidth": 0,
             "ticks": ""
            },
            "colorscale": [
             [
              0,
              "#0d0887"
             ],
             [
              0.1111111111111111,
              "#46039f"
             ],
             [
              0.2222222222222222,
              "#7201a8"
             ],
             [
              0.3333333333333333,
              "#9c179e"
             ],
             [
              0.4444444444444444,
              "#bd3786"
             ],
             [
              0.5555555555555556,
              "#d8576b"
             ],
             [
              0.6666666666666666,
              "#ed7953"
             ],
             [
              0.7777777777777778,
              "#fb9f3a"
             ],
             [
              0.8888888888888888,
              "#fdca26"
             ],
             [
              1,
              "#f0f921"
             ]
            ],
            "type": "contour"
           }
          ],
          "contourcarpet": [
           {
            "colorbar": {
             "outlinewidth": 0,
             "ticks": ""
            },
            "type": "contourcarpet"
           }
          ],
          "heatmap": [
           {
            "colorbar": {
             "outlinewidth": 0,
             "ticks": ""
            },
            "colorscale": [
             [
              0,
              "#0d0887"
             ],
             [
              0.1111111111111111,
              "#46039f"
             ],
             [
              0.2222222222222222,
              "#7201a8"
             ],
             [
              0.3333333333333333,
              "#9c179e"
             ],
             [
              0.4444444444444444,
              "#bd3786"
             ],
             [
              0.5555555555555556,
              "#d8576b"
             ],
             [
              0.6666666666666666,
              "#ed7953"
             ],
             [
              0.7777777777777778,
              "#fb9f3a"
             ],
             [
              0.8888888888888888,
              "#fdca26"
             ],
             [
              1,
              "#f0f921"
             ]
            ],
            "type": "heatmap"
           }
          ],
          "heatmapgl": [
           {
            "colorbar": {
             "outlinewidth": 0,
             "ticks": ""
            },
            "colorscale": [
             [
              0,
              "#0d0887"
             ],
             [
              0.1111111111111111,
              "#46039f"
             ],
             [
              0.2222222222222222,
              "#7201a8"
             ],
             [
              0.3333333333333333,
              "#9c179e"
             ],
             [
              0.4444444444444444,
              "#bd3786"
             ],
             [
              0.5555555555555556,
              "#d8576b"
             ],
             [
              0.6666666666666666,
              "#ed7953"
             ],
             [
              0.7777777777777778,
              "#fb9f3a"
             ],
             [
              0.8888888888888888,
              "#fdca26"
             ],
             [
              1,
              "#f0f921"
             ]
            ],
            "type": "heatmapgl"
           }
          ],
          "histogram": [
           {
            "marker": {
             "pattern": {
              "fillmode": "overlay",
              "size": 10,
              "solidity": 0.2
             }
            },
            "type": "histogram"
           }
          ],
          "histogram2d": [
           {
            "colorbar": {
             "outlinewidth": 0,
             "ticks": ""
            },
            "colorscale": [
             [
              0,
              "#0d0887"
             ],
             [
              0.1111111111111111,
              "#46039f"
             ],
             [
              0.2222222222222222,
              "#7201a8"
             ],
             [
              0.3333333333333333,
              "#9c179e"
             ],
             [
              0.4444444444444444,
              "#bd3786"
             ],
             [
              0.5555555555555556,
              "#d8576b"
             ],
             [
              0.6666666666666666,
              "#ed7953"
             ],
             [
              0.7777777777777778,
              "#fb9f3a"
             ],
             [
              0.8888888888888888,
              "#fdca26"
             ],
             [
              1,
              "#f0f921"
             ]
            ],
            "type": "histogram2d"
           }
          ],
          "histogram2dcontour": [
           {
            "colorbar": {
             "outlinewidth": 0,
             "ticks": ""
            },
            "colorscale": [
             [
              0,
              "#0d0887"
             ],
             [
              0.1111111111111111,
              "#46039f"
             ],
             [
              0.2222222222222222,
              "#7201a8"
             ],
             [
              0.3333333333333333,
              "#9c179e"
             ],
             [
              0.4444444444444444,
              "#bd3786"
             ],
             [
              0.5555555555555556,
              "#d8576b"
             ],
             [
              0.6666666666666666,
              "#ed7953"
             ],
             [
              0.7777777777777778,
              "#fb9f3a"
             ],
             [
              0.8888888888888888,
              "#fdca26"
             ],
             [
              1,
              "#f0f921"
             ]
            ],
            "type": "histogram2dcontour"
           }
          ],
          "mesh3d": [
           {
            "colorbar": {
             "outlinewidth": 0,
             "ticks": ""
            },
            "type": "mesh3d"
           }
          ],
          "parcoords": [
           {
            "line": {
             "colorbar": {
              "outlinewidth": 0,
              "ticks": ""
             }
            },
            "type": "parcoords"
           }
          ],
          "pie": [
           {
            "automargin": true,
            "type": "pie"
           }
          ],
          "scatter": [
           {
            "fillpattern": {
             "fillmode": "overlay",
             "size": 10,
             "solidity": 0.2
            },
            "type": "scatter"
           }
          ],
          "scatter3d": [
           {
            "line": {
             "colorbar": {
              "outlinewidth": 0,
              "ticks": ""
             }
            },
            "marker": {
             "colorbar": {
              "outlinewidth": 0,
              "ticks": ""
             }
            },
            "type": "scatter3d"
           }
          ],
          "scattercarpet": [
           {
            "marker": {
             "colorbar": {
              "outlinewidth": 0,
              "ticks": ""
             }
            },
            "type": "scattercarpet"
           }
          ],
          "scattergeo": [
           {
            "marker": {
             "colorbar": {
              "outlinewidth": 0,
              "ticks": ""
             }
            },
            "type": "scattergeo"
           }
          ],
          "scattergl": [
           {
            "marker": {
             "colorbar": {
              "outlinewidth": 0,
              "ticks": ""
             }
            },
            "type": "scattergl"
           }
          ],
          "scattermapbox": [
           {
            "marker": {
             "colorbar": {
              "outlinewidth": 0,
              "ticks": ""
             }
            },
            "type": "scattermapbox"
           }
          ],
          "scatterpolar": [
           {
            "marker": {
             "colorbar": {
              "outlinewidth": 0,
              "ticks": ""
             }
            },
            "type": "scatterpolar"
           }
          ],
          "scatterpolargl": [
           {
            "marker": {
             "colorbar": {
              "outlinewidth": 0,
              "ticks": ""
             }
            },
            "type": "scatterpolargl"
           }
          ],
          "scatterternary": [
           {
            "marker": {
             "colorbar": {
              "outlinewidth": 0,
              "ticks": ""
             }
            },
            "type": "scatterternary"
           }
          ],
          "surface": [
           {
            "colorbar": {
             "outlinewidth": 0,
             "ticks": ""
            },
            "colorscale": [
             [
              0,
              "#0d0887"
             ],
             [
              0.1111111111111111,
              "#46039f"
             ],
             [
              0.2222222222222222,
              "#7201a8"
             ],
             [
              0.3333333333333333,
              "#9c179e"
             ],
             [
              0.4444444444444444,
              "#bd3786"
             ],
             [
              0.5555555555555556,
              "#d8576b"
             ],
             [
              0.6666666666666666,
              "#ed7953"
             ],
             [
              0.7777777777777778,
              "#fb9f3a"
             ],
             [
              0.8888888888888888,
              "#fdca26"
             ],
             [
              1,
              "#f0f921"
             ]
            ],
            "type": "surface"
           }
          ],
          "table": [
           {
            "cells": {
             "fill": {
              "color": "#EBF0F8"
             },
             "line": {
              "color": "white"
             }
            },
            "header": {
             "fill": {
              "color": "#C8D4E3"
             },
             "line": {
              "color": "white"
             }
            },
            "type": "table"
           }
          ]
         },
         "layout": {
          "annotationdefaults": {
           "arrowcolor": "#2a3f5f",
           "arrowhead": 0,
           "arrowwidth": 1
          },
          "autotypenumbers": "strict",
          "coloraxis": {
           "colorbar": {
            "outlinewidth": 0,
            "ticks": ""
           }
          },
          "colorscale": {
           "diverging": [
            [
             0,
             "#8e0152"
            ],
            [
             0.1,
             "#c51b7d"
            ],
            [
             0.2,
             "#de77ae"
            ],
            [
             0.3,
             "#f1b6da"
            ],
            [
             0.4,
             "#fde0ef"
            ],
            [
             0.5,
             "#f7f7f7"
            ],
            [
             0.6,
             "#e6f5d0"
            ],
            [
             0.7,
             "#b8e186"
            ],
            [
             0.8,
             "#7fbc41"
            ],
            [
             0.9,
             "#4d9221"
            ],
            [
             1,
             "#276419"
            ]
           ],
           "sequential": [
            [
             0,
             "#0d0887"
            ],
            [
             0.1111111111111111,
             "#46039f"
            ],
            [
             0.2222222222222222,
             "#7201a8"
            ],
            [
             0.3333333333333333,
             "#9c179e"
            ],
            [
             0.4444444444444444,
             "#bd3786"
            ],
            [
             0.5555555555555556,
             "#d8576b"
            ],
            [
             0.6666666666666666,
             "#ed7953"
            ],
            [
             0.7777777777777778,
             "#fb9f3a"
            ],
            [
             0.8888888888888888,
             "#fdca26"
            ],
            [
             1,
             "#f0f921"
            ]
           ],
           "sequentialminus": [
            [
             0,
             "#0d0887"
            ],
            [
             0.1111111111111111,
             "#46039f"
            ],
            [
             0.2222222222222222,
             "#7201a8"
            ],
            [
             0.3333333333333333,
             "#9c179e"
            ],
            [
             0.4444444444444444,
             "#bd3786"
            ],
            [
             0.5555555555555556,
             "#d8576b"
            ],
            [
             0.6666666666666666,
             "#ed7953"
            ],
            [
             0.7777777777777778,
             "#fb9f3a"
            ],
            [
             0.8888888888888888,
             "#fdca26"
            ],
            [
             1,
             "#f0f921"
            ]
           ]
          },
          "colorway": [
           "#636efa",
           "#EF553B",
           "#00cc96",
           "#ab63fa",
           "#FFA15A",
           "#19d3f3",
           "#FF6692",
           "#B6E880",
           "#FF97FF",
           "#FECB52"
          ],
          "font": {
           "color": "#2a3f5f"
          },
          "geo": {
           "bgcolor": "white",
           "lakecolor": "white",
           "landcolor": "#E5ECF6",
           "showlakes": true,
           "showland": true,
           "subunitcolor": "white"
          },
          "hoverlabel": {
           "align": "left"
          },
          "hovermode": "closest",
          "mapbox": {
           "style": "light"
          },
          "paper_bgcolor": "white",
          "plot_bgcolor": "#E5ECF6",
          "polar": {
           "angularaxis": {
            "gridcolor": "white",
            "linecolor": "white",
            "ticks": ""
           },
           "bgcolor": "#E5ECF6",
           "radialaxis": {
            "gridcolor": "white",
            "linecolor": "white",
            "ticks": ""
           }
          },
          "scene": {
           "xaxis": {
            "backgroundcolor": "#E5ECF6",
            "gridcolor": "white",
            "gridwidth": 2,
            "linecolor": "white",
            "showbackground": true,
            "ticks": "",
            "zerolinecolor": "white"
           },
           "yaxis": {
            "backgroundcolor": "#E5ECF6",
            "gridcolor": "white",
            "gridwidth": 2,
            "linecolor": "white",
            "showbackground": true,
            "ticks": "",
            "zerolinecolor": "white"
           },
           "zaxis": {
            "backgroundcolor": "#E5ECF6",
            "gridcolor": "white",
            "gridwidth": 2,
            "linecolor": "white",
            "showbackground": true,
            "ticks": "",
            "zerolinecolor": "white"
           }
          },
          "shapedefaults": {
           "line": {
            "color": "#2a3f5f"
           }
          },
          "ternary": {
           "aaxis": {
            "gridcolor": "white",
            "linecolor": "white",
            "ticks": ""
           },
           "baxis": {
            "gridcolor": "white",
            "linecolor": "white",
            "ticks": ""
           },
           "bgcolor": "#E5ECF6",
           "caxis": {
            "gridcolor": "white",
            "linecolor": "white",
            "ticks": ""
           }
          },
          "title": {
           "x": 0.05
          },
          "xaxis": {
           "automargin": true,
           "gridcolor": "white",
           "linecolor": "white",
           "ticks": "",
           "title": {
            "standoff": 15
           },
           "zerolinecolor": "white",
           "zerolinewidth": 2
          },
          "yaxis": {
           "automargin": true,
           "gridcolor": "white",
           "linecolor": "white",
           "ticks": "",
           "title": {
            "standoff": 15
           },
           "zerolinecolor": "white",
           "zerolinewidth": 2
          }
         }
        },
        "title": {
         "text": "Average Arrival Time by Battalion and Year"
        },
        "xaxis": {
         "dtick": 1,
         "tick0": 2003,
         "tickmode": "linear",
         "title": {
          "text": "Year"
         }
        },
        "yaxis": {
         "title": {
          "text": "Average Arrival Time (Minutes)"
         }
        }
       }
      }
     },
     "metadata": {},
     "output_type": "display_data"
    }
   ],
   "source": [
    "\n",
    "# Author-\n",
    "# Ali Dadayev \n",
    "\n",
    "\n",
    "# Convert to minutes and add a new column\n",
    "df['Arrive time_minutes'] = ((df['Arrival DtTm'] - df['Alarm DtTm']).dt.total_seconds() / 60.0).round(2)\n",
    "\n",
    "# Group by battalion and year\n",
    "df['year'] = df['Incident Date'].dt.year\n",
    "df_grouped = df.groupby(['Battalion', 'year'])['Arrive time_minutes'].mean().reset_index()\n",
    "\n",
    "# Create a line plot for each battalion using Plotly\n",
    "fig = go.Figure()\n",
    "for battalion in df_grouped['Battalion'].unique():\n",
    "    data = df_grouped[df_grouped['Battalion'] == battalion]\n",
    "    fig.add_trace(go.Scatter(x=data['year'], y=data['Arrive time_minutes'], name=battalion, line=dict(width=2)))\n",
    "\n",
    "# Set layout for the plot\n",
    "fig.update_layout(\n",
    "    title=\"Average Arrival Time by Battalion and Year\",\n",
    "    xaxis_title=\"Year\",\n",
    "    yaxis_title=\"Average Arrival Time (Minutes)\",\n",
    "    font=dict(\n",
    "        family=\"Arial\",\n",
    "        size=16,\n",
    "        color=\"#7f7f7f\"\n",
    "    ),\n",
    "    legend=dict(\n",
    "        title=\"Battalion\",\n",
    "        font=dict(\n",
    "            family=\"Arial\",\n",
    "            size=12,\n",
    "            color=\"#7f7f7f\"\n",
    "        ),\n",
    "        yanchor=\"top\",\n",
    "        y=1,\n",
    "        xanchor=\"right\",\n",
    "        x=1\n",
    "    ),\n",
    "    plot_bgcolor=\"#f2f2f2\",\n",
    "    xaxis=dict(\n",
    "        tickmode='linear',\n",
    "        tick0=2003,\n",
    "        dtick=1\n",
    "    )\n",
    ")\n",
    "\n",
    "# Add interactivity to the plot using mplcursors\n",
    "annotations = [f\"{battalion}\\nYear: {int(data['year'])}\\nAvg. Arrival Time: {data['Arrive time_minutes']:.2f} minutes\"\n",
    "               for battalion, data in df_grouped[['Battalion', 'year', 'Arrive time_minutes']].iterrows()]\n",
    "cursor = mplcursors.cursor(hover=True)\n",
    "cursor.connect(\"add\", lambda sel: sel.annotation.set_text(annotations[sel.target.index]))\n",
    "\n",
    "# Save the plot to an HTML file and display it in the browser\n",
    "pyo.plot(fig, filename='battalion_arrival_time.html', auto_open=True)\n",
    "\n",
    "# Display the plot in the notebook\n",
    "pyo.iplot(fig)"
   ]
  },
  {
   "attachments": {},
   "cell_type": "markdown",
   "metadata": {},
   "source": [
    "\n",
    "This plot visualizes the average arrival time of the San Francisco Fire Department by battalion and year. The plot is a line chart with a separate line for each battalion. The x-axis represents the year, and the y-axis represents the average arrival time in minutes. The plot is interactive, and hovering over a data point will display information about the battalion, the year, and the average arrival time.\n",
    "\n",
    "This plot can be useful in identifying trends in the performance of different battalions over time. For example, if there is a particular battalion that consistently has a longer average arrival time than the others, it may indicate an issue that needs to be addressed. Conversely, if there is a battalion that consistently has a shorter arrival time, it could be studied to see if there are best practices that could be adopted by other battalions.\n",
    "\n",
    "Overall, this plot provides insight into the performance of the San Francisco Fire Department, allowing researchers to identify areas for improvement and track the progress of any interventions made."
   ]
  },
  {
   "attachments": {},
   "cell_type": "markdown",
   "metadata": {},
   "source": [
    "## 3. Polar bar chart."
   ]
  },
  {
   "attachments": {},
   "cell_type": "markdown",
   "metadata": {},
   "source": [
    "This code is creating a polar plot that shows the hourly counts of alarms in the year 2022. "
   ]
  },
  {
   "cell_type": "code",
   "execution_count": 24,
   "metadata": {},
   "outputs": [
    {
     "data": {
      "image/png": "[encoded data removed]",
      "text/plain": [
       "<Figure size 1000x1000 with 1 Axes>"
      ]
     },
     "metadata": {},
     "output_type": "display_data"
    }
   ],
   "source": [
    "\n",
    "# Author-\n",
    "# Ali Dadayev \n",
    "\n",
    "\n",
    "# Convert the alarm datetime column to datetime\n",
    "df['Alarm DtTm'] = pd.to_datetime(df['Alarm DtTm'])\n",
    "\n",
    "# Filter for the year 2022\n",
    "df2 = df[df['Alarm DtTm'].dt.year == 2022]\n",
    "\n",
    "# Group by hour and count number of alarms\n",
    "hour_counts = df2.groupby(df2['Alarm DtTm'].dt.hour).size().reset_index(name='counts')\n",
    "\n",
    "fig, ax = plt.subplots(subplot_kw={'projection': 'polar'}, figsize=(10,10))\n",
    "\n",
    "colors = plt.cm.Set2(np.linspace(0, 1, len(hour_counts)))\n",
    "\n",
    "bars = ax.bar(hour_counts['Alarm DtTm'] * 2 * np.pi / 24, hour_counts['counts'], \n",
    "              width=2*np.pi/24, align='edge', color=colors, alpha=0.8)\n",
    "\n",
    "hours = np.arange(0, 24)\n",
    "tick_labels = ['{}:00'.format(h) for h in range(24)]\n",
    "ax.set_xticks(np.linspace(0, 2*np.pi, 24, endpoint=False))\n",
    "ax.set_xticklabels(tick_labels, fontsize=12, color='black', fontweight='bold')\n",
    "ax.set_title('Alarm Hourly Counts in 2022', fontsize=20, pad=25, fontweight='bold')\n",
    "\n",
    "\n",
    "# Set the starting angle and direction\n",
    "ax.set_theta_offset(np.pi/2)\n",
    "ax.set_theta_direction(-1)\n",
    "\n",
    "# Customize the grid and background\n",
    "ax.grid(color='gray', alpha=0.2)\n",
    "ax.set_facecolor('whitesmoke')\n",
    "\n",
    "# Remove unnecessary borders\n",
    "ax.spines['polar'].set_visible(False)\n",
    "ax.spines['start'].set_visible(False)\n",
    "ax.spines['end'].set_visible(False)\n",
    "ax.spines['inner'].set_visible(False)\n",
    "\n",
    "\n",
    "plt.show()\n",
    "\n",
    "\n"
   ]
  },
  {
   "attachments": {},
   "cell_type": "markdown",
   "metadata": {},
   "source": [
    "\n",
    "This plot visualizes the average arrival time of the San Francisco Fire Department by battalion and year. The plot is a line chart with a separate line for each battalion. The x-axis represents the year, and the y-axis represents the average arrival time in minutes. The plot is interactive, and hovering over a data point will display information about the battalion, the year, and the average arrival time.\n",
    "\n",
    "This plot can be useful in identifying trends in the performance of different battalions over time. For example, if there is a particular battalion that consistently has a longer average arrival time than the others, it may indicate an issue that needs to be addressed. Conversely, if there is a battalion that consistently has a shorter arrival time, it could be studied to see if there are best practices that could be adopted by other battalions.\n",
    "\n",
    "Overall, this plot provides insight into the performance of the San Francisco Fire Department, allowing researchers to identify areas for improvement and track the progress of any interventions made."
   ]
  }
 ],
 "metadata": {
  "kernelspec": {
   "display_name": "Python 3",
   "language": "python",
   "name": "python3"
  },
  "language_info": {
   "codemirror_mode": {
    "name": "ipython",
    "version": 3
   },
   "file_extension": ".py",
   "mimetype": "text/x-python",
   "name": "python",
   "nbconvert_exporter": "python",
   "pygments_lexer": "ipython3",
   "version": "3.11.3"
  }
 },
 "nbformat": 4,
 "nbformat_minor": 0
}
