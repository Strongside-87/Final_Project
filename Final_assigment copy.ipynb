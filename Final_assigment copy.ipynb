{
 "cells": [
  {
   "cell_type": "code",
   "execution_count": 26,
   "metadata": {
    "ExecuteTime": {
     "end_time": "2023-05-02T20:15:58.002201Z",
     "start_time": "2023-05-02T20:15:57.988804Z"
    }
   },
   "outputs": [],
   "source": [
    "import os\n",
    "from bokeh.models import ColumnDataSource,Legend\n",
    "from bokeh.io import output_notebook, show\n",
    "from bokeh.palettes import Category10\n",
    "from bokeh.plotting import figure, show\n",
    "from bokeh.io import output_file\n",
    "import numpy as np\n",
    "from ipyleaflet import Map, GeoJSON, Marker, AwesomeIcon, FullScreenControl\n",
    "import requests\n",
    "import json\n",
    "import random\n",
    "import plotly.graph_objs as go\n",
    "import plotly.offline as pyo\n",
    "from datetime import datetime\n",
    "import seaborn as sns\n",
    "from folium.plugins import HeatMap\n",
    "import pandas as pd\n",
    "import matplotlib.pyplot as plt\n",
    "import mplcursors\n",
    "import calplot\n",
    "import mpld3\n",
    "import folium\n"
   ]
  },
  {
   "cell_type": "code",
   "execution_count": 32,
   "metadata": {
    "ExecuteTime": {
     "end_time": "2023-05-02T20:16:12.186889Z",
     "start_time": "2023-05-02T20:15:59.722036Z"
    }
   },
   "outputs": [
    {
     "name": "stderr",
     "output_type": "stream",
     "text": [
      "C:\\Users\\salim\\AppData\\Local\\Temp\\ipykernel_10760\\2842048578.py:21: DtypeWarning:\n",
      "\n",
      "Columns (10,12,13,20,29,38,45,46,55,59) have mixed types. Specify dtype option on import or set low_memory=False.\n",
      "\n"
     ]
    },
    {
     "name": "stdout",
     "output_type": "stream",
     "text": [
      "The data is found locally\n",
      "The number of rows is: 408335\n"
     ]
    },
    {
     "data": {
      "text/html": [
       "<div>\n",
       "<style scoped>\n",
       "    .dataframe tbody tr th:only-of-type {\n",
       "        vertical-align: middle;\n",
       "    }\n",
       "\n",
       "    .dataframe tbody tr th {\n",
       "        vertical-align: top;\n",
       "    }\n",
       "\n",
       "    .dataframe thead th {\n",
       "        text-align: right;\n",
       "    }\n",
       "</style>\n",
       "<table border=\"1\" class=\"dataframe\">\n",
       "  <thead>\n",
       "    <tr style=\"text-align: right;\">\n",
       "      <th></th>\n",
       "      <th>Incident Number</th>\n",
       "      <th>ID</th>\n",
       "      <th>Address</th>\n",
       "      <th>Incident Date</th>\n",
       "      <th>Call Number</th>\n",
       "      <th>Alarm DtTm</th>\n",
       "      <th>Arrival DtTm</th>\n",
       "      <th>Close DtTm</th>\n",
       "      <th>City</th>\n",
       "      <th>zipcode</th>\n",
       "      <th>...</th>\n",
       "      <th>Detector Alerted Occupants</th>\n",
       "      <th>Property Use</th>\n",
       "      <th>Heat Source</th>\n",
       "      <th>Supervisor District</th>\n",
       "      <th>neighborhood_district</th>\n",
       "      <th>point</th>\n",
       "      <th>Incident Time</th>\n",
       "      <th>Incident month</th>\n",
       "      <th>Incident year</th>\n",
       "      <th>focuse_Situation_by_number</th>\n",
       "    </tr>\n",
       "  </thead>\n",
       "  <tbody>\n",
       "    <tr>\n",
       "      <th>205932</th>\n",
       "      <td>10001468</td>\n",
       "      <td>100014680</td>\n",
       "      <td>274 Brannan St.</td>\n",
       "      <td>2010-01-05</td>\n",
       "      <td>100050086</td>\n",
       "      <td>2010-01-05 08:26:41</td>\n",
       "      <td>2010-01-05 08:32:04</td>\n",
       "      <td>2010-01-05 08:41:49</td>\n",
       "      <td>SF</td>\n",
       "      <td>94107</td>\n",
       "      <td>...</td>\n",
       "      <td>-</td>\n",
       "      <td>429 - Multifamily dwellings</td>\n",
       "      <td>NaN</td>\n",
       "      <td>NaN</td>\n",
       "      <td>Financial District/South Beach</td>\n",
       "      <td>POINT (-122.39169312 37.78233494)</td>\n",
       "      <td>00:00:00</td>\n",
       "      <td>1</td>\n",
       "      <td>2010</td>\n",
       "      <td>745</td>\n",
       "    </tr>\n",
       "    <tr>\n",
       "      <th>205933</th>\n",
       "      <td>10001472</td>\n",
       "      <td>100014720</td>\n",
       "      <td>Brotherhood Wy. / Thomas More Wy.</td>\n",
       "      <td>2010-01-05</td>\n",
       "      <td>100050091</td>\n",
       "      <td>2010-01-05 08:52:51</td>\n",
       "      <td>2010-01-05 08:57:14</td>\n",
       "      <td>2010-01-05 08:57:36</td>\n",
       "      <td>SF</td>\n",
       "      <td>94112</td>\n",
       "      <td>...</td>\n",
       "      <td>-</td>\n",
       "      <td>960 - Street, other</td>\n",
       "      <td>NaN</td>\n",
       "      <td>7.0</td>\n",
       "      <td>Lakeshore</td>\n",
       "      <td>POINT (-122.472734 37.712926)</td>\n",
       "      <td>00:00:00</td>\n",
       "      <td>1</td>\n",
       "      <td>2010</td>\n",
       "      <td>711</td>\n",
       "    </tr>\n",
       "    <tr>\n",
       "      <th>205934</th>\n",
       "      <td>10001473</td>\n",
       "      <td>100014730</td>\n",
       "      <td>684 48th Av.</td>\n",
       "      <td>2010-01-05</td>\n",
       "      <td>100050092</td>\n",
       "      <td>2010-01-05 08:54:09</td>\n",
       "      <td>2010-01-05 09:23:33</td>\n",
       "      <td>2010-01-05 09:23:48</td>\n",
       "      <td>SF</td>\n",
       "      <td>94121</td>\n",
       "      <td>...</td>\n",
       "      <td>-</td>\n",
       "      <td>429 - Multifamily dwellings</td>\n",
       "      <td>NaN</td>\n",
       "      <td>NaN</td>\n",
       "      <td>Outer Richmond</td>\n",
       "      <td>POINT (-122.509025 37.775448)</td>\n",
       "      <td>00:00:00</td>\n",
       "      <td>1</td>\n",
       "      <td>2010</td>\n",
       "      <td>353</td>\n",
       "    </tr>\n",
       "    <tr>\n",
       "      <th>205935</th>\n",
       "      <td>10001476</td>\n",
       "      <td>100014760</td>\n",
       "      <td>690 Market St.</td>\n",
       "      <td>2010-01-05</td>\n",
       "      <td>100050098</td>\n",
       "      <td>2010-01-05 09:07:38</td>\n",
       "      <td>2010-01-05 09:11:47</td>\n",
       "      <td>2010-01-05 09:20:48</td>\n",
       "      <td>SF</td>\n",
       "      <td>94105</td>\n",
       "      <td>...</td>\n",
       "      <td>-</td>\n",
       "      <td>599 - Business office</td>\n",
       "      <td>NaN</td>\n",
       "      <td>NaN</td>\n",
       "      <td>Financial District/South Beach</td>\n",
       "      <td>POINT (-122.403309 37.787838)</td>\n",
       "      <td>00:00:00</td>\n",
       "      <td>1</td>\n",
       "      <td>2010</td>\n",
       "      <td>740</td>\n",
       "    </tr>\n",
       "    <tr>\n",
       "      <th>205936</th>\n",
       "      <td>10001477</td>\n",
       "      <td>100014770</td>\n",
       "      <td>1300 Junipero Serra Bl.</td>\n",
       "      <td>2010-01-05</td>\n",
       "      <td>100050099</td>\n",
       "      <td>2010-01-05 09:10:42</td>\n",
       "      <td>2010-01-05 09:15:48</td>\n",
       "      <td>2010-01-05 09:21:06</td>\n",
       "      <td>SF</td>\n",
       "      <td>94112</td>\n",
       "      <td>...</td>\n",
       "      <td>-</td>\n",
       "      <td>429 - Multifamily dwellings</td>\n",
       "      <td>NaN</td>\n",
       "      <td>7.0</td>\n",
       "      <td>Lakeshore</td>\n",
       "      <td>POINT (-122.472036 37.711842)</td>\n",
       "      <td>00:00:00</td>\n",
       "      <td>1</td>\n",
       "      <td>2010</td>\n",
       "      <td>700</td>\n",
       "    </tr>\n",
       "  </tbody>\n",
       "</table>\n",
       "<p>5 rows × 33 columns</p>\n",
       "</div>"
      ],
      "text/plain": [
       "        Incident Number         ID                            Address   \n",
       "205932         10001468  100014680                    274 Brannan St.  \\\n",
       "205933         10001472  100014720  Brotherhood Wy. / Thomas More Wy.   \n",
       "205934         10001473  100014730                       684 48th Av.   \n",
       "205935         10001476  100014760                     690 Market St.   \n",
       "205936         10001477  100014770            1300 Junipero Serra Bl.   \n",
       "\n",
       "       Incident Date  Call Number          Alarm DtTm        Arrival DtTm   \n",
       "205932    2010-01-05    100050086 2010-01-05 08:26:41 2010-01-05 08:32:04  \\\n",
       "205933    2010-01-05    100050091 2010-01-05 08:52:51 2010-01-05 08:57:14   \n",
       "205934    2010-01-05    100050092 2010-01-05 08:54:09 2010-01-05 09:23:33   \n",
       "205935    2010-01-05    100050098 2010-01-05 09:07:38 2010-01-05 09:11:47   \n",
       "205936    2010-01-05    100050099 2010-01-05 09:10:42 2010-01-05 09:15:48   \n",
       "\n",
       "                Close DtTm City zipcode  ... Detector Alerted Occupants   \n",
       "205932 2010-01-05 08:41:49   SF   94107  ...                          -  \\\n",
       "205933 2010-01-05 08:57:36   SF   94112  ...                          -   \n",
       "205934 2010-01-05 09:23:48   SF   94121  ...                          -   \n",
       "205935 2010-01-05 09:20:48   SF   94105  ...                          -   \n",
       "205936 2010-01-05 09:21:06   SF   94112  ...                          -   \n",
       "\n",
       "                       Property Use  Heat Source  Supervisor District   \n",
       "205932  429 - Multifamily dwellings          NaN                  NaN  \\\n",
       "205933          960 - Street, other          NaN                  7.0   \n",
       "205934  429 - Multifamily dwellings          NaN                  NaN   \n",
       "205935        599 - Business office          NaN                  NaN   \n",
       "205936  429 - Multifamily dwellings          NaN                  7.0   \n",
       "\n",
       "                 neighborhood_district                              point   \n",
       "205932  Financial District/South Beach  POINT (-122.39169312 37.78233494)  \\\n",
       "205933                       Lakeshore      POINT (-122.472734 37.712926)   \n",
       "205934                  Outer Richmond      POINT (-122.509025 37.775448)   \n",
       "205935  Financial District/South Beach      POINT (-122.403309 37.787838)   \n",
       "205936                       Lakeshore      POINT (-122.472036 37.711842)   \n",
       "\n",
       "        Incident Time  Incident month Incident year   \n",
       "205932       00:00:00               1          2010  \\\n",
       "205933       00:00:00               1          2010   \n",
       "205934       00:00:00               1          2010   \n",
       "205935       00:00:00               1          2010   \n",
       "205936       00:00:00               1          2010   \n",
       "\n",
       "        focuse_Situation_by_number  \n",
       "205932                         745  \n",
       "205933                         711  \n",
       "205934                         353  \n",
       "205935                         740  \n",
       "205936                         700  \n",
       "\n",
       "[5 rows x 33 columns]"
      ]
     },
     "execution_count": 32,
     "metadata": {},
     "output_type": "execute_result"
    }
   ],
   "source": [
    "##\n",
    "#\n",
    "# Author: \n",
    "# Salim Omar\n",
    "#\n",
    "##\n",
    "\n",
    "# cleaning and preprocessing\n",
    "\n",
    "csv_path = \"../Fire_Incidents.csv\"\n",
    "\n",
    "if not os.path.exists(csv_path):\n",
    "    # Download CSV from API if it doesn't exist locally\n",
    "    url = \"https://data.sfgov.org/resource/wr8u-xric.json\"\n",
    "    response = requests.get(url)\n",
    "    df = pd.read_json(response.text)\n",
    "    df.to_csv(csv_path, index=False)\n",
    "    print(\"The data has been readed from \", url)\n",
    "else:\n",
    "    # Load CSV from local file\n",
    "    df = pd.read_csv(csv_path)\n",
    "    print(\"The data is found locally\")\n",
    "\n",
    "#df.head()\n",
    "\n",
    "\n",
    "# cleaning and preprocessing\n",
    "\n",
    "\n",
    "df['Incident Date'] = pd.to_datetime(df['Incident Date'])\n",
    "df['Alarm DtTm'] = pd.to_datetime(df['Alarm DtTm'])\n",
    "df['Arrival DtTm'] = pd.to_datetime(df['Arrival DtTm'])\n",
    "df['Close DtTm'] = pd.to_datetime(df['Close DtTm'])\n",
    "\n",
    "df['Incident Time'] = df['Incident Date'].dt.time\n",
    "df['Incident month'] = df['Incident Date'].dt.month\n",
    "df['Incident year'] = df['Incident Date'].dt.year\n",
    "\n",
    "\n",
    "# Get the data from date 2010-04-01 to 2023-04-01\n",
    "df = df[(df['Incident year'] >= 2010) &\n",
    "        (df['Incident year'] <= 2022)]\n",
    "\n",
    "\n",
    "# print the number of rows\n",
    "num_rows = df.shape[0]\n",
    "print(\"The number of rows is:\", num_rows)\n",
    "\n",
    "# get just the data from Sf city\n",
    "df = df[(df['City'] == 'SF') | (df['City'] == 'San Francisco')\n",
    "        | (df['City'] == 'SAN FRANCISCO')]\n",
    "\n",
    "# Deleting all unnaseccary columns\n",
    "df.drop(columns=['Exposure Number',\n",
    "                'Box',\n",
    "                'Fire Fatalities',\n",
    "                'Fire Injuries',\n",
    "                'Civilian Fatalities',\n",
    "                'Civilian Injuries',\n",
    "                'Number of Alarms',\n",
    "                'Mutual Aid',\n",
    "                'Action Taken Secondary',\n",
    "                'Action Taken Other',\n",
    "                'Area of Fire Origin',\n",
    "                'Ignition Cause',\n",
    "                'Ignition Factor Primary',\n",
    "                'Ignition Factor Secondary',\n",
    "                'Item First Ignited',\n",
    "                'Human Factors Associated with Ignition',\n",
    "                'Structure Type',\n",
    "                'Structure Status',\n",
    "                'Floor of Fire Origin',\n",
    "                'Fire Spread',\n",
    "                'No Flame Spead',\n",
    "                'Number of floors with minimum damage',\n",
    "                'Number of floors with significant damage',\n",
    "                'Number of floors with heavy damage',\n",
    "                'Number of floors with extreme damage',\n",
    "                'Detectors Present',\n",
    "                'Detector Type',\n",
    "                'Detector Operation',\n",
    "                'Detector Effectiveness',\n",
    "                'Detector Failure Reason',\n",
    "                'Automatic Extinguishing System Present',\n",
    "                'Automatic Extinguishing Sytem Type',\n",
    "                'Automatic Extinguishing Sytem Perfomance',\n",
    "                'Automatic Extinguishing Sytem Failure Reason',\n",
    "                'Number of Sprinkler Heads Operating'\n",
    "                ], inplace=True)\n",
    "# the code for Primary Situation\n",
    "df['focuse_Situation_by_number'] = df['Primary Situation'].str[:3]\n",
    "\n",
    "# error rows\n",
    "df = df[df['Battalion'] != 'B99']\n",
    "df.drop(df[df['ID'] == 140383810 ].index, axis=0, inplace=True)\n",
    "df.drop(df[df['ID'] == 140660390 ].index, axis=0, inplace=True)\n",
    "df.head()\n",
    "\n"
   ]
  },
  {
   "attachments": {},
   "cell_type": "markdown",
   "metadata": {},
   "source": [
    "# Part 1"
   ]
  },
  {
   "attachments": {},
   "cell_type": "markdown",
   "metadata": {},
   "source": [
    "## 3. Map to show the distribution for 4 Primary Situations in different Neighborhood"
   ]
  },
  {
   "cell_type": "code",
   "execution_count": 22,
   "metadata": {},
   "outputs": [
    {
     "name": "stdout",
     "output_type": "stream",
     "text": [
      "['Cooking fire' 'Outside rubbish fire' 'False alarm/call' 'Building fire']\n"
     ]
    },
    {
     "data": {
      "text/plain": [
       "560"
      ]
     },
     "execution_count": 22,
     "metadata": {},
     "output_type": "execute_result"
    }
   ],
   "source": [
    "##\n",
    "#\n",
    "# Author: \n",
    "# Salim Omar\n",
    "#\n",
    "##\n",
    "\n",
    "# dataset for map\n",
    "df_2022 = df[(df['Incident Date'] >= '2022-12-01') &\n",
    "            (df['Incident Date'] <= '2022-12-31')]\n",
    "df_2022.head()\n",
    "# len(df_2022)\n",
    "focuse_Situation2 = df_2022['Primary Situation']\n",
    "ListOfSituation2 = focuse_Situation2.unique()\n",
    "#print(ListOfSituation2)\n",
    "len(ListOfSituation2)\n",
    "\n",
    "focuse_Situation = df_2022['focuse_Situation_by_number']\n",
    "ListOfSituation = focuse_Situation.unique()\n",
    "#print(ListOfSituation)\n",
    "from shapely import wkt\n",
    "# df_2022.loc[df_2022['focuse_Situation_by_number'].str.startswith('1'), 'focuse_Situation_by_number'] = 'Fire/explosion'\n",
    "# df_2022.loc[df_2022['focuse_Situation_by_number'].str.startswith('5'), 'focuse_Situation_by_number'] = 'Public service'\n",
    "# df_2022.loc[df_2022['focuse_Situation_by_number'].str.startswith('7'), 'focuse_Situation_by_number'] = 'Alarm'\n",
    "# df_2022['focuse_Situation_by_number'].replace(['322','324'], 'Motor vehicle accident', inplace=True)\n",
    "# df_2022['focuse_Situation_by_number'].replace(['311'], 'Medical assist', inplace=True)\n",
    "# df_2022['focuse_Situation_by_number'].replace(['700'], 'False alarm/call', inplace=True)\n",
    "# df_2022['focuse_Situation_by_number'].replace(['322'], 'Motor vehicle accident with injuries', inplace=True)\n",
    "# df_2022['focuse_Situation_by_number'].replace(['311'], 'Medical assist', inplace=True)\n",
    "df_2022 = df_2022[df_2022['focuse_Situation_by_number'].isin(['111', '700', '113','150'])]\n",
    "df_2022['focuse_Situation_by_number'].replace(['150'], 'Outside rubbish fire', inplace=True)\n",
    "df_2022['focuse_Situation_by_number'].replace(['111'], 'Building fire', inplace=True)\n",
    "df_2022['focuse_Situation_by_number'].replace(['700'], 'False alarm/call', inplace=True)\n",
    "df_2022['focuse_Situation_by_number'].replace(['113'], 'Cooking fire', inplace=True)\n",
    "\n",
    "# keep the important coulmn and drop other \n",
    "df_2022 = df_2022.loc[:, ['ID', 'point', 'Incident year', 'focuse_Situation_by_number']]\n",
    "\n",
    "\n",
    "df_2022['point'] = df_2022['point'].apply(wkt.loads)\n",
    "df_2022['lon'] = df_2022['point'].apply(lambda p: p.x)\n",
    "df_2022['lat'] = df_2022['point'].apply(lambda p: p.y)\n",
    "\n",
    "focuse_Situation = df_2022['focuse_Situation_by_number']\n",
    "ListOfSituation = focuse_Situation.unique()\n",
    "print(ListOfSituation)\n",
    "\n",
    "df_2022.head()\n",
    "len(df_2022)\n"
   ]
  },
  {
   "cell_type": "code",
   "execution_count": 24,
   "metadata": {},
   "outputs": [
    {
     "data": {
      "application/vnd.jupyter.widget-view+json": {
       "model_id": "48ef96d601a24a43adac7dfef310bfd9",
       "version_major": 2,
       "version_minor": 0
      },
      "text/plain": [
       "Map(center=[37.7749, -122.4194], controls=(ZoomControl(options=['position', 'zoom_in_text', 'zoom_in_title', '…"
      ]
     },
     "execution_count": 24,
     "metadata": {},
     "output_type": "execute_result"
    }
   ],
   "source": [
    "##\n",
    "#\n",
    "# Author: \n",
    "# Salim Omar\n",
    "#\n",
    "##\n",
    "\n",
    "with open('./geo_map_data/Planning Neighborhood Groups Map.geojson', 'r') as f:\n",
    "    data = json.load(f)\n",
    "\n",
    "data[\"features\"][0]\n",
    "\n",
    "\n",
    "# Create a dictionary to map focuse_Situation_by_number values to colors\n",
    "situation_color_dict = {\n",
    "    # 'Fire/explosion': 'green',\n",
    "    'Outside rubbish fire': 'orange',\n",
    "    'False alarm/call': 'purple',\n",
    "    'Cooking fire': 'blue',\n",
    "    'Building fire': 'red'\n",
    "}\n",
    "\n",
    "color_icon_dict = {\n",
    "    'red': 'fa-fire',\n",
    "    # 'green': 'fa-aulance',\n",
    "    'blue': 'fa-building',\n",
    "    'orange': 'fa-free-code-camp',\n",
    "    'purple': 'fa-bell'\n",
    "}\n",
    "\n",
    "\n",
    "def random_color(fea):\n",
    "    return {\n",
    "        'color': 'black',\n",
    "        'fillColor': random.choice(['red', 'yellow', 'green', 'orange']),\n",
    "    }\n",
    "\n",
    "\n",
    "my_map = Map(center=(37.7749, -122.4194), zoom=12,\n",
    "    layout={'height': '600px', 'width': '100%'})\n",
    "\n",
    "\n",
    "# Add GeoJSON layer to the map\n",
    "geojson_layer = GeoJSON(\n",
    "    data=data,\n",
    "    style={\n",
    "        'color': 'gray',\n",
    "        'weight': 3,\n",
    "        'fillOpacity': 0.2\n",
    "\n",
    "    },\n",
    "    hover_style={\n",
    "        'color': 'white', 'dashArray': '0', 'fillOpacity': 0.4,\n",
    "    },\n",
    "    style_callback=random_color,\n",
    "    name='Neighborhoods',\n",
    ")\n",
    "\n",
    "\n",
    "my_map.add_layer(geojson_layer)\n",
    "\n",
    "# Add markers to the map for each incident in the data\n",
    "for index, row in df_2022.iterrows():\n",
    "    location = (row['lat'], row['lon'])\n",
    "    marker_color = situation_color_dict[row['focuse_Situation_by_number']]\n",
    "    marker = Marker(location=location, draggable=False,\n",
    "                    title=row['focuse_Situation_by_number'])\n",
    "    marker.icon = AwesomeIcon(\n",
    "        name=color_icon_dict[marker_color], marker_color=marker_color, icon_color='black')\n",
    "    my_map.add_layer(marker)\n",
    "\n",
    "\n",
    "my_map.add_control(FullScreenControl())\n",
    "\n",
    "# Display the map\n",
    "my_map\n"
   ]
  },
  {
   "attachments": {},
   "cell_type": "markdown",
   "metadata": {},
   "source": [
    "_________________________________________________________________________________________________________________________________"
   ]
  },
  {
   "attachments": {},
   "cell_type": "markdown",
   "metadata": {},
   "source": [
    "# Part 2"
   ]
  },
  {
   "attachments": {},
   "cell_type": "markdown",
   "metadata": {},
   "source": [
    "## 1. Bar chart"
   ]
  },
  {
   "attachments": {},
   "cell_type": "markdown",
   "metadata": {},
   "source": [
    "This code is changing some columns to a alarm date and arrival time format and figuring out the time difference between two of those columns. "
   ]
  },
  {
   "attachments": {},
   "cell_type": "markdown",
   "metadata": {},
   "source": [
    "This code calculates the average (mean) arrival time for a dataset. It uses the mean() method to calculate the average of the \"Arrive time_minutes\" column of the DataFrame df, which was created in the previous code block by subtracting the \"Alarm DtTm\" column from the \"Arrival DtTm\" column."
   ]
  },
  {
   "attachments": {},
   "cell_type": "markdown",
   "metadata": {},
   "source": [
    "The code down below calculates the average arrival time of fire department units to emergency incidents, grouped by battalion."
   ]
  },
  {
   "cell_type": "code",
   "execution_count": 23,
   "metadata": {},
   "outputs": [],
   "source": [
    "\n"
   ]
  },
  {
   "attachments": {},
   "cell_type": "markdown",
   "metadata": {},
   "source": [
    "This code generates a bar chart using the Plotly library to visualize the average arrival time of different fire departments or \"battalions\" to a fire scene."
   ]
  },
  {
   "attachments": {},
   "cell_type": "markdown",
   "metadata": {},
   "source": [
    "## 3. Polar bar chart."
   ]
  },
  {
   "attachments": {},
   "cell_type": "markdown",
   "metadata": {},
   "source": [
    "This code is creating a polar plot that shows the hourly counts of alarms in the year 2022. "
   ]
  },
  {
   "attachments": {},
   "cell_type": "markdown",
   "metadata": {},
   "source": [
    "_____________________________________"
   ]
  },
  {
   "attachments": {},
   "cell_type": "markdown",
   "metadata": {},
   "source": [
    "## Part 3\n"
   ]
  },
  {
   "cell_type": "markdown",
   "metadata": {
    "collapsed": false
   },
   "source": [
    "1. Filter the data from a DataFrame \"df\" by Battalion and Incident Date, selecting only the rows with a Battalion value within a certain list and within a certain date range.\n",
    "2. Create a new column \"Year\" in the filtered DataFrame with the year of the incident.\n",
    "3. Group the filtered DataFrame by Battalion and Year and count the number of incidents per group, resetting the index to create a new DataFrame.\n",
    "4. Pivot the grouped DataFrame to create a table with Battalion as rows and Year as columns.\n",
    "5. Create a stacked bar chart with the pivoted DataFrame, with the year on the x-axis and the number of incidents on the y-axis, and with each Battalion's contribution to the total number of alarms stacked on top of each other.\n",
    "6. Add a title and labels to the chart.\n",
    "7. Move the legend outside the plot area.\n",
    "8. Add hover effects to the plot using mplcursors. When hovering over a stacked bar in the plot, display a label with the Battalion name, Year, and Count of alarms for that Battalion in that year.\n",
    "9.\n",
    "10. Show the completed plot.\n",
    "\n",
    "In summary, this code filters and pivots data from a DataFrame to create a stacked bar chart showing the total number of alarms for all battalions per year, and adds hover effects to show more information about each bar."
   ]
  },
  {
   "cell_type": "markdown",
   "metadata": {
    "collapsed": false
   },
   "source": [
    "This code generates a calendar plot showing the number of fire incidents that occurred on each day within a given date range. It also adds a hover effect to display the exact count for each date.\n",
    "\n",
    "Here's what the code does step by step:\n",
    "\n",
    "1. Import necessary libraries: matplotlib.pyplot, calplot, and mplcursors.\n",
    "2. Group the fire incidents by date and count the number of incidents on each date.\n",
    "3. Filter out dates with zero incidents.\n",
    "4. Create a Pandas Series using the date range from \"2010-04-01\" to \"2023-04-01\" with a frequency of one day.\n",
    "5. Create a calendar plot using calplot, using the counts from step 2 as input data and setting the colormap to 'cool'.\n",
    "6. Add a hover effect to the plot using mplcursors. The function on_add() is called when a cursor is added to the plot. It extracts the index and value of the selected date and sets the text of the annotation to display the date and its count."
   ]
  },
  {
   "cell_type": "markdown",
   "metadata": {
    "collapsed": false
   },
   "source": [
    "This code reads in a dataframe df and calculates the average response time for the top 10 most frequent unique values in the 'Primary Situation' column, broken down by year. It then creates a line chart showing the trend of average response time for each situation from 2010 to 2023.\n",
    "\n",
    "To achieve this, the code first gets the top 10 most frequent unique values in the 'Primary Situation' column and replaces the missing values in the 'Arrival DtTm' column with the string 'Missing'. It then creates a dictionary situation_data to store the average response time data for each situation.\n",
    "\n",
    "The code then loops through each year from 2010 to 2023, selects rows from the dataframe that begin with the current year, and calculates the average response time for each situation in that year. It appends the average response time to the corresponding list in situation_data.\n",
    "\n",
    "Finally, the code creates a line chart using matplotlib to show the trend of average response time for each situation from 2010 to 2023. It adds a legend, x-axis label and tick labels, y-axis label, and an information box. It also adds hover effects using mplcursors to display the details for each point on the chart. The resulting chart allows the viewer to compare the trends in average response time for different situations over time."
   ]
  },
  {
   "cell_type": "markdown",
   "metadata": {
    "collapsed": false
   },
   "source": [
    "This code creates a new Pandas DataFrame called neighborhoods_df that contains the unique values from the \"neighborhood_district\" column of an existing DataFrame called df. The pd.DataFrame() function is used to create the new DataFrame, passing in the array of unique values from the \"neighborhood_district\" column as the first argument, and specifying the name of the new column as \"neighborhood_district\" using the columns parameter.\n",
    "\n",
    "Finally, the print() function is used to display the new DataFrame to the console. This will output the unique values from the \"neighborhood_district\" column of the original DataFrame df, with each unique value appearing in its own row under the \"neighborhood_district\" column header."
   ]
  },
  {
   "cell_type": "markdown",
   "metadata": {
    "collapsed": false
   },
   "source": [
    "End"
   ]
  }
 ],
 "metadata": {
  "kernelspec": {
   "display_name": "Python 3",
   "language": "python",
   "name": "python3"
  },
  "language_info": {
   "codemirror_mode": {
    "name": "ipython",
    "version": 3
   },
   "file_extension": ".py",
   "mimetype": "text/x-python",
   "name": "python",
   "nbconvert_exporter": "python",
   "pygments_lexer": "ipython3",
   "version": "3.11.1"
  }
 },
 "nbformat": 4,
 "nbformat_minor": 0
}
