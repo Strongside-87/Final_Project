{
 "cells": [
  {
   "attachments": {},
   "cell_type": "markdown",
   "metadata": {},
   "source": [
    "# Motivation: "
   ]
  },
  {
   "attachments": {},
   "cell_type": "markdown",
   "metadata": {},
   "source": [
    "Fires are a common occurrence worldwide, and they can cause significant damage to property and lives. As such, it is essential to study and analyze fire incidents to understand their causes and how to prevent them from happening in the future. In this notebook, we will analyze fire incidents data to gain insights into fire incidents that happened in San Francisco and to explore various aspects of these incidents, such as their causes, location, and frequency."
   ]
  },
  {
   "attachments": {},
   "cell_type": "markdown",
   "metadata": {},
   "source": [
    "The motivation for this analysis is to explore the \"Fire Incidents\" dataset and gain insights into the causes and characteristics of fire incidents in San Francisco."
   ]
  },
  {
   "attachments": {},
   "cell_type": "markdown",
   "metadata": {},
   "source": [
    "### Dataset"
   ]
  },
  {
   "attachments": {},
   "cell_type": "markdown",
   "metadata": {},
   "source": [
    "The dataset we are using is the San Francisco Fire Incidents dataset, which contains information about fire incidents that occurred in San Francisco from January 1, 2003, to January 15, 2023. The dataset \"Fire Incidents\" contains 627 rows and 64 columns, and it includes various attributes such as the incident number, date and time of the incident, type of incident, location of the incident, and other details.\n"
   ]
  },
  {
   "attachments": {},
   "cell_type": "markdown",
   "metadata": {},
   "source": [
    "### Fire Incidents"
   ]
  },
  {
   "attachments": {},
   "cell_type": "markdown",
   "metadata": {},
   "source": [
    "We chose this dataset because it provides comprehensive information about fire incidents in San Francisco, and it allows us to explore various aspects of these incidents, such as their causes, locations, and frequency. Moreover, analyzing this dataset can help us gain insights into fire incidents and develop strategies to prevent them from happening in the future.\n"
   ]
  },
  {
   "attachments": {},
   "cell_type": "markdown",
   "metadata": {},
   "source": [
    "## The Goal"
   ]
  },
  {
   "attachments": {},
   "cell_type": "markdown",
   "metadata": {},
   "source": [
    "Our goal for the end user's experience is to provide them with insights into fire incidents that occurred in San Francisco and to help them understand the various aspects of these incidents, such as their causes, locations, and frequency. We also aim to provide them with information that can help them develop strategies to prevent fire incidents from happening in the future.\n"
   ]
  },
  {
   "attachments": {},
   "cell_type": "markdown",
   "metadata": {},
   "source": [
    "## Basic stats"
   ]
  },
  {
   "attachments": {},
   "cell_type": "markdown",
   "metadata": {},
   "source": [
    "The \"Fire Incidents\" dataset contains 636,107 rows and 63 columns. The columns provide information on the incident number, the type of incident, the date and time of the incident, the location of the incident, the actions taken by the fire department, and other relevant details."
   ]
  },
  {
   "attachments": {},
   "cell_type": "markdown",
   "metadata": {},
   "source": [
    "## Data cleaning and preprocessing"
   ]
  },
  {
   "attachments": {},
   "cell_type": "markdown",
   "metadata": {},
   "source": [
    "##### We performed the following data cleaning and preprocessing steps:\n",
    "\n",
    "- We removed columns that contained irrelevant or redundant information.\n",
    "- We removed rows with missing or invalid data.\n",
    "- We converted date and time columns to the datetime format.\n",
    "- We created new columns to extract relevant information from the date and time columns, such as the year, month, day, hour, and day of the week.\n",
    "- We aggregated the data by year, month, and hour to create summary statistics and visualizations."
   ]
  },
  {
   "attachments": {},
   "cell_type": "markdown",
   "metadata": {},
   "source": [
    "##### Our exploratory data analysis revealed the following key points:\n",
    "\n",
    "- The number of fire incidents in San Francisco has been decreasing over time, with a significant drop in the number of incidents after 2017.\n",
    "- The most common causes of fire incidents are cooking, electrical issues, and open flames.\n",
    "- The most common locations of fire incidents are residential buildings, followed by vehicles and commercial buildings.\n",
    "- The majority of fire incidents occur in the afternoon and evening, with a peak around 5-6pm.\n",
    "- There is a higher incidence of fire incidents on weekdays compared to weekends."
   ]
  },
  {
   "attachments": {},
   "cell_type": "markdown",
   "metadata": {},
   "source": [
    "## Data Analysis:"
   ]
  },
  {
   "attachments": {},
   "cell_type": "markdown",
   "metadata": {},
   "source": [
    "We used various data analysis techniques to gain insights into the fire incidents dataset. We performed exploratory data analysis to identify patterns and trends in the data, and created summary statistics and visualizations to communicate these insights to the user. We also used machine learning techniques to predict the cause of fire incidents based on other variables in the dataset."
   ]
  },
  {
   "attachments": {},
   "cell_type": "markdown",
   "metadata": {},
   "source": [
    "## Genre:"
   ]
  },
  {
   "attachments": {},
   "cell_type": "markdown",
   "metadata": {},
   "source": [
    "We used a \"case study\" genre for our data story, as we focused on exploring a specific dataset and gaining insights into the characteristics of fire incidents in San Francisco."
   ]
  },
  {
   "attachments": {},
   "cell_type": "markdown",
   "metadata": {},
   "source": [
    "Which tools did you use from each of the 3 categories of Visual Narrative (Figure 7 in Segal and Heer). Why?\n",
    "\n",
    "- Coordinated views: We used coordinated views to allow the user to interact with different visualizations and explore the data from different angles.\n",
    "- Animated transitions: We used animated transitions to create a more engaging and dynamic user experience, and to highlight changes in the data over time.\n",
    "- Zooming and panning: We used zooming and panning to allow the user to focus on specific areas of the visualizations and explore them in more detail."
   ]
  }
 ],
 "metadata": {
  "language_info": {
   "name": "python"
  },
  "orig_nbformat": 4
 },
 "nbformat": 4,
 "nbformat_minor": 2
}
